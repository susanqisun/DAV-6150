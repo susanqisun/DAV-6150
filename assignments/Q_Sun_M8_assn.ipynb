{
 "cells": [
  {
   "cell_type": "markdown",
   "metadata": {},
   "source": [
    "## DAV 6150 Module 8\n",
    "\n",
    "### - individually completed by Qi Sun\n",
    "\n",
    "***\n",
    "\n",
    "## Introduction:\n",
    "\n",
    "\n",
    "The purpose of this study is to predict if the mortgage application will be denied (dependent variable). The data was collected by Federal Reserve Bank of Boston from 1997-1998. This dataset is comprised of 2381 observations. \n",
    "\n",
    "I'll use KNN and SVM to create different models that can predict a class (denied/not denied) based on the features. \n",
    "\n",
    "\n",
    "**Variables:**\n",
    "\n",
    "| Variable Name | Description |\n",
    "| --- | --- |\n",
    "| dir | debt payments to total income ratio |\n",
    "| hir | housing expenses to income ratio |\n",
    "| lvr | ratio of size of loan to assessed value of property |\n",
    "| ccs | consumer credit score from 1 to 6 (a low value being a good score) |\n",
    "| mcs | mortgage credit score from 1 to 4 (a low value being a good score) |\n",
    "| pbcr | public bad credit record ? |\n",
    "| dmi | denied mortgage insurance ? |\n",
    "| self | self employed ? |\n",
    "| single | is the applicant single ?|\n",
    "| uria | 1989 Massachusetts unemployment rate in the applicant's industry |\n",
    "| condominium | is unit a condominium ? (was called comdominiom in version 0.2-9 and earlier versions of the package) |\n",
    "| black | is the applicant black ? |\n",
    "| deny (dependent variable) | mortgage application denied ? |\n",
    "\n",
    "\n",
    "For the column 'black', we'll use African American for this column in this study.\n",
    "\n",
    "\n",
    "**Domain Knowledge:**\n",
    "\n",
    "\n",
    "All features below could be the factors of the denied mortgage:\n",
    "\n",
    "1. debt-to-income ratio (**dir**) is all the monthly debt payments divided by the gross monthly income. \n",
    "\n",
    "2. housing expenses to income ratio (**hir**) is the percentage of the gross monthly income devoted to housing expenses. The lender will likely deny the loan application because applicant monthly expenses for housing and various debts are too high as compared to applicant income.\n",
    "https://www.quickenloans.com/mortgage-glossary/housing-expense-ratio\n",
    "\n",
    "\n",
    "3. loan-to-value (**lvr**) ratio is an assessment of lending risk that financial institutions and other lenders examine before approving a mortgage. Typically, loan assessments with high loan-to-value ratios are considered higher risk loans. \n",
    "https://www.thebalance.com/loan-to-value-ratio-315629\n",
    "\n",
    "\n",
    "4. consumer credit score (**ccs**) is one of the most important factors lenders consider when people apply for a mortgage. It is the #1 reason a mortgage gets denied.\n",
    "https://www.bankrate.com/mortgages/how-your-credit-score-affects-your-mortgage-rate/\n",
    "\n",
    "\n",
    "5. public bad credit record (**pbcr**) - public record appears on the credit report. Negative public records can include --tax liens, judgments, bankruptcies--that provide insight into applicant financial status and obligations. The lender will likely deny the mortgage application due to the bad public credit record.\n",
    "https://www.usa.gov/credit-reports\n",
    "\n",
    "\n",
    "6. denied mortgage insurance (**dmi**): borrowers making a down payment of less than 20 percent of the purchase price of the home will need to pay for mortgage insurance. Mortgage insurance can be denied due to a large collection account. If the mortgage insurance get denied, the only option for mortgage applicant is to put 20% down. \n",
    "\n",
    "\n",
    "7. is self employed (**self**)? for the self employed, it can be difficult to get a mortgage because the applicant may not have tax returns, W-2s, and paycheck stubs to prove the full amount.\n",
    "\n",
    "\n",
    "8. is the applicant single (**single**)? because single mortgage applicants rely on one salary and one credit profile in order to secure a loan, getting through the underwriting process can be a bit trickier\n",
    "https://www.investopedia.com/articles/investing/010717/buying-house-single-income.asp\n",
    "\n",
    "\n",
    "9. **uria** is the probability of unemployment. With unemployment rising, the probability of a borrower could fall behind on their mortgages. \n",
    "\n",
    "\n",
    "10. is unit a condominium (**condominium**)? Appraisers divide condos into additional categories, which can affect mortgage approval and financing costs. Typically, lenders consider high-rise buildings bigger risks than shorter projects.\n",
    "https://themortgagereports.com/24008/townhome-condo-how-your-property-type-affects-your-home-loan-approval\n",
    "\n",
    "\n",
    "11. is the applicant black? Black applicants for a conventional mortgage are denied at more than twice the rate as white applicants.\n",
    "https://www.zillow.com/research/black-white-mortgage-denials-19616/\n",
    "\n",
    "\n",
    "According to Home Mortgage Disclosure Act data released by CoreLogic, top 8 reasons for denying mortgage applicantions include high debt-to-income (dir) ratios, low credit scores (ccs), Loan-to-value (lvr) ratio is too high / appraisal came back low, insufficient cash for down payment, denied mortgage insurance (dmi), credit application incomplete, unreliable information, and employment history.\n",
    "https://themortgagereports.com/56676/top-two-reasons-mortgage-applications-denied-how-to-avoid-them\n",
    "\n",
    "**Model:**\n",
    "\n",
    "I'll use knn and SVM to build models, and tune models using `GridSearchCV` to improve the model. Lastly, I'll use `SHAP` to rank the feature importance for the final selected model.\n",
    "\n",
    "\n",
    "***"
   ]
  },
  {
   "cell_type": "code",
   "execution_count": 3,
   "metadata": {
    "ExecuteTime": {
     "end_time": "2020-07-12T10:40:08.490634Z",
     "start_time": "2020-07-12T10:40:08.475522Z"
    }
   },
   "outputs": [],
   "source": [
    "# Importing required libraries.\n",
    "import pandas as pd\n",
    "import numpy as np\n",
    "\n",
    "import seaborn as sns #visualisation\n",
    "import matplotlib.pyplot as plt #visualisation\n",
    "%matplotlib inline \n",
    "sns.set(color_codes=True)\n",
    "\n",
    "from sklearn.model_selection import train_test_split\n",
    "from sklearn.linear_model import LogisticRegression\n",
    "\n",
    "import statsmodels.api as sm\n",
    "from sklearn.preprocessing import StandardScaler\n",
    "\n",
    "from sklearn.neighbors import KNeighborsClassifier\n",
    "from sklearn.metrics import classification_report\n",
    "from sklearn.model_selection import GridSearchCV\n",
    "from sklearn.model_selection import cross_val_score\n",
    "from sklearn.svm import SVC\n",
    "\n",
    "from sklearn import metrics\n",
    "from sklearn.metrics import accuracy_score\n",
    "from sklearn.metrics import precision_score, recall_score, confusion_matrix\n",
    "from sklearn.metrics import f1_score, roc_auc_score, roc_curve\n"
   ]
  },
  {
   "cell_type": "markdown",
   "metadata": {},
   "source": [
    "### Step 1: Load data \n",
    "\n",
    "`.head()` returns the first 5 rows of the dataset. \n"
   ]
  },
  {
   "cell_type": "code",
   "execution_count": 4,
   "metadata": {
    "ExecuteTime": {
     "end_time": "2020-07-12T10:40:13.239943Z",
     "start_time": "2020-07-12T10:40:12.461584Z"
    }
   },
   "outputs": [
    {
     "data": {
      "text/html": [
       "<div>\n",
       "<style scoped>\n",
       "    .dataframe tbody tr th:only-of-type {\n",
       "        vertical-align: middle;\n",
       "    }\n",
       "\n",
       "    .dataframe tbody tr th {\n",
       "        vertical-align: top;\n",
       "    }\n",
       "\n",
       "    .dataframe thead th {\n",
       "        text-align: right;\n",
       "    }\n",
       "</style>\n",
       "<table border=\"1\" class=\"dataframe\">\n",
       "  <thead>\n",
       "    <tr style=\"text-align: right;\">\n",
       "      <th></th>\n",
       "      <th>Unnamed: 0</th>\n",
       "      <th>dir</th>\n",
       "      <th>hir</th>\n",
       "      <th>lvr</th>\n",
       "      <th>ccs</th>\n",
       "      <th>mcs</th>\n",
       "      <th>pbcr</th>\n",
       "      <th>dmi</th>\n",
       "      <th>self</th>\n",
       "      <th>single</th>\n",
       "      <th>uria</th>\n",
       "      <th>comdominiom</th>\n",
       "      <th>black</th>\n",
       "      <th>deny</th>\n",
       "    </tr>\n",
       "  </thead>\n",
       "  <tbody>\n",
       "    <tr>\n",
       "      <th>0</th>\n",
       "      <td>1</td>\n",
       "      <td>0.221</td>\n",
       "      <td>0.221</td>\n",
       "      <td>0.800000</td>\n",
       "      <td>5.0</td>\n",
       "      <td>2.0</td>\n",
       "      <td>no</td>\n",
       "      <td>no</td>\n",
       "      <td>no</td>\n",
       "      <td>no</td>\n",
       "      <td>3.9</td>\n",
       "      <td>0</td>\n",
       "      <td>no</td>\n",
       "      <td>no</td>\n",
       "    </tr>\n",
       "    <tr>\n",
       "      <th>1</th>\n",
       "      <td>2</td>\n",
       "      <td>0.265</td>\n",
       "      <td>0.265</td>\n",
       "      <td>0.921875</td>\n",
       "      <td>2.0</td>\n",
       "      <td>2.0</td>\n",
       "      <td>no</td>\n",
       "      <td>no</td>\n",
       "      <td>no</td>\n",
       "      <td>yes</td>\n",
       "      <td>3.2</td>\n",
       "      <td>0</td>\n",
       "      <td>no</td>\n",
       "      <td>no</td>\n",
       "    </tr>\n",
       "    <tr>\n",
       "      <th>2</th>\n",
       "      <td>3</td>\n",
       "      <td>0.372</td>\n",
       "      <td>0.248</td>\n",
       "      <td>0.920398</td>\n",
       "      <td>1.0</td>\n",
       "      <td>2.0</td>\n",
       "      <td>no</td>\n",
       "      <td>no</td>\n",
       "      <td>no</td>\n",
       "      <td>no</td>\n",
       "      <td>3.2</td>\n",
       "      <td>0</td>\n",
       "      <td>no</td>\n",
       "      <td>no</td>\n",
       "    </tr>\n",
       "    <tr>\n",
       "      <th>3</th>\n",
       "      <td>4</td>\n",
       "      <td>0.320</td>\n",
       "      <td>0.250</td>\n",
       "      <td>0.860465</td>\n",
       "      <td>1.0</td>\n",
       "      <td>2.0</td>\n",
       "      <td>no</td>\n",
       "      <td>no</td>\n",
       "      <td>no</td>\n",
       "      <td>no</td>\n",
       "      <td>4.3</td>\n",
       "      <td>0</td>\n",
       "      <td>no</td>\n",
       "      <td>no</td>\n",
       "    </tr>\n",
       "    <tr>\n",
       "      <th>4</th>\n",
       "      <td>5</td>\n",
       "      <td>0.360</td>\n",
       "      <td>0.350</td>\n",
       "      <td>0.600000</td>\n",
       "      <td>1.0</td>\n",
       "      <td>1.0</td>\n",
       "      <td>no</td>\n",
       "      <td>no</td>\n",
       "      <td>no</td>\n",
       "      <td>no</td>\n",
       "      <td>3.2</td>\n",
       "      <td>0</td>\n",
       "      <td>no</td>\n",
       "      <td>no</td>\n",
       "    </tr>\n",
       "  </tbody>\n",
       "</table>\n",
       "</div>"
      ],
      "text/plain": [
       "   Unnamed: 0    dir    hir       lvr  ccs  mcs pbcr dmi self single  uria  \\\n",
       "0           1  0.221  0.221  0.800000  5.0  2.0   no  no   no     no   3.9   \n",
       "1           2  0.265  0.265  0.921875  2.0  2.0   no  no   no    yes   3.2   \n",
       "2           3  0.372  0.248  0.920398  1.0  2.0   no  no   no     no   3.2   \n",
       "3           4  0.320  0.250  0.860465  1.0  2.0   no  no   no     no   4.3   \n",
       "4           5  0.360  0.350  0.600000  1.0  1.0   no  no   no     no   3.2   \n",
       "\n",
       "   comdominiom black deny  \n",
       "0            0    no   no  \n",
       "1            0    no   no  \n",
       "2            0    no   no  \n",
       "3            0    no   no  \n",
       "4            0    no   no  "
      ]
     },
     "execution_count": 4,
     "metadata": {},
     "output_type": "execute_result"
    }
   ],
   "source": [
    "# read data from Github\n",
    "df = pd.read_csv(\"https://raw.githubusercontent.com/susanqisun/DAV-6150/master/assignments/M7/M7_Data.csv\")\n",
    "\n",
    "# To display the top 5 rows\n",
    "df.head()\n"
   ]
  },
  {
   "cell_type": "markdown",
   "metadata": {},
   "source": [
    "***\n",
    "### Step 2: Exploratory Data Analysis\n",
    "\n",
    "#### 1. Data description:\n",
    "`.shape` returns the number of rows by the number of columns for the dataset. My output was (2381, 14), meaning the dataset has 2381 rows and 14 columns.\n",
    "\n",
    "`.nunique(axis=0)` returns the number of unique values for each variable.\n",
    "\n",
    "`.describe()` summarizes the count, mean, standard deviation, min, and max for numeric variables. \n",
    "\n",
    "`.isnull().sum()` returns the columns and the number of missing values."
   ]
  },
  {
   "cell_type": "code",
   "execution_count": 5,
   "metadata": {
    "ExecuteTime": {
     "end_time": "2020-07-12T10:40:17.947727Z",
     "start_time": "2020-07-12T10:40:17.941583Z"
    }
   },
   "outputs": [
    {
     "name": "stdout",
     "output_type": "stream",
     "text": [
      "(2381, 14)\n",
      "['Unnamed: 0', 'dir', 'hir', 'lvr', 'ccs', 'mcs', 'pbcr', 'dmi', 'self', 'single', 'uria', 'comdominiom', 'black', 'deny']\n"
     ]
    }
   ],
   "source": [
    "print(df.shape)\n",
    "print(list(df.columns))"
   ]
  },
  {
   "cell_type": "code",
   "execution_count": 6,
   "metadata": {
    "ExecuteTime": {
     "end_time": "2020-07-12T10:40:20.355702Z",
     "start_time": "2020-07-12T10:40:20.301884Z"
    }
   },
   "outputs": [
    {
     "data": {
      "text/html": [
       "<div>\n",
       "<style scoped>\n",
       "    .dataframe tbody tr th:only-of-type {\n",
       "        vertical-align: middle;\n",
       "    }\n",
       "\n",
       "    .dataframe tbody tr th {\n",
       "        vertical-align: top;\n",
       "    }\n",
       "\n",
       "    .dataframe thead th {\n",
       "        text-align: right;\n",
       "    }\n",
       "</style>\n",
       "<table border=\"1\" class=\"dataframe\">\n",
       "  <thead>\n",
       "    <tr style=\"text-align: right;\">\n",
       "      <th></th>\n",
       "      <th>count</th>\n",
       "      <th>mean</th>\n",
       "      <th>std</th>\n",
       "      <th>min</th>\n",
       "      <th>25%</th>\n",
       "      <th>50%</th>\n",
       "      <th>75%</th>\n",
       "      <th>max</th>\n",
       "    </tr>\n",
       "  </thead>\n",
       "  <tbody>\n",
       "    <tr>\n",
       "      <th>Unnamed: 0</th>\n",
       "      <td>2381.0</td>\n",
       "      <td>1191.000000</td>\n",
       "      <td>687.479818</td>\n",
       "      <td>1.00</td>\n",
       "      <td>596.00000</td>\n",
       "      <td>1191.000000</td>\n",
       "      <td>1786.000000</td>\n",
       "      <td>2381.00</td>\n",
       "    </tr>\n",
       "    <tr>\n",
       "      <th>dir</th>\n",
       "      <td>2381.0</td>\n",
       "      <td>0.330814</td>\n",
       "      <td>0.107235</td>\n",
       "      <td>0.00</td>\n",
       "      <td>0.28000</td>\n",
       "      <td>0.330000</td>\n",
       "      <td>0.370000</td>\n",
       "      <td>3.00</td>\n",
       "    </tr>\n",
       "    <tr>\n",
       "      <th>hir</th>\n",
       "      <td>2381.0</td>\n",
       "      <td>0.255346</td>\n",
       "      <td>0.096635</td>\n",
       "      <td>0.00</td>\n",
       "      <td>0.21400</td>\n",
       "      <td>0.260000</td>\n",
       "      <td>0.298800</td>\n",
       "      <td>3.00</td>\n",
       "    </tr>\n",
       "    <tr>\n",
       "      <th>lvr</th>\n",
       "      <td>2381.0</td>\n",
       "      <td>0.737760</td>\n",
       "      <td>0.178715</td>\n",
       "      <td>0.02</td>\n",
       "      <td>0.65285</td>\n",
       "      <td>0.779412</td>\n",
       "      <td>0.868421</td>\n",
       "      <td>1.95</td>\n",
       "    </tr>\n",
       "    <tr>\n",
       "      <th>ccs</th>\n",
       "      <td>2381.0</td>\n",
       "      <td>2.116387</td>\n",
       "      <td>1.666370</td>\n",
       "      <td>1.00</td>\n",
       "      <td>1.00000</td>\n",
       "      <td>1.000000</td>\n",
       "      <td>2.000000</td>\n",
       "      <td>6.00</td>\n",
       "    </tr>\n",
       "    <tr>\n",
       "      <th>mcs</th>\n",
       "      <td>2381.0</td>\n",
       "      <td>1.721008</td>\n",
       "      <td>0.537169</td>\n",
       "      <td>1.00</td>\n",
       "      <td>1.00000</td>\n",
       "      <td>2.000000</td>\n",
       "      <td>2.000000</td>\n",
       "      <td>4.00</td>\n",
       "    </tr>\n",
       "    <tr>\n",
       "      <th>uria</th>\n",
       "      <td>2381.0</td>\n",
       "      <td>3.774496</td>\n",
       "      <td>2.026636</td>\n",
       "      <td>1.80</td>\n",
       "      <td>3.10000</td>\n",
       "      <td>3.200000</td>\n",
       "      <td>3.900000</td>\n",
       "      <td>10.60</td>\n",
       "    </tr>\n",
       "    <tr>\n",
       "      <th>comdominiom</th>\n",
       "      <td>2381.0</td>\n",
       "      <td>0.288114</td>\n",
       "      <td>0.452980</td>\n",
       "      <td>0.00</td>\n",
       "      <td>0.00000</td>\n",
       "      <td>0.000000</td>\n",
       "      <td>1.000000</td>\n",
       "      <td>1.00</td>\n",
       "    </tr>\n",
       "  </tbody>\n",
       "</table>\n",
       "</div>"
      ],
      "text/plain": [
       "              count         mean         std   min        25%          50%  \\\n",
       "Unnamed: 0   2381.0  1191.000000  687.479818  1.00  596.00000  1191.000000   \n",
       "dir          2381.0     0.330814    0.107235  0.00    0.28000     0.330000   \n",
       "hir          2381.0     0.255346    0.096635  0.00    0.21400     0.260000   \n",
       "lvr          2381.0     0.737760    0.178715  0.02    0.65285     0.779412   \n",
       "ccs          2381.0     2.116387    1.666370  1.00    1.00000     1.000000   \n",
       "mcs          2381.0     1.721008    0.537169  1.00    1.00000     2.000000   \n",
       "uria         2381.0     3.774496    2.026636  1.80    3.10000     3.200000   \n",
       "comdominiom  2381.0     0.288114    0.452980  0.00    0.00000     0.000000   \n",
       "\n",
       "                     75%      max  \n",
       "Unnamed: 0   1786.000000  2381.00  \n",
       "dir             0.370000     3.00  \n",
       "hir             0.298800     3.00  \n",
       "lvr             0.868421     1.95  \n",
       "ccs             2.000000     6.00  \n",
       "mcs             2.000000     4.00  \n",
       "uria            3.900000    10.60  \n",
       "comdominiom     1.000000     1.00  "
      ]
     },
     "execution_count": 6,
     "metadata": {},
     "output_type": "execute_result"
    }
   ],
   "source": [
    "df.describe().T"
   ]
  },
  {
   "cell_type": "code",
   "execution_count": 7,
   "metadata": {
    "ExecuteTime": {
     "end_time": "2020-07-12T10:40:24.725588Z",
     "start_time": "2020-07-12T10:40:24.653275Z"
    }
   },
   "outputs": [
    {
     "name": "stderr",
     "output_type": "stream",
     "text": [
      "/Users/yangyang/opt/anaconda3/lib/python3.7/site-packages/pandas/core/ops/array_ops.py:253: FutureWarning: elementwise comparison failed; returning scalar instead, but in the future will perform elementwise comparison\n",
      "  res_values = method(rvalues)\n"
     ]
    },
    {
     "data": {
      "text/html": [
       "<div>\n",
       "<style scoped>\n",
       "    .dataframe tbody tr th:only-of-type {\n",
       "        vertical-align: middle;\n",
       "    }\n",
       "\n",
       "    .dataframe tbody tr th {\n",
       "        vertical-align: top;\n",
       "    }\n",
       "\n",
       "    .dataframe thead th {\n",
       "        text-align: right;\n",
       "    }\n",
       "</style>\n",
       "<table border=\"1\" class=\"dataframe\">\n",
       "  <thead>\n",
       "    <tr style=\"text-align: right;\">\n",
       "      <th></th>\n",
       "      <th>Dtype</th>\n",
       "      <th>Nunique</th>\n",
       "      <th>MissingValues</th>\n",
       "      <th>Count</th>\n",
       "      <th>ZeroValues</th>\n",
       "      <th>?Values</th>\n",
       "    </tr>\n",
       "  </thead>\n",
       "  <tbody>\n",
       "    <tr>\n",
       "      <th>Unnamed: 0</th>\n",
       "      <td>int64</td>\n",
       "      <td>2381</td>\n",
       "      <td>0</td>\n",
       "      <td>2381</td>\n",
       "      <td>0</td>\n",
       "      <td>0</td>\n",
       "    </tr>\n",
       "    <tr>\n",
       "      <th>dir</th>\n",
       "      <td>float64</td>\n",
       "      <td>520</td>\n",
       "      <td>0</td>\n",
       "      <td>2381</td>\n",
       "      <td>1</td>\n",
       "      <td>0</td>\n",
       "    </tr>\n",
       "    <tr>\n",
       "      <th>hir</th>\n",
       "      <td>float64</td>\n",
       "      <td>501</td>\n",
       "      <td>0</td>\n",
       "      <td>2381</td>\n",
       "      <td>3</td>\n",
       "      <td>0</td>\n",
       "    </tr>\n",
       "    <tr>\n",
       "      <th>lvr</th>\n",
       "      <td>float64</td>\n",
       "      <td>1538</td>\n",
       "      <td>0</td>\n",
       "      <td>2381</td>\n",
       "      <td>0</td>\n",
       "      <td>0</td>\n",
       "    </tr>\n",
       "    <tr>\n",
       "      <th>ccs</th>\n",
       "      <td>float64</td>\n",
       "      <td>7</td>\n",
       "      <td>0</td>\n",
       "      <td>2381</td>\n",
       "      <td>0</td>\n",
       "      <td>0</td>\n",
       "    </tr>\n",
       "    <tr>\n",
       "      <th>mcs</th>\n",
       "      <td>float64</td>\n",
       "      <td>5</td>\n",
       "      <td>0</td>\n",
       "      <td>2381</td>\n",
       "      <td>0</td>\n",
       "      <td>0</td>\n",
       "    </tr>\n",
       "    <tr>\n",
       "      <th>pbcr</th>\n",
       "      <td>object</td>\n",
       "      <td>2</td>\n",
       "      <td>1</td>\n",
       "      <td>2380</td>\n",
       "      <td>0</td>\n",
       "      <td>0</td>\n",
       "    </tr>\n",
       "    <tr>\n",
       "      <th>dmi</th>\n",
       "      <td>object</td>\n",
       "      <td>2</td>\n",
       "      <td>0</td>\n",
       "      <td>2381</td>\n",
       "      <td>0</td>\n",
       "      <td>0</td>\n",
       "    </tr>\n",
       "    <tr>\n",
       "      <th>self</th>\n",
       "      <td>object</td>\n",
       "      <td>2</td>\n",
       "      <td>1</td>\n",
       "      <td>2380</td>\n",
       "      <td>0</td>\n",
       "      <td>0</td>\n",
       "    </tr>\n",
       "    <tr>\n",
       "      <th>single</th>\n",
       "      <td>object</td>\n",
       "      <td>2</td>\n",
       "      <td>0</td>\n",
       "      <td>2381</td>\n",
       "      <td>0</td>\n",
       "      <td>0</td>\n",
       "    </tr>\n",
       "    <tr>\n",
       "      <th>uria</th>\n",
       "      <td>float64</td>\n",
       "      <td>11</td>\n",
       "      <td>0</td>\n",
       "      <td>2381</td>\n",
       "      <td>0</td>\n",
       "      <td>0</td>\n",
       "    </tr>\n",
       "    <tr>\n",
       "      <th>comdominiom</th>\n",
       "      <td>int64</td>\n",
       "      <td>2</td>\n",
       "      <td>0</td>\n",
       "      <td>2381</td>\n",
       "      <td>1695</td>\n",
       "      <td>0</td>\n",
       "    </tr>\n",
       "    <tr>\n",
       "      <th>black</th>\n",
       "      <td>object</td>\n",
       "      <td>2</td>\n",
       "      <td>0</td>\n",
       "      <td>2381</td>\n",
       "      <td>0</td>\n",
       "      <td>0</td>\n",
       "    </tr>\n",
       "    <tr>\n",
       "      <th>deny</th>\n",
       "      <td>object</td>\n",
       "      <td>2</td>\n",
       "      <td>0</td>\n",
       "      <td>2381</td>\n",
       "      <td>0</td>\n",
       "      <td>0</td>\n",
       "    </tr>\n",
       "  </tbody>\n",
       "</table>\n",
       "</div>"
      ],
      "text/plain": [
       "               Dtype  Nunique  MissingValues  Count  ZeroValues  ?Values\n",
       "Unnamed: 0     int64     2381              0   2381           0        0\n",
       "dir          float64      520              0   2381           1        0\n",
       "hir          float64      501              0   2381           3        0\n",
       "lvr          float64     1538              0   2381           0        0\n",
       "ccs          float64        7              0   2381           0        0\n",
       "mcs          float64        5              0   2381           0        0\n",
       "pbcr          object        2              1   2380           0        0\n",
       "dmi           object        2              0   2381           0        0\n",
       "self          object        2              1   2380           0        0\n",
       "single        object        2              0   2381           0        0\n",
       "uria         float64       11              0   2381           0        0\n",
       "comdominiom    int64        2              0   2381        1695        0\n",
       "black         object        2              0   2381           0        0\n",
       "deny          object        2              0   2381           0        0"
      ]
     },
     "execution_count": 7,
     "metadata": {},
     "output_type": "execute_result"
    }
   ],
   "source": [
    "#Identify the Data Types\n",
    "df_info = pd.DataFrame(df.dtypes,columns=['Dtype'])\n",
    "\n",
    "#Identify the unique values\n",
    "df_info['Nunique'] = df.nunique()\n",
    "\n",
    "#check missing values for each column\n",
    "df_info['MissingValues']=df.isnull().sum()\n",
    "\n",
    "# Identify the count for each variable\n",
    "df_info['Count']=df.count()\n",
    "\n",
    "# Identify the zero values for each variable\n",
    "df_info['ZeroValues']=(df==0).sum()\n",
    "\n",
    "# how many '?' values\n",
    "df_info['?Values']=(df=='?').sum()\n",
    "\n",
    "df_info"
   ]
  },
  {
   "cell_type": "markdown",
   "metadata": {},
   "source": [
    "#### Findings:\n",
    ">1. The results above showed that the Mortgage dataset includes 2381 observations and 14 columns/variables. The independent variables include integer 64, float 64 and object data types, the dependent/response (deny) variable is string (yes/no) data type also known as an object.\n",
    "2. There is one missing value in 'pbcr' and one missing value in 'self'. \n",
    "3. The categorical variables are pbcr, dmi, self, single, black, and deny (dependent variable).\n",
    "4. The numerical variables are Unnamed: 0, dir, hir, lvr, ccs, mcs, uria, and comdominiom.\n",
    "5. The column of 'Unnamed: 0' is meaningless in this dataset, and I'll delete this column later.\n",
    "6. The variable of 'comdominiom' has two values (0 and 1), which indicates the mortgage is for condo or not. \n",
    "\n",
    "\n",
    "#### 2. Dropping irrelevant column"
   ]
  },
  {
   "cell_type": "code",
   "execution_count": 8,
   "metadata": {
    "ExecuteTime": {
     "end_time": "2020-07-12T10:40:29.628553Z",
     "start_time": "2020-07-12T10:40:29.621592Z"
    }
   },
   "outputs": [],
   "source": [
    "# drop 'Unnamed: 0'\n",
    "df02 = df.drop(['Unnamed: 0'], axis=1)"
   ]
  },
  {
   "cell_type": "markdown",
   "metadata": {},
   "source": [
    "#### 3. Check distribution\n",
    "\n",
    "**3.1 Check distribution of numerical variables**"
   ]
  },
  {
   "cell_type": "code",
   "execution_count": 9,
   "metadata": {
    "ExecuteTime": {
     "end_time": "2020-07-12T10:40:36.805188Z",
     "start_time": "2020-07-12T10:40:33.149593Z"
    }
   },
   "outputs": [
    {
     "data": {
      "text/plain": [
       "array([[<matplotlib.axes._subplots.AxesSubplot object at 0x110522a10>,\n",
       "        <matplotlib.axes._subplots.AxesSubplot object at 0x12c8fedd0>,\n",
       "        <matplotlib.axes._subplots.AxesSubplot object at 0x12d0ef950>],\n",
       "       [<matplotlib.axes._subplots.AxesSubplot object at 0x12d118ad0>,\n",
       "        <matplotlib.axes._subplots.AxesSubplot object at 0x12d163690>,\n",
       "        <matplotlib.axes._subplots.AxesSubplot object at 0x12d19bd10>],\n",
       "       [<matplotlib.axes._subplots.AxesSubplot object at 0x12d1dc450>,\n",
       "        <matplotlib.axes._subplots.AxesSubplot object at 0x12d212a10>,\n",
       "        <matplotlib.axes._subplots.AxesSubplot object at 0x12d212a50>]],\n",
       "      dtype=object)"
      ]
     },
     "execution_count": 9,
     "metadata": {},
     "output_type": "execute_result"
    },
    {
     "data": {
      "image/png": "[encoded data removed]",
      "text/plain": [
       "<Figure size 1080x720 with 9 Axes>"
      ]
     },
     "metadata": {},
     "output_type": "display_data"
    }
   ],
   "source": [
    "# Distributions for each of numerical variables.\n",
    "df02.hist(figsize=(15, 10), bins=20, xlabelsize=10, ylabelsize=10)\n"
   ]
  },
  {
   "cell_type": "markdown",
   "metadata": {},
   "source": [
    "**3.2 Check distribution of categorical variables**"
   ]
  },
  {
   "cell_type": "code",
   "execution_count": 10,
   "metadata": {
    "ExecuteTime": {
     "end_time": "2020-07-12T10:40:46.064067Z",
     "start_time": "2020-07-12T10:40:44.936433Z"
    }
   },
   "outputs": [
    {
     "data": {
      "image/png": "[encoded data removed]",
      "text/plain": [
       "<Figure size 1080x360 with 5 Axes>"
      ]
     },
     "metadata": {},
     "output_type": "display_data"
    }
   ],
   "source": [
    "categorical_columns = ['pbcr', 'dmi', 'self', 'single', 'black']\n",
    "\n",
    "# create the bar chart for each categorical columns\n",
    "fig, ax = plt.subplots(1, 5, figsize=(15, 5))\n",
    "for variable, subplot in zip(categorical_columns, ax.flatten()):\n",
    "    sns.countplot(df02[variable], ax=subplot)"
   ]
  },
  {
   "cell_type": "markdown",
   "metadata": {},
   "source": [
    "**3.3 Check distribution of dependent variable**\n",
    "\n",
    "Dependent variable: deny - the mortgage application denied? (binary: '1','0')"
   ]
  },
  {
   "cell_type": "code",
   "execution_count": 11,
   "metadata": {
    "ExecuteTime": {
     "end_time": "2020-07-12T10:40:49.324716Z",
     "start_time": "2020-07-12T10:40:49.313880Z"
    }
   },
   "outputs": [
    {
     "data": {
      "text/plain": [
       "no     2096\n",
       "yes     285\n",
       "Name: deny, dtype: int64"
      ]
     },
     "execution_count": 11,
     "metadata": {},
     "output_type": "execute_result"
    }
   ],
   "source": [
    "df02['deny'].value_counts()\n"
   ]
  },
  {
   "cell_type": "code",
   "execution_count": 12,
   "metadata": {
    "ExecuteTime": {
     "end_time": "2020-07-12T10:40:51.280156Z",
     "start_time": "2020-07-12T10:40:51.057766Z"
    }
   },
   "outputs": [
    {
     "data": {
      "image/png": "[encoded data removed]",
      "text/plain": [
       "<Figure size 432x288 with 1 Axes>"
      ]
     },
     "metadata": {},
     "output_type": "display_data"
    }
   ],
   "source": [
    "sns.countplot(x='deny',data=df02, palette='hls')\n",
    "plt.show()"
   ]
  },
  {
   "cell_type": "code",
   "execution_count": 13,
   "metadata": {
    "ExecuteTime": {
     "end_time": "2020-07-12T10:40:54.068188Z",
     "start_time": "2020-07-12T10:40:54.053839Z"
    }
   },
   "outputs": [
    {
     "name": "stdout",
     "output_type": "stream",
     "text": [
      "percentage of no denied (approved) is 88.03023939521209\n",
      "percentage of denied 11.969760604787904\n"
     ]
    }
   ],
   "source": [
    "count_no_sub = len(df02[df02['deny']=='no'])\n",
    "count_sub = len(df02[df02['deny']=='yes'])\n",
    "pct_of_no_sub = count_no_sub/(count_no_sub+count_sub)\n",
    "print(\"percentage of no denied (approved) is\", pct_of_no_sub*100)\n",
    "pct_of_sub = count_sub/(count_no_sub+count_sub)\n",
    "print(\"percentage of denied\", pct_of_sub*100)"
   ]
  },
  {
   "cell_type": "markdown",
   "metadata": {},
   "source": [
    "#### Findings:\n",
    ">1. Our classes are imbalanced, and the ratio of no-denied to denied instances is 88:12. I'll balance the classes later.\n",
    ">2. From the distribution histograms above, all variables are not normal distribution.\n",
    ">3. From the countplot of categorical variables, there are more cases with no public bad credit record, no denied mortgage insurance, not self employed, not a single, and not a black.\n",
    ">4. All categorical variables have two values - no and yes. There's no outlier.\n",
    "\n",
    "#### 4. Detect outliers\n"
   ]
  },
  {
   "cell_type": "code",
   "execution_count": 14,
   "metadata": {
    "ExecuteTime": {
     "end_time": "2020-07-12T10:41:00.761042Z",
     "start_time": "2020-07-12T10:40:58.086259Z"
    }
   },
   "outputs": [
    {
     "data": {
      "image/png": "[encoded data removed]",
      "text/plain": [
       "<Figure size 1080x936 with 7 Axes>"
      ]
     },
     "metadata": {},
     "output_type": "display_data"
    }
   ],
   "source": [
    "numerical_columns = ['dir', 'hir', 'lvr', 'ccs', 'mcs', 'uria', 'comdominiom']\n",
    "\n",
    "plt.figure(figsize=(15,13))\n",
    "\n",
    "h=1\n",
    "columns=df02[numerical_columns].columns.tolist()\n",
    "for i in columns:   #for each column in the dataframe except INDEX and TARGET\n",
    "    plt.subplot(3,3,h) \n",
    "    sns.boxplot(x=i,data=df02)\n",
    "    h=h+1 #add 1 to go to the next subplot space\n",
    "\n",
    "#show results\n",
    "plt.show()"
   ]
  },
  {
   "cell_type": "markdown",
   "metadata": {},
   "source": [
    "#### Findings:\n",
    ">1. For the variable of 'comdominiom', there are only two values - 0 (no) and 1 (yes). This variable should be categorical. \n",
    "2. For other six numerical variables, all of them have outliers. Since this study is to analyze the factors that can predict the denied mortgage, all outliers coule be useful in this case.\n",
    "\n",
    "#### 5. Check  the correlation bewteen the numerical variables."
   ]
  },
  {
   "cell_type": "code",
   "execution_count": 15,
   "metadata": {
    "ExecuteTime": {
     "end_time": "2020-07-12T10:41:06.237499Z",
     "start_time": "2020-07-12T10:41:05.399883Z"
    }
   },
   "outputs": [
    {
     "data": {
      "text/plain": [
       "Text(0.5, 1.0, 'Figure: Correlations')"
      ]
     },
     "execution_count": 15,
     "metadata": {},
     "output_type": "execute_result"
    },
    {
     "data": {
      "image/png": "[encoded data removed]",
      "text/plain": [
       "<Figure size 432x288 with 2 Axes>"
      ]
     },
     "metadata": {},
     "output_type": "display_data"
    }
   ],
   "source": [
    "corr = df02.corr()# plot the heatmap\n",
    "sns.heatmap(corr, xticklabels=corr.columns, yticklabels=corr.columns, \n",
    "            annot=True, cmap=sns.diverging_palette(220, 20, as_cmap=True))\n",
    "plt.title('Figure: Correlations')\n"
   ]
  },
  {
   "cell_type": "markdown",
   "metadata": {},
   "source": [
    "For the original dataset, there's no correlation coefficient greater than 0.8. I'll use an absolute correlation coefficient of >0.7 among two or more predictors to indicate the presence of multicollinearity.\n",
    "\n",
    "***\n",
    "\n",
    "### Step 3: Data Preparation\n",
    "\n",
    "#### 1. Handle the missing values\n",
    "\n",
    "There is one missing value in 'pbcr' and one missing value in 'self'. Since the number is very small, we'll remove the rows with missing values. \n"
   ]
  },
  {
   "cell_type": "code",
   "execution_count": 16,
   "metadata": {
    "ExecuteTime": {
     "end_time": "2020-07-12T10:41:10.259131Z",
     "start_time": "2020-07-12T10:41:10.251318Z"
    }
   },
   "outputs": [
    {
     "name": "stdout",
     "output_type": "stream",
     "text": [
      "(2381, 13)\n"
     ]
    }
   ],
   "source": [
    "# make a copy\n",
    "df03 = df02.copy()\n",
    "print(df02.shape)"
   ]
  },
  {
   "cell_type": "code",
   "execution_count": 17,
   "metadata": {
    "ExecuteTime": {
     "end_time": "2020-07-12T10:41:11.035521Z",
     "start_time": "2020-07-12T10:41:11.023490Z"
    }
   },
   "outputs": [
    {
     "name": "stdout",
     "output_type": "stream",
     "text": [
      "(2380, 13)\n"
     ]
    }
   ],
   "source": [
    "# drop rows with missing values\n",
    "df03.dropna(inplace=True)\n",
    "print(df03.shape)"
   ]
  },
  {
   "cell_type": "code",
   "execution_count": 18,
   "metadata": {
    "ExecuteTime": {
     "end_time": "2020-07-12T10:41:13.283110Z",
     "start_time": "2020-07-12T10:41:13.272461Z"
    }
   },
   "outputs": [
    {
     "data": {
      "text/plain": [
       "dir            0\n",
       "hir            0\n",
       "lvr            0\n",
       "ccs            0\n",
       "mcs            0\n",
       "pbcr           0\n",
       "dmi            0\n",
       "self           0\n",
       "single         0\n",
       "uria           0\n",
       "comdominiom    0\n",
       "black          0\n",
       "deny           0\n",
       "dtype: int64"
      ]
     },
     "execution_count": 18,
     "metadata": {},
     "output_type": "execute_result"
    }
   ],
   "source": [
    "# check the missing\n",
    "df03.isnull().sum()"
   ]
  },
  {
   "cell_type": "markdown",
   "metadata": {},
   "source": [
    "Only one row has been removed from the dataset.\n",
    "\n",
    "#### 2. Correct data format of 'comdominiom'\n",
    "\n",
    "The 'comdominiom' column has the value of 0 and 1, meaning no/yes. I'll change the data type of this column."
   ]
  },
  {
   "cell_type": "code",
   "execution_count": 19,
   "metadata": {
    "ExecuteTime": {
     "end_time": "2020-07-12T10:41:17.072136Z",
     "start_time": "2020-07-12T10:41:17.048582Z"
    }
   },
   "outputs": [
    {
     "data": {
      "text/plain": [
       "dir                 float64\n",
       "hir                 float64\n",
       "lvr                 float64\n",
       "ccs                 float64\n",
       "mcs                 float64\n",
       "pbcr                 object\n",
       "dmi                  object\n",
       "self                 object\n",
       "single               object\n",
       "uria                float64\n",
       "condo                object\n",
       "African_American     object\n",
       "deny                 object\n",
       "dtype: object"
      ]
     },
     "execution_count": 19,
     "metadata": {},
     "output_type": "execute_result"
    }
   ],
   "source": [
    "# change column name\n",
    "df04 = df03.rename(columns={'comdominiom': 'condo', 'black': 'African_American'})\n",
    "\n",
    "# change data type\n",
    "df04[['condo']] = df04[['condo']].astype('str')\n",
    "\n",
    "df04.dtypes"
   ]
  },
  {
   "cell_type": "markdown",
   "metadata": {},
   "source": [
    "#### Results:\n",
    ">1. There are 6 string independent variables and 6 numerical independent variables.\n",
    ">2. The dependent variable 'deny' is string. \n",
    "\n",
    "#### 3. Create dummy for dependent variable \n",
    "\n",
    "Since I'll perform a binary logistic regression, the dependent variable should be a 0-or-1 variable. I'll use 0 for the 'no' value and use 1 for the 'yes' value in the column of 'deny'."
   ]
  },
  {
   "cell_type": "code",
   "execution_count": 20,
   "metadata": {
    "ExecuteTime": {
     "end_time": "2020-07-12T10:41:21.568168Z",
     "start_time": "2020-07-12T10:41:21.560930Z"
    }
   },
   "outputs": [],
   "source": [
    "df04['IsDeny'] = (df04['deny'] == 'yes').astype(int)\n"
   ]
  },
  {
   "cell_type": "code",
   "execution_count": 21,
   "metadata": {
    "ExecuteTime": {
     "end_time": "2020-07-12T10:41:22.450067Z",
     "start_time": "2020-07-12T10:41:22.440239Z"
    }
   },
   "outputs": [
    {
     "data": {
      "text/plain": [
       "0    2095\n",
       "1     285\n",
       "Name: IsDeny, dtype: int64"
      ]
     },
     "execution_count": 21,
     "metadata": {},
     "output_type": "execute_result"
    }
   ],
   "source": [
    "df04['IsDeny'].value_counts()"
   ]
  },
  {
   "cell_type": "markdown",
   "metadata": {},
   "source": [
    "#### 4. Create dummy for string variables\n",
    "\n",
    "Next, I'll create dummy indicators for the categorical variables - African_American, condo, single, self, dmi, and pbcr. For example, the new dummy variable 'IsAfricanAmerican' contains a '1' if the 'African_American' value for an applicant is 'yes' and a '0' otherwise."
   ]
  },
  {
   "cell_type": "code",
   "execution_count": 22,
   "metadata": {
    "ExecuteTime": {
     "end_time": "2020-07-12T10:41:28.134402Z",
     "start_time": "2020-07-12T10:41:28.127037Z"
    }
   },
   "outputs": [],
   "source": [
    "df05 = df04.copy()"
   ]
  },
  {
   "cell_type": "code",
   "execution_count": 23,
   "metadata": {
    "ExecuteTime": {
     "end_time": "2020-07-12T10:41:29.051869Z",
     "start_time": "2020-07-12T10:41:29.007343Z"
    }
   },
   "outputs": [
    {
     "data": {
      "text/html": [
       "<div>\n",
       "<style scoped>\n",
       "    .dataframe tbody tr th:only-of-type {\n",
       "        vertical-align: middle;\n",
       "    }\n",
       "\n",
       "    .dataframe tbody tr th {\n",
       "        vertical-align: top;\n",
       "    }\n",
       "\n",
       "    .dataframe thead th {\n",
       "        text-align: right;\n",
       "    }\n",
       "</style>\n",
       "<table border=\"1\" class=\"dataframe\">\n",
       "  <thead>\n",
       "    <tr style=\"text-align: right;\">\n",
       "      <th></th>\n",
       "      <th>dir</th>\n",
       "      <th>hir</th>\n",
       "      <th>lvr</th>\n",
       "      <th>ccs</th>\n",
       "      <th>mcs</th>\n",
       "      <th>pbcr</th>\n",
       "      <th>dmi</th>\n",
       "      <th>self</th>\n",
       "      <th>single</th>\n",
       "      <th>uria</th>\n",
       "      <th>condo</th>\n",
       "      <th>African_American</th>\n",
       "      <th>deny</th>\n",
       "      <th>IsDeny</th>\n",
       "      <th>IsAfricanAmerican</th>\n",
       "      <th>IsCondo</th>\n",
       "      <th>IsSingle</th>\n",
       "      <th>IsSelf</th>\n",
       "      <th>IsDeniedMI</th>\n",
       "      <th>IsBadCredit</th>\n",
       "    </tr>\n",
       "  </thead>\n",
       "  <tbody>\n",
       "    <tr>\n",
       "      <th>0</th>\n",
       "      <td>0.221</td>\n",
       "      <td>0.221</td>\n",
       "      <td>0.800000</td>\n",
       "      <td>5.0</td>\n",
       "      <td>2.0</td>\n",
       "      <td>no</td>\n",
       "      <td>no</td>\n",
       "      <td>no</td>\n",
       "      <td>no</td>\n",
       "      <td>3.9</td>\n",
       "      <td>0</td>\n",
       "      <td>no</td>\n",
       "      <td>no</td>\n",
       "      <td>0</td>\n",
       "      <td>0</td>\n",
       "      <td>0</td>\n",
       "      <td>0</td>\n",
       "      <td>0</td>\n",
       "      <td>0</td>\n",
       "      <td>0</td>\n",
       "    </tr>\n",
       "    <tr>\n",
       "      <th>1</th>\n",
       "      <td>0.265</td>\n",
       "      <td>0.265</td>\n",
       "      <td>0.921875</td>\n",
       "      <td>2.0</td>\n",
       "      <td>2.0</td>\n",
       "      <td>no</td>\n",
       "      <td>no</td>\n",
       "      <td>no</td>\n",
       "      <td>yes</td>\n",
       "      <td>3.2</td>\n",
       "      <td>0</td>\n",
       "      <td>no</td>\n",
       "      <td>no</td>\n",
       "      <td>0</td>\n",
       "      <td>0</td>\n",
       "      <td>0</td>\n",
       "      <td>1</td>\n",
       "      <td>0</td>\n",
       "      <td>0</td>\n",
       "      <td>0</td>\n",
       "    </tr>\n",
       "    <tr>\n",
       "      <th>2</th>\n",
       "      <td>0.372</td>\n",
       "      <td>0.248</td>\n",
       "      <td>0.920398</td>\n",
       "      <td>1.0</td>\n",
       "      <td>2.0</td>\n",
       "      <td>no</td>\n",
       "      <td>no</td>\n",
       "      <td>no</td>\n",
       "      <td>no</td>\n",
       "      <td>3.2</td>\n",
       "      <td>0</td>\n",
       "      <td>no</td>\n",
       "      <td>no</td>\n",
       "      <td>0</td>\n",
       "      <td>0</td>\n",
       "      <td>0</td>\n",
       "      <td>0</td>\n",
       "      <td>0</td>\n",
       "      <td>0</td>\n",
       "      <td>0</td>\n",
       "    </tr>\n",
       "    <tr>\n",
       "      <th>3</th>\n",
       "      <td>0.320</td>\n",
       "      <td>0.250</td>\n",
       "      <td>0.860465</td>\n",
       "      <td>1.0</td>\n",
       "      <td>2.0</td>\n",
       "      <td>no</td>\n",
       "      <td>no</td>\n",
       "      <td>no</td>\n",
       "      <td>no</td>\n",
       "      <td>4.3</td>\n",
       "      <td>0</td>\n",
       "      <td>no</td>\n",
       "      <td>no</td>\n",
       "      <td>0</td>\n",
       "      <td>0</td>\n",
       "      <td>0</td>\n",
       "      <td>0</td>\n",
       "      <td>0</td>\n",
       "      <td>0</td>\n",
       "      <td>0</td>\n",
       "    </tr>\n",
       "    <tr>\n",
       "      <th>4</th>\n",
       "      <td>0.360</td>\n",
       "      <td>0.350</td>\n",
       "      <td>0.600000</td>\n",
       "      <td>1.0</td>\n",
       "      <td>1.0</td>\n",
       "      <td>no</td>\n",
       "      <td>no</td>\n",
       "      <td>no</td>\n",
       "      <td>no</td>\n",
       "      <td>3.2</td>\n",
       "      <td>0</td>\n",
       "      <td>no</td>\n",
       "      <td>no</td>\n",
       "      <td>0</td>\n",
       "      <td>0</td>\n",
       "      <td>0</td>\n",
       "      <td>0</td>\n",
       "      <td>0</td>\n",
       "      <td>0</td>\n",
       "      <td>0</td>\n",
       "    </tr>\n",
       "  </tbody>\n",
       "</table>\n",
       "</div>"
      ],
      "text/plain": [
       "     dir    hir       lvr  ccs  mcs pbcr dmi self single  uria condo  \\\n",
       "0  0.221  0.221  0.800000  5.0  2.0   no  no   no     no   3.9     0   \n",
       "1  0.265  0.265  0.921875  2.0  2.0   no  no   no    yes   3.2     0   \n",
       "2  0.372  0.248  0.920398  1.0  2.0   no  no   no     no   3.2     0   \n",
       "3  0.320  0.250  0.860465  1.0  2.0   no  no   no     no   4.3     0   \n",
       "4  0.360  0.350  0.600000  1.0  1.0   no  no   no     no   3.2     0   \n",
       "\n",
       "  African_American deny  IsDeny  IsAfricanAmerican  IsCondo  IsSingle  IsSelf  \\\n",
       "0               no   no       0                  0        0         0       0   \n",
       "1               no   no       0                  0        0         1       0   \n",
       "2               no   no       0                  0        0         0       0   \n",
       "3               no   no       0                  0        0         0       0   \n",
       "4               no   no       0                  0        0         0       0   \n",
       "\n",
       "   IsDeniedMI  IsBadCredit  \n",
       "0           0            0  \n",
       "1           0            0  \n",
       "2           0            0  \n",
       "3           0            0  \n",
       "4           0            0  "
      ]
     },
     "execution_count": 23,
     "metadata": {},
     "output_type": "execute_result"
    }
   ],
   "source": [
    "# create a dummy variable \n",
    "df05['IsAfricanAmerican'] = (df05['African_American'] == 'yes').astype(int)\n",
    "df05['IsCondo'] = (df05['condo'] == '1').astype(int)\n",
    "df05['IsSingle'] = (df05['single'] == 'yes').astype(int)\n",
    "df05['IsSelf'] = (df05['self'] == 'yes').astype(int)\n",
    "df05['IsDeniedMI'] = (df05['dmi'] == 'yes').astype(int)\n",
    "df05['IsBadCredit'] = (df05['pbcr'] == 'yes').astype(int)\n",
    "df05.head()"
   ]
  },
  {
   "cell_type": "markdown",
   "metadata": {},
   "source": [
    "#### 5. Set up new data set"
   ]
  },
  {
   "cell_type": "code",
   "execution_count": 24,
   "metadata": {
    "ExecuteTime": {
     "end_time": "2020-07-12T10:41:42.046281Z",
     "start_time": "2020-07-12T10:41:42.018715Z"
    }
   },
   "outputs": [
    {
     "data": {
      "text/html": [
       "<div>\n",
       "<style scoped>\n",
       "    .dataframe tbody tr th:only-of-type {\n",
       "        vertical-align: middle;\n",
       "    }\n",
       "\n",
       "    .dataframe tbody tr th {\n",
       "        vertical-align: top;\n",
       "    }\n",
       "\n",
       "    .dataframe thead th {\n",
       "        text-align: right;\n",
       "    }\n",
       "</style>\n",
       "<table border=\"1\" class=\"dataframe\">\n",
       "  <thead>\n",
       "    <tr style=\"text-align: right;\">\n",
       "      <th></th>\n",
       "      <th>dir</th>\n",
       "      <th>hir</th>\n",
       "      <th>lvr</th>\n",
       "      <th>ccs</th>\n",
       "      <th>mcs</th>\n",
       "      <th>IsBadCredit</th>\n",
       "      <th>IsDeniedMI</th>\n",
       "      <th>uria</th>\n",
       "      <th>IsAfricanAmerican</th>\n",
       "      <th>IsDeny</th>\n",
       "      <th>IsCondo</th>\n",
       "      <th>IsSingle</th>\n",
       "      <th>IsSelf</th>\n",
       "    </tr>\n",
       "  </thead>\n",
       "  <tbody>\n",
       "    <tr>\n",
       "      <th>0</th>\n",
       "      <td>0.221</td>\n",
       "      <td>0.221</td>\n",
       "      <td>0.800000</td>\n",
       "      <td>5.0</td>\n",
       "      <td>2.0</td>\n",
       "      <td>0</td>\n",
       "      <td>0</td>\n",
       "      <td>3.9</td>\n",
       "      <td>0</td>\n",
       "      <td>0</td>\n",
       "      <td>0</td>\n",
       "      <td>0</td>\n",
       "      <td>0</td>\n",
       "    </tr>\n",
       "    <tr>\n",
       "      <th>1</th>\n",
       "      <td>0.265</td>\n",
       "      <td>0.265</td>\n",
       "      <td>0.921875</td>\n",
       "      <td>2.0</td>\n",
       "      <td>2.0</td>\n",
       "      <td>0</td>\n",
       "      <td>0</td>\n",
       "      <td>3.2</td>\n",
       "      <td>0</td>\n",
       "      <td>0</td>\n",
       "      <td>0</td>\n",
       "      <td>1</td>\n",
       "      <td>0</td>\n",
       "    </tr>\n",
       "    <tr>\n",
       "      <th>2</th>\n",
       "      <td>0.372</td>\n",
       "      <td>0.248</td>\n",
       "      <td>0.920398</td>\n",
       "      <td>1.0</td>\n",
       "      <td>2.0</td>\n",
       "      <td>0</td>\n",
       "      <td>0</td>\n",
       "      <td>3.2</td>\n",
       "      <td>0</td>\n",
       "      <td>0</td>\n",
       "      <td>0</td>\n",
       "      <td>0</td>\n",
       "      <td>0</td>\n",
       "    </tr>\n",
       "    <tr>\n",
       "      <th>3</th>\n",
       "      <td>0.320</td>\n",
       "      <td>0.250</td>\n",
       "      <td>0.860465</td>\n",
       "      <td>1.0</td>\n",
       "      <td>2.0</td>\n",
       "      <td>0</td>\n",
       "      <td>0</td>\n",
       "      <td>4.3</td>\n",
       "      <td>0</td>\n",
       "      <td>0</td>\n",
       "      <td>0</td>\n",
       "      <td>0</td>\n",
       "      <td>0</td>\n",
       "    </tr>\n",
       "    <tr>\n",
       "      <th>4</th>\n",
       "      <td>0.360</td>\n",
       "      <td>0.350</td>\n",
       "      <td>0.600000</td>\n",
       "      <td>1.0</td>\n",
       "      <td>1.0</td>\n",
       "      <td>0</td>\n",
       "      <td>0</td>\n",
       "      <td>3.2</td>\n",
       "      <td>0</td>\n",
       "      <td>0</td>\n",
       "      <td>0</td>\n",
       "      <td>0</td>\n",
       "      <td>0</td>\n",
       "    </tr>\n",
       "  </tbody>\n",
       "</table>\n",
       "</div>"
      ],
      "text/plain": [
       "     dir    hir       lvr  ccs  mcs  IsBadCredit  IsDeniedMI  uria  \\\n",
       "0  0.221  0.221  0.800000  5.0  2.0            0           0   3.9   \n",
       "1  0.265  0.265  0.921875  2.0  2.0            0           0   3.2   \n",
       "2  0.372  0.248  0.920398  1.0  2.0            0           0   3.2   \n",
       "3  0.320  0.250  0.860465  1.0  2.0            0           0   4.3   \n",
       "4  0.360  0.350  0.600000  1.0  1.0            0           0   3.2   \n",
       "\n",
       "   IsAfricanAmerican  IsDeny  IsCondo  IsSingle  IsSelf  \n",
       "0                  0       0        0         0       0  \n",
       "1                  0       0        0         1       0  \n",
       "2                  0       0        0         0       0  \n",
       "3                  0       0        0         0       0  \n",
       "4                  0       0        0         0       0  "
      ]
     },
     "execution_count": 24,
     "metadata": {},
     "output_type": "execute_result"
    }
   ],
   "source": [
    "new_variables = ['dir', 'hir', 'lvr', 'ccs', 'mcs', 'IsBadCredit', 'IsDeniedMI',\n",
    "       'uria', 'IsAfricanAmerican', 'IsDeny',\n",
    "       'IsCondo', 'IsSingle', 'IsSelf']\n",
    "\n",
    "df06 = df05[new_variables]\n",
    "df06.head()"
   ]
  },
  {
   "cell_type": "markdown",
   "metadata": {},
   "source": [
    "\n",
    "***\n",
    "\n",
    "### Step 4: Prepped Data Review\n",
    "\n",
    "#### 1. Check the relationship between independent variables and the dependent variable\n"
   ]
  },
  {
   "cell_type": "code",
   "execution_count": 25,
   "metadata": {
    "ExecuteTime": {
     "end_time": "2020-07-12T10:41:48.458184Z",
     "start_time": "2020-07-12T10:41:48.032202Z"
    }
   },
   "outputs": [
    {
     "data": {
      "text/plain": [
       "(array([0, 1]), <a list of 2 Text major ticklabel objects>)"
      ]
     },
     "execution_count": 25,
     "metadata": {},
     "output_type": "execute_result"
    },
    {
     "data": {
      "image/png": "[encoded data removed]",
      "text/plain": [
       "<Figure size 432x288 with 1 Axes>"
      ]
     },
     "metadata": {},
     "output_type": "display_data"
    }
   ],
   "source": [
    "# IsBadCredit vs. deny\n",
    "pd.crosstab(df06.IsBadCredit,df06.IsDeny).plot(kind='bar')\n",
    "plt.title('1. Frequency of mortgage decision for bad credit record')\n",
    "plt.xlabel('public bad credit record')\n",
    "plt.ylabel('Frequency of mortgage decision')\n",
    "plt.xticks(rotation=0)"
   ]
  },
  {
   "cell_type": "markdown",
   "metadata": {},
   "source": [
    "The frequency of mortgage application decision depends a great deal on the public credit record. Thus, it can be a good predictor of the outcome variable.\n"
   ]
  },
  {
   "cell_type": "code",
   "execution_count": 24,
   "metadata": {
    "ExecuteTime": {
     "end_time": "2020-07-08T21:34:21.492081Z",
     "start_time": "2020-07-08T21:34:21.053347Z"
    }
   },
   "outputs": [
    {
     "data": {
      "text/plain": [
       "(array([0, 1]), <a list of 2 Text major ticklabel objects>)"
      ]
     },
     "execution_count": 24,
     "metadata": {},
     "output_type": "execute_result"
    },
    {
     "data": {
      "image/png": "[encoded data removed]",
      "text/plain": [
       "<Figure size 432x288 with 1 Axes>"
      ]
     },
     "metadata": {
      "needs_background": "light"
     },
     "output_type": "display_data"
    }
   ],
   "source": [
    "# IsDeniedMI vs. deny\n",
    "pd.crosstab(df06.IsDeniedMI,df06.IsDeny).plot(kind='bar')\n",
    "plt.title('2. Frequency of mortgage decision for denied mortgage insurance')\n",
    "plt.xlabel('denied mortgage insurance')\n",
    "plt.ylabel('Frequency of mortgage decision')\n",
    "plt.xticks(rotation=0)"
   ]
  },
  {
   "cell_type": "markdown",
   "metadata": {},
   "source": [
    "Mortgage insurance seems a good predictor of the outcome variable."
   ]
  },
  {
   "cell_type": "code",
   "execution_count": 25,
   "metadata": {
    "ExecuteTime": {
     "end_time": "2020-07-08T21:34:23.652719Z",
     "start_time": "2020-07-08T21:34:23.235453Z"
    }
   },
   "outputs": [
    {
     "data": {
      "text/plain": [
       "(array([0, 1]), <a list of 2 Text major ticklabel objects>)"
      ]
     },
     "execution_count": 25,
     "metadata": {},
     "output_type": "execute_result"
    },
    {
     "data": {
      "image/png": "[encoded data removed]",
      "text/plain": [
       "<Figure size 432x288 with 1 Axes>"
      ]
     },
     "metadata": {
      "needs_background": "light"
     },
     "output_type": "display_data"
    }
   ],
   "source": [
    "# IsSelf vs. deny\n",
    "pd.crosstab(df06.IsSelf,df06.IsDeny).plot(kind='bar')\n",
    "plt.title('3. Frequency of mortgage decision for self employed')\n",
    "plt.xlabel('self employed')\n",
    "plt.ylabel('Frequency of mortgage decision')\n",
    "plt.xticks(rotation=0)"
   ]
  },
  {
   "cell_type": "markdown",
   "metadata": {},
   "source": [
    "Self employed or not might be a good predictor of the outcome variable.\n",
    "\n"
   ]
  },
  {
   "cell_type": "code",
   "execution_count": 26,
   "metadata": {
    "ExecuteTime": {
     "end_time": "2020-07-08T21:34:26.653624Z",
     "start_time": "2020-07-08T21:34:26.276086Z"
    }
   },
   "outputs": [
    {
     "data": {
      "text/plain": [
       "(array([0, 1]), <a list of 2 Text major ticklabel objects>)"
      ]
     },
     "execution_count": 26,
     "metadata": {},
     "output_type": "execute_result"
    },
    {
     "data": {
      "image/png": "[encoded data removed]",
      "text/plain": [
       "<Figure size 432x288 with 1 Axes>"
      ]
     },
     "metadata": {
      "needs_background": "light"
     },
     "output_type": "display_data"
    }
   ],
   "source": [
    "# IsSingle vs. deny\n",
    "pd.crosstab(df06.IsSingle,df06.IsDeny).plot(kind='bar')\n",
    "plt.title('4. Frequency of mortgage decision for marriage status-single')\n",
    "plt.xlabel('applicant single or not')\n",
    "plt.ylabel('Frequency of mortgage decision')\n",
    "plt.xticks(rotation=0)"
   ]
  },
  {
   "cell_type": "markdown",
   "metadata": {},
   "source": [
    "Marriage status might be a good predictor of the outcome variable.\n",
    "\n"
   ]
  },
  {
   "cell_type": "code",
   "execution_count": 27,
   "metadata": {
    "ExecuteTime": {
     "end_time": "2020-07-08T21:34:28.679443Z",
     "start_time": "2020-07-08T21:34:28.266502Z"
    }
   },
   "outputs": [
    {
     "data": {
      "text/plain": [
       "(array([0, 1]), <a list of 2 Text major ticklabel objects>)"
      ]
     },
     "execution_count": 27,
     "metadata": {},
     "output_type": "execute_result"
    },
    {
     "data": {
      "image/png": "[encoded data removed]",
      "text/plain": [
       "<Figure size 432x288 with 1 Axes>"
      ]
     },
     "metadata": {
      "needs_background": "light"
     },
     "output_type": "display_data"
    }
   ],
   "source": [
    "# IsCondo vs. deny\n",
    "pd.crosstab(df06.IsCondo,df06.IsDeny).plot(kind='bar')\n",
    "plt.title('5. Frequency of mortgage decision for condo')\n",
    "plt.xlabel('condo or not')\n",
    "plt.ylabel('Frequency of mortgage decision')\n",
    "plt.xticks(rotation=0)"
   ]
  },
  {
   "cell_type": "markdown",
   "metadata": {},
   "source": [
    "Property type (condo/not condo) might be a good predictor of the outcome variable.\n"
   ]
  },
  {
   "cell_type": "code",
   "execution_count": 28,
   "metadata": {
    "ExecuteTime": {
     "end_time": "2020-07-08T21:34:30.824913Z",
     "start_time": "2020-07-08T21:34:30.382876Z"
    }
   },
   "outputs": [
    {
     "data": {
      "text/plain": [
       "(array([0, 1]), <a list of 2 Text major ticklabel objects>)"
      ]
     },
     "execution_count": 28,
     "metadata": {},
     "output_type": "execute_result"
    },
    {
     "data": {
      "image/png": "[encoded data removed]",
      "text/plain": [
       "<Figure size 432x288 with 1 Axes>"
      ]
     },
     "metadata": {
      "needs_background": "light"
     },
     "output_type": "display_data"
    }
   ],
   "source": [
    "# IsAfricanAmerican vs. deny\n",
    "pd.crosstab(df06.IsAfricanAmerican,df06.IsDeny).plot(kind='bar')\n",
    "plt.title('6. Frequency of mortgage decision for African American')\n",
    "plt.xlabel('African American or not')\n",
    "plt.ylabel('Frequency of mortgage decision')\n",
    "plt.xticks(rotation=0)"
   ]
  },
  {
   "cell_type": "markdown",
   "metadata": {},
   "source": [
    "African American or not might be a good predictor of the outcome variable.\n"
   ]
  },
  {
   "cell_type": "code",
   "execution_count": 29,
   "metadata": {
    "ExecuteTime": {
     "end_time": "2020-07-08T21:34:33.129852Z",
     "start_time": "2020-07-08T21:34:32.472253Z"
    }
   },
   "outputs": [
    {
     "data": {
      "text/plain": [
       "(array([0, 1, 2, 3, 4, 5]), <a list of 6 Text major ticklabel objects>)"
      ]
     },
     "execution_count": 29,
     "metadata": {},
     "output_type": "execute_result"
    },
    {
     "data": {
      "image/png": "[encoded data removed]",
      "text/plain": [
       "<Figure size 432x288 with 1 Axes>"
      ]
     },
     "metadata": {
      "needs_background": "light"
     },
     "output_type": "display_data"
    }
   ],
   "source": [
    "# ccs vd. deny\n",
    "pd.crosstab(df06.ccs,df06.IsDeny).plot(kind='bar')\n",
    "plt.title('7. Frequency of mortgage decision for consumer credit score')\n",
    "plt.xlabel('consumer credit score')\n",
    "plt.ylabel('Frequency of mortgage decision')\n",
    "plt.xticks(rotation=0)"
   ]
  },
  {
   "cell_type": "markdown",
   "metadata": {},
   "source": [
    "Consumer credit score might be a good predictor of the outcome variable.\n",
    "\n"
   ]
  },
  {
   "cell_type": "code",
   "execution_count": 30,
   "metadata": {
    "ExecuteTime": {
     "end_time": "2020-07-08T21:34:35.153590Z",
     "start_time": "2020-07-08T21:34:34.689669Z"
    }
   },
   "outputs": [
    {
     "data": {
      "text/plain": [
       "(array([0, 1, 2, 3]), <a list of 4 Text major ticklabel objects>)"
      ]
     },
     "execution_count": 30,
     "metadata": {},
     "output_type": "execute_result"
    },
    {
     "data": {
      "image/png": "[encoded data removed]",
      "text/plain": [
       "<Figure size 432x288 with 1 Axes>"
      ]
     },
     "metadata": {
      "needs_background": "light"
     },
     "output_type": "display_data"
    }
   ],
   "source": [
    "# mcs vd. deny\n",
    "pd.crosstab(df06.mcs,df06.IsDeny).plot(kind='bar')\n",
    "plt.title('8. Frequency of mortgage decision for consumer credit score')\n",
    "plt.xlabel('mortgage credit score')\n",
    "plt.ylabel('Frequency of mortgage decision')\n",
    "plt.xticks(rotation=0)"
   ]
  },
  {
   "cell_type": "markdown",
   "metadata": {},
   "source": [
    "Mortgage credit score might be a good predictor of the outcome variable.\n",
    "\n"
   ]
  },
  {
   "cell_type": "code",
   "execution_count": 31,
   "metadata": {
    "ExecuteTime": {
     "end_time": "2020-07-08T21:34:38.409316Z",
     "start_time": "2020-07-08T21:34:37.615363Z"
    }
   },
   "outputs": [
    {
     "data": {
      "text/plain": [
       "[]"
      ]
     },
     "execution_count": 31,
     "metadata": {},
     "output_type": "execute_result"
    },
    {
     "data": {
      "image/png": "[encoded data removed]",
      "text/plain": [
       "<Figure size 576x360 with 1 Axes>"
      ]
     },
     "metadata": {
      "needs_background": "light"
     },
     "output_type": "display_data"
    }
   ],
   "source": [
    "# dir vs. deny\n",
    "plt.figure(figsize=(8, 5))\n",
    "sns.regplot(x='dir', y='IsDeny', data=df06, y_jitter=0.03, logistic=True, ci=None)\n",
    "plt.title('9. Frequency of mortgage decision for debt payments to total income ratio')\n",
    "plt.xlabel('debt payments to total income ratio')\n",
    "plt.ylabel('Frequency of mortgage decision')\n",
    "plt.xticks(rotation=0)\n",
    "plt.plot()\n"
   ]
  },
  {
   "cell_type": "markdown",
   "metadata": {},
   "source": [
    "Debt payments to total income ratio might be a good predictor of the outcome variable.\n",
    "\n"
   ]
  },
  {
   "cell_type": "code",
   "execution_count": 32,
   "metadata": {
    "ExecuteTime": {
     "end_time": "2020-07-08T21:34:41.039411Z",
     "start_time": "2020-07-08T21:34:40.302256Z"
    }
   },
   "outputs": [
    {
     "data": {
      "text/plain": [
       "[]"
      ]
     },
     "execution_count": 32,
     "metadata": {},
     "output_type": "execute_result"
    },
    {
     "data": {
      "image/png": "[encoded data removed]",
      "text/plain": [
       "<Figure size 576x360 with 1 Axes>"
      ]
     },
     "metadata": {
      "needs_background": "light"
     },
     "output_type": "display_data"
    }
   ],
   "source": [
    "# hir vs. deny\n",
    "plt.figure(figsize=(8, 5))\n",
    "sns.regplot(x='hir', y='IsDeny', data=df06, y_jitter=0.03, logistic=True, ci=None)\n",
    "plt.title('10. Frequency of mortgage decision for housing expenses to income ratio')\n",
    "plt.xlabel('housing expenses to income ratio')\n",
    "plt.ylabel('Frequency of mortgage decision')\n",
    "plt.xticks(rotation=0)\n",
    "plt.plot()"
   ]
  },
  {
   "cell_type": "markdown",
   "metadata": {},
   "source": [
    "Housing expenses to income ratio might be a good predictor of the outcome variable.\n",
    "\n"
   ]
  },
  {
   "cell_type": "code",
   "execution_count": 33,
   "metadata": {
    "ExecuteTime": {
     "end_time": "2020-07-08T21:34:43.516112Z",
     "start_time": "2020-07-08T21:34:42.767300Z"
    }
   },
   "outputs": [
    {
     "data": {
      "text/plain": [
       "[]"
      ]
     },
     "execution_count": 33,
     "metadata": {},
     "output_type": "execute_result"
    },
    {
     "data": {
      "image/png": "[encoded data removed]",
      "text/plain": [
       "<Figure size 576x360 with 1 Axes>"
      ]
     },
     "metadata": {
      "needs_background": "light"
     },
     "output_type": "display_data"
    }
   ],
   "source": [
    "# lvr vs. deny\n",
    "plt.figure(figsize=(8, 5))\n",
    "sns.regplot(x='lvr', y='IsDeny', data=df06, y_jitter=0.03, logistic=True, ci=None)\n",
    "plt.title('11. Frequency of mortgage decision for loan-to-value')\n",
    "plt.xlabel('ratio of size of loan to assessed value of property')\n",
    "plt.ylabel('Frequency of mortgage decision')\n",
    "plt.xticks(rotation=0)\n",
    "plt.plot()"
   ]
  },
  {
   "cell_type": "markdown",
   "metadata": {},
   "source": [
    "Ratio of size of loan to assessed value of property might be a good predictor of the outcome. \n",
    "The likelihood of a loan being denied increases significantly if the lvr is greater than 0.5 and that very few loan applications are rejected if the lvr is less than 0.5."
   ]
  },
  {
   "cell_type": "code",
   "execution_count": 34,
   "metadata": {
    "ExecuteTime": {
     "end_time": "2020-07-08T21:34:45.877908Z",
     "start_time": "2020-07-08T21:34:45.271174Z"
    }
   },
   "outputs": [
    {
     "data": {
      "text/plain": [
       "(array([0, 1, 2, 3, 4, 5, 6, 7, 8, 9]),\n",
       " <a list of 10 Text major ticklabel objects>)"
      ]
     },
     "execution_count": 34,
     "metadata": {},
     "output_type": "execute_result"
    },
    {
     "data": {
      "image/png": "[encoded data removed]",
      "text/plain": [
       "<Figure size 432x288 with 1 Axes>"
      ]
     },
     "metadata": {
      "needs_background": "light"
     },
     "output_type": "display_data"
    }
   ],
   "source": [
    "# uria vs. deny\n",
    "pd.crosstab(df06['uria'].round(1),df06.IsDeny).plot(kind='bar')\n",
    "plt.title('12. Frequency of mortgage decision for unemployment rate')\n",
    "plt.xlabel('unemployment rate in the applicant industry')\n",
    "plt.ylabel('Frequency of mortgage decision')\n",
    "plt.xticks(rotation=0)"
   ]
  },
  {
   "cell_type": "markdown",
   "metadata": {},
   "source": [
    "Employment rate in the applicant industry might be a good predictor of the outcome variable.\n",
    "\n",
    "\n",
    "#### 2. Check correlation and the independence between the independent variables"
   ]
  },
  {
   "cell_type": "code",
   "execution_count": 35,
   "metadata": {
    "ExecuteTime": {
     "end_time": "2020-07-08T21:34:49.603780Z",
     "start_time": "2020-07-08T21:34:47.838430Z"
    }
   },
   "outputs": [
    {
     "data": {
      "text/plain": [
       "<matplotlib.axes._subplots.AxesSubplot at 0x1204b1a10>"
      ]
     },
     "execution_count": 35,
     "metadata": {},
     "output_type": "execute_result"
    },
    {
     "data": {
      "image/png": "[encoded data removed]",
      "text/plain": [
       "<Figure size 720x576 with 2 Axes>"
      ]
     },
     "metadata": {
      "needs_background": "light"
     },
     "output_type": "display_data"
    }
   ],
   "source": [
    "plt.figure(figsize=(10,8))\n",
    "\n",
    "corr = df06.corr()# plot the heatmap\n",
    "sns.heatmap(corr, xticklabels=corr.columns, yticklabels=corr.columns, \n",
    "            annot=True, cmap=sns.diverging_palette(220, 20, as_cmap=True))\n"
   ]
  },
  {
   "cell_type": "markdown",
   "metadata": {},
   "source": [
    "#### Findings:\n",
    ">1. There's no feature having the correlation coefficient above 0.8. I'll use an absolute correlation coefficient of >0.7 among two or more predictors indicating the presence of multicollinearity.\n",
    ">2. The independence between the independent variables is good, because this dataset contains no correlated features. \n",
    ">3. The highest correlation coefficient is 0.78, betweeb hir and dir.\n",
    "\n",
    "***\n",
    "### Step 5. Feature Selection\n",
    "\n",
    "The classes of this dataset are imbalanced, and the ratio of no-deny to deny is 88:12. Imbalanced classification involves developing predictive models on classification datasets that have a severe class imbalance. Before checking feature importance, I need to balance the class distribution and normalize the dataset.\n",
    "\n",
    "Most feature selection methods can be divided into three major buckets:\n",
    "* **Filter based**: We specify some metric and based on that filter features. An example of such a metric could be correlation/chi-square.\n",
    "* **Wrapper-based**: Wrapper methods consider the selection of a set of features as a search problem. Example: Recursive Feature Elimination\n",
    "* **Embedded**: Embedded methods use algorithms that have built-in feature selection methods. For instance, Lasso and RF have their own feature selection methods.\n",
    "\n",
    "In my last week's assignment, the Wrapper method (recursive feature elimination) and Embedded method (SelectFromModels) were used for feature selection. For the method of `SelectFromModels`, only three features have been selected. \n",
    "\n",
    "Since the requirement of this week's assignment that at least five explanatory variables are required in the model, I'll use different methods for feature selection.\n",
    "\n",
    "In this study, I'll use Filter method (**coefficient values**) and Wrapper method (**backward elimination**) for kNN and SVM models. \n",
    "\n",
    "https://towardsdatascience.com/a-look-into-feature-importance-in-logistic-regression-models-a4aa970f9b0f\n",
    "\n",
    "https://towardsdatascience.com/feature-selection-using-wrapper-methods-in-python-f0d352b346f\n",
    "\n",
    "\n",
    "\n",
    "#### 1. Over-sampling using SMOTE\n",
    "\n",
    "`SMOTE` works by selecting examples that are close in the feature space, drawing a line between the examples in the feature space and drawing a new sample at a point along that line.\n",
    "\n",
    "Researchers have found that balancing the data will to better classification models\n",
    "\n",
    "SMOTE (Synthetic Minority Over-sampling Technique) is a type of over-sampling procedure that is used to correct the imbalances in the groups. This technique creates new data instances of the minority groups by copying existing minority instances and making small changes to them. This makes SMOTE great at amplifying signals that already exist in the minority groups, but won’t create new information for those groups.\n"
   ]
  },
  {
   "cell_type": "code",
   "execution_count": 26,
   "metadata": {
    "ExecuteTime": {
     "end_time": "2020-07-12T10:42:10.787316Z",
     "start_time": "2020-07-12T10:42:10.782985Z"
    }
   },
   "outputs": [],
   "source": [
    "# make a copy\n",
    "df07 = df06.copy()"
   ]
  },
  {
   "cell_type": "code",
   "execution_count": 27,
   "metadata": {
    "ExecuteTime": {
     "end_time": "2020-07-12T10:42:12.786990Z",
     "start_time": "2020-07-12T10:42:12.779143Z"
    }
   },
   "outputs": [],
   "source": [
    "# Create X and y\n",
    "X = df07.drop(['IsDeny'], axis=1)\n",
    "y = df07[['IsDeny']]"
   ]
  },
  {
   "cell_type": "code",
   "execution_count": 28,
   "metadata": {
    "ExecuteTime": {
     "end_time": "2020-07-12T10:42:15.001364Z",
     "start_time": "2020-07-12T10:42:14.987517Z"
    }
   },
   "outputs": [
    {
     "name": "stdout",
     "output_type": "stream",
     "text": [
      "Training dataset shape: (1904, 12) (1904, 1)\n",
      "Testing dataset shape: (476, 12) (476, 1)\n"
     ]
    }
   ],
   "source": [
    "# Now split the data into training and testing subsets. \n",
    "X_train, X_test, y_train, y_test = train_test_split(X, y, test_size=0.2, random_state=0)\n",
    "\n",
    "# check the results\n",
    "print('Training dataset shape:', X_train.shape, y_train.shape)\n",
    "print('Testing dataset shape:', X_test.shape, y_test.shape)"
   ]
  },
  {
   "cell_type": "code",
   "execution_count": 29,
   "metadata": {
    "ExecuteTime": {
     "end_time": "2020-07-12T10:42:24.369746Z",
     "start_time": "2020-07-12T10:42:24.113219Z"
    }
   },
   "outputs": [
    {
     "name": "stdout",
     "output_type": "stream",
     "text": [
      "length of oversampled data is  3364\n",
      "Number of no deny in oversampled data 1682\n",
      "Number of deny 1682\n",
      "Proportion of no deny data in oversampled data is  0.5\n",
      "Proportion of deny data in oversampled data is  0.5\n"
     ]
    }
   ],
   "source": [
    "from imblearn.over_sampling import SMOTE\n",
    "\n",
    "os = SMOTE(random_state=0)\n",
    "columns = X_train.columns\n",
    "X_resampled_test,y_resampled_test=os.fit_sample(X_train, y_train)\n",
    "\n",
    "os_data_X = pd.DataFrame(data=X_resampled_test,columns=columns )\n",
    "os_data_y= pd.DataFrame(data=y_resampled_test,columns=['IsDeny'])\n",
    "\n",
    "# we can Check the numbers of our data\n",
    "print(\"length of oversampled data is \",len(X_resampled_test))\n",
    "print(\"Number of no deny in oversampled data\",len(y_resampled_test[y_resampled_test['IsDeny']==0]))\n",
    "print(\"Number of deny\",len(y_resampled_test[y_resampled_test['IsDeny']==1]))\n",
    "print(\"Proportion of no deny data in oversampled data is \",len(y_resampled_test[y_resampled_test['IsDeny']==0])/len(X_resampled_test))\n",
    "print(\"Proportion of deny data in oversampled data is \",len(y_resampled_test[y_resampled_test['IsDeny']==1])/len(X_resampled_test))\n"
   ]
  },
  {
   "cell_type": "code",
   "execution_count": 30,
   "metadata": {
    "ExecuteTime": {
     "end_time": "2020-07-12T10:42:26.810804Z",
     "start_time": "2020-07-12T10:42:26.538837Z"
    }
   },
   "outputs": [
    {
     "data": {
      "text/plain": [
       "<matplotlib.axes._subplots.AxesSubplot at 0x12eca0850>"
      ]
     },
     "execution_count": 30,
     "metadata": {},
     "output_type": "execute_result"
    },
    {
     "data": {
      "image/png": "[encoded data removed]",
      "text/plain": [
       "<Figure size 432x288 with 1 Axes>"
      ]
     },
     "metadata": {},
     "output_type": "display_data"
    }
   ],
   "source": [
    "# observe that data has been balanced\n",
    "sns.countplot(x='IsDeny', data=os_data_y)\n"
   ]
  },
  {
   "cell_type": "markdown",
   "metadata": {},
   "source": [
    "**Check the null error rate:**\n",
    "\n",
    "Null Error Rate is how often you would be wrong if you always predicted the majority class.\n"
   ]
  },
  {
   "cell_type": "code",
   "execution_count": 31,
   "metadata": {
    "ExecuteTime": {
     "end_time": "2020-07-12T10:42:30.865968Z",
     "start_time": "2020-07-12T10:42:30.854875Z"
    }
   },
   "outputs": [
    {
     "data": {
      "text/plain": [
       "0.5"
      ]
     },
     "execution_count": 31,
     "metadata": {},
     "output_type": "execute_result"
    }
   ],
   "source": [
    "# null error rate of balanced dataset\n",
    "# set up dataset after SMOTE\n",
    "data_train = pd.concat([os_data_X, os_data_y], axis=1)\n",
    "\n",
    "# what percentage of the training set denied?\n",
    "data_train.IsDeny.values.sum() / data_train.shape[0]"
   ]
  },
  {
   "cell_type": "code",
   "execution_count": 32,
   "metadata": {
    "ExecuteTime": {
     "end_time": "2020-07-12T10:42:31.880161Z",
     "start_time": "2020-07-12T10:42:31.871901Z"
    }
   },
   "outputs": [
    {
     "data": {
      "text/plain": [
       "0.8802521008403361"
      ]
     },
     "execution_count": 32,
     "metadata": {},
     "output_type": "execute_result"
    }
   ],
   "source": [
    "# Null error rate of the original dataset\n",
    "1 - df06.IsDeny.values.sum() / df06.shape[0]"
   ]
  },
  {
   "cell_type": "markdown",
   "metadata": {},
   "source": [
    "The null error rate of the imbalanced trianing dataset is 88%, which is great but not reliable since the dataset is imbalanced. After using 'SMOTE' to balance the dataset, the null error rate for the balanced training dataset is reduced from 88% to 50%.\n"
   ]
  },
  {
   "cell_type": "code",
   "execution_count": 36,
   "metadata": {
    "ExecuteTime": {
     "end_time": "2020-07-12T10:45:56.956294Z",
     "start_time": "2020-07-12T10:45:56.939598Z"
    }
   },
   "outputs": [
    {
     "name": "stdout",
     "output_type": "stream",
     "text": [
      "Before OverSampling, counts of label '1': 222\n",
      "Before OverSampling, counts of label '0': 1682 \n",
      "\n",
      "After OverSampling, the shape of train_X: (3364, 12)\n",
      "After OverSampling, the shape of train_y: (3364, 1) \n",
      "\n",
      "After OverSampling, counts of label '1': 1682\n",
      "After OverSampling, counts of label '0': 1682\n"
     ]
    }
   ],
   "source": [
    "print(\"Before OverSampling, counts of label '1': {}\".format(sum(y_train['IsDeny']==1)))\n",
    "print(\"Before OverSampling, counts of label '0': {} \\n\".format(sum(y_train['IsDeny']==0)))\n",
    "\n",
    "print('After OverSampling, the shape of train_X: {}'.format(os_data_X.shape))\n",
    "print('After OverSampling, the shape of train_y: {} \\n'.format(os_data_y.shape))\n",
    "\n",
    "print(\"After OverSampling, counts of label '1': {}\".format(sum(os_data_y['IsDeny']==1)))\n",
    "print(\"After OverSampling, counts of label '0': {}\".format(sum(os_data_y['IsDeny']==0)))"
   ]
  },
  {
   "cell_type": "markdown",
   "metadata": {},
   "source": [
    "The training dataset has been banlanced.\n",
    "\n",
    "#### 2. Standardizing the Variables\n",
    "\n",
    "Scaling is important in the algorithms such as support vector machines (SVM) and k-nearest neighbors (KNN) where distance between the data points is important. \n",
    "\n",
    "I'll use the `StandardScaler()`, `fit_transform` to the train set, and `transform` the test set."
   ]
  },
  {
   "cell_type": "code",
   "execution_count": 37,
   "metadata": {
    "ExecuteTime": {
     "end_time": "2020-07-12T10:46:57.492696Z",
     "start_time": "2020-07-12T10:46:57.447255Z"
    }
   },
   "outputs": [
    {
     "data": {
      "text/html": [
       "<div>\n",
       "<style scoped>\n",
       "    .dataframe tbody tr th:only-of-type {\n",
       "        vertical-align: middle;\n",
       "    }\n",
       "\n",
       "    .dataframe tbody tr th {\n",
       "        vertical-align: top;\n",
       "    }\n",
       "\n",
       "    .dataframe thead th {\n",
       "        text-align: right;\n",
       "    }\n",
       "</style>\n",
       "<table border=\"1\" class=\"dataframe\">\n",
       "  <thead>\n",
       "    <tr style=\"text-align: right;\">\n",
       "      <th></th>\n",
       "      <th>dir</th>\n",
       "      <th>hir</th>\n",
       "      <th>lvr</th>\n",
       "      <th>ccs</th>\n",
       "      <th>mcs</th>\n",
       "      <th>IsBadCredit</th>\n",
       "      <th>IsDeniedMI</th>\n",
       "      <th>uria</th>\n",
       "      <th>IsAfricanAmerican</th>\n",
       "      <th>IsCondo</th>\n",
       "      <th>IsSingle</th>\n",
       "      <th>IsSelf</th>\n",
       "    </tr>\n",
       "  </thead>\n",
       "  <tbody>\n",
       "    <tr>\n",
       "      <th>0</th>\n",
       "      <td>1.938014</td>\n",
       "      <td>1.176849</td>\n",
       "      <td>0.066239</td>\n",
       "      <td>-0.828917</td>\n",
       "      <td>-1.628706</td>\n",
       "      <td>-0.356855</td>\n",
       "      <td>-0.194811</td>\n",
       "      <td>-0.314114</td>\n",
       "      <td>-0.480033</td>\n",
       "      <td>-0.583300</td>\n",
       "      <td>1.245934</td>\n",
       "      <td>3.249637</td>\n",
       "    </tr>\n",
       "    <tr>\n",
       "      <th>1</th>\n",
       "      <td>-0.447556</td>\n",
       "      <td>-0.468146</td>\n",
       "      <td>0.771838</td>\n",
       "      <td>1.807325</td>\n",
       "      <td>0.390348</td>\n",
       "      <td>-0.356855</td>\n",
       "      <td>-0.194811</td>\n",
       "      <td>0.012309</td>\n",
       "      <td>-0.480033</td>\n",
       "      <td>-0.583300</td>\n",
       "      <td>1.245934</td>\n",
       "      <td>-0.307727</td>\n",
       "    </tr>\n",
       "    <tr>\n",
       "      <th>2</th>\n",
       "      <td>-0.013010</td>\n",
       "      <td>0.233858</td>\n",
       "      <td>-0.146772</td>\n",
       "      <td>-0.828917</td>\n",
       "      <td>0.390348</td>\n",
       "      <td>-0.356855</td>\n",
       "      <td>-0.194811</td>\n",
       "      <td>0.012309</td>\n",
       "      <td>-0.480033</td>\n",
       "      <td>1.714383</td>\n",
       "      <td>1.245934</td>\n",
       "      <td>-0.307727</td>\n",
       "    </tr>\n",
       "    <tr>\n",
       "      <th>3</th>\n",
       "      <td>-1.094942</td>\n",
       "      <td>-0.415757</td>\n",
       "      <td>-2.878454</td>\n",
       "      <td>-0.828917</td>\n",
       "      <td>-1.628706</td>\n",
       "      <td>-0.356855</td>\n",
       "      <td>-0.194811</td>\n",
       "      <td>0.198836</td>\n",
       "      <td>-0.480033</td>\n",
       "      <td>-0.583300</td>\n",
       "      <td>-0.802611</td>\n",
       "      <td>-0.307727</td>\n",
       "    </tr>\n",
       "    <tr>\n",
       "      <th>4</th>\n",
       "      <td>-0.633790</td>\n",
       "      <td>-0.185248</td>\n",
       "      <td>-0.598970</td>\n",
       "      <td>-0.301668</td>\n",
       "      <td>-1.628706</td>\n",
       "      <td>-0.356855</td>\n",
       "      <td>-0.194811</td>\n",
       "      <td>-0.314114</td>\n",
       "      <td>-0.480033</td>\n",
       "      <td>-0.583300</td>\n",
       "      <td>-0.802611</td>\n",
       "      <td>-0.307727</td>\n",
       "    </tr>\n",
       "  </tbody>\n",
       "</table>\n",
       "</div>"
      ],
      "text/plain": [
       "        dir       hir       lvr       ccs       mcs  IsBadCredit  IsDeniedMI  \\\n",
       "0  1.938014  1.176849  0.066239 -0.828917 -1.628706    -0.356855   -0.194811   \n",
       "1 -0.447556 -0.468146  0.771838  1.807325  0.390348    -0.356855   -0.194811   \n",
       "2 -0.013010  0.233858 -0.146772 -0.828917  0.390348    -0.356855   -0.194811   \n",
       "3 -1.094942 -0.415757 -2.878454 -0.828917 -1.628706    -0.356855   -0.194811   \n",
       "4 -0.633790 -0.185248 -0.598970 -0.301668 -1.628706    -0.356855   -0.194811   \n",
       "\n",
       "       uria  IsAfricanAmerican   IsCondo  IsSingle    IsSelf  \n",
       "0 -0.314114          -0.480033 -0.583300  1.245934  3.249637  \n",
       "1  0.012309          -0.480033 -0.583300  1.245934 -0.307727  \n",
       "2  0.012309          -0.480033  1.714383  1.245934 -0.307727  \n",
       "3  0.198836          -0.480033 -0.583300 -0.802611 -0.307727  \n",
       "4 -0.314114          -0.480033 -0.583300 -0.802611 -0.307727  "
      ]
     },
     "execution_count": 37,
     "metadata": {},
     "output_type": "execute_result"
    }
   ],
   "source": [
    "from sklearn.preprocessing import StandardScaler\n",
    "\n",
    "sc = StandardScaler()\n",
    "# Standardizing the train dataset\n",
    "os_data_X02 = sc.fit_transform(os_data_X)\n",
    "scaled_X_train = pd.DataFrame(os_data_X02, columns=os_data_X.columns)\n",
    "scaled_X_train.head()"
   ]
  },
  {
   "cell_type": "code",
   "execution_count": 38,
   "metadata": {
    "ExecuteTime": {
     "end_time": "2020-07-12T10:47:06.069431Z",
     "start_time": "2020-07-12T10:47:06.060791Z"
    }
   },
   "outputs": [],
   "source": [
    "# Standardizing the test dataset\n",
    "X_test02 = sc.transform(X_test)\n",
    "scaled_X_test = pd.DataFrame(X_test02, columns=X_test.columns)"
   ]
  },
  {
   "cell_type": "markdown",
   "metadata": {},
   "source": [
    "All data have been transformed having a mean of 0 and a standard deviation of 1.\n",
    "\n",
    "#### 3. Feature Importance - coefficient values\n",
    "\n",
    "The higher the coefficient, the higher the “importance” of a feature. To set the baseline, the decision was made to select the top eight features. I'll rank features by using coefficient values."
   ]
  },
  {
   "cell_type": "code",
   "execution_count": 39,
   "metadata": {
    "ExecuteTime": {
     "end_time": "2020-07-12T10:47:12.477889Z",
     "start_time": "2020-07-12T10:47:12.425765Z"
    }
   },
   "outputs": [
    {
     "data": {
      "text/html": [
       "<div>\n",
       "<style scoped>\n",
       "    .dataframe tbody tr th:only-of-type {\n",
       "        vertical-align: middle;\n",
       "    }\n",
       "\n",
       "    .dataframe tbody tr th {\n",
       "        vertical-align: top;\n",
       "    }\n",
       "\n",
       "    .dataframe thead th {\n",
       "        text-align: right;\n",
       "    }\n",
       "</style>\n",
       "<table border=\"1\" class=\"dataframe\">\n",
       "  <thead>\n",
       "    <tr style=\"text-align: right;\">\n",
       "      <th></th>\n",
       "      <th>Feature</th>\n",
       "      <th>Coefficients</th>\n",
       "    </tr>\n",
       "  </thead>\n",
       "  <tbody>\n",
       "    <tr>\n",
       "      <th>0</th>\n",
       "      <td>dir</td>\n",
       "      <td>0.700698</td>\n",
       "    </tr>\n",
       "    <tr>\n",
       "      <th>1</th>\n",
       "      <td>IsDeniedMI</td>\n",
       "      <td>0.637150</td>\n",
       "    </tr>\n",
       "    <tr>\n",
       "      <th>2</th>\n",
       "      <td>ccs</td>\n",
       "      <td>0.541704</td>\n",
       "    </tr>\n",
       "    <tr>\n",
       "      <th>3</th>\n",
       "      <td>lvr</td>\n",
       "      <td>0.315733</td>\n",
       "    </tr>\n",
       "    <tr>\n",
       "      <th>4</th>\n",
       "      <td>IsBadCredit</td>\n",
       "      <td>0.265528</td>\n",
       "    </tr>\n",
       "    <tr>\n",
       "      <th>5</th>\n",
       "      <td>mcs</td>\n",
       "      <td>0.247294</td>\n",
       "    </tr>\n",
       "    <tr>\n",
       "      <th>6</th>\n",
       "      <td>IsAfricanAmerican</td>\n",
       "      <td>0.220406</td>\n",
       "    </tr>\n",
       "    <tr>\n",
       "      <th>7</th>\n",
       "      <td>IsCondo</td>\n",
       "      <td>-0.165879</td>\n",
       "    </tr>\n",
       "    <tr>\n",
       "      <th>8</th>\n",
       "      <td>IsSingle</td>\n",
       "      <td>0.127097</td>\n",
       "    </tr>\n",
       "    <tr>\n",
       "      <th>9</th>\n",
       "      <td>uria</td>\n",
       "      <td>0.126693</td>\n",
       "    </tr>\n",
       "    <tr>\n",
       "      <th>10</th>\n",
       "      <td>IsSelf</td>\n",
       "      <td>-0.099797</td>\n",
       "    </tr>\n",
       "    <tr>\n",
       "      <th>11</th>\n",
       "      <td>hir</td>\n",
       "      <td>-0.044184</td>\n",
       "    </tr>\n",
       "  </tbody>\n",
       "</table>\n",
       "</div>"
      ],
      "text/plain": [
       "              Feature  Coefficients\n",
       "0                 dir      0.700698\n",
       "1          IsDeniedMI      0.637150\n",
       "2                 ccs      0.541704\n",
       "3                 lvr      0.315733\n",
       "4         IsBadCredit      0.265528\n",
       "5                 mcs      0.247294\n",
       "6   IsAfricanAmerican      0.220406\n",
       "7             IsCondo     -0.165879\n",
       "8            IsSingle      0.127097\n",
       "9                uria      0.126693\n",
       "10             IsSelf     -0.099797\n",
       "11                hir     -0.044184"
      ]
     },
     "execution_count": 39,
     "metadata": {},
     "output_type": "execute_result"
    }
   ],
   "source": [
    "from sklearn.linear_model import LogisticRegression\n",
    "\n",
    "# logistic regression for feature importance\n",
    "logreg = LogisticRegression()\n",
    "\n",
    "# fit the model\n",
    "logreg.fit(scaled_X_train, os_data_y.values.ravel())\n",
    "\n",
    "# calculate the coefficients\n",
    "df_coeff = pd.DataFrame({\"Feature\":scaled_X_train.columns.tolist(),\"Coefficients\":logreg.coef_[0]})\n",
    "\n",
    "df_coeff.iloc[df_coeff['Coefficients'].abs().argsort()[::-1]].reset_index(drop=True)\n"
   ]
  },
  {
   "cell_type": "markdown",
   "metadata": {},
   "source": [
    "The coefficient values that are greater than 0.2 will be selected for the model. \n",
    "\n",
    "There are 7 features selected, they are 'dir, IsDeniedMI, ccs, lvr, IsBadCredit, mcs, IsAfricanAmerican'.\n"
   ]
  },
  {
   "cell_type": "markdown",
   "metadata": {},
   "source": [
    "\n",
    "#### 4. Feature Importance - Backward elimination\n",
    "\n",
    "https://towardsdatascience.com/feature-selection-using-wrapper-methods-in-python-f0d352b346f\n",
    "\n",
    "Next, I'll use backward elimination for feature selection.\n",
    "\n",
    "In backward elimination, we start with the full model (including all the independent variables) and then remove the insignificant feature with highest p-value(>significance level). This process repeats again and again until we have the final set of significant features.\n",
    "\n",
    "In short, the steps involved in backward elimination are as follows: \n",
    "* 1. Choose a significance level (e.g. SL = 0.05 with a 95% confidence).\n",
    "* 2. Fit a full model including all the features.\n",
    "* 3. Consider the feature with highest p-value. If the p-value > significance level then go to Step 4, otherwise terminate the process.\n",
    "* 4. Remove the feature which is under consideration.\n",
    "* 5. Fit a model without this feature. Repeat the entire process from Step 3.\n"
   ]
  },
  {
   "cell_type": "code",
   "execution_count": 93,
   "metadata": {
    "ExecuteTime": {
     "end_time": "2020-07-09T01:07:44.748394Z",
     "start_time": "2020-07-09T01:07:44.736809Z"
    }
   },
   "outputs": [],
   "source": [
    "# https://towardsdatascience.com/feature-selection-using-wrapper-methods-in-python-f0d352b346f\n",
    "\n",
    "def backward_elimination(data, target,significance_level = 0.05):\n",
    "    features = data.columns.tolist()\n",
    "    while(len(features)>0):\n",
    "        features_with_constant = sm.add_constant(data[features])\n",
    "        p_values = sm.Logit(target, features_with_constant).fit().pvalues[1:]\n",
    "        max_p_value = p_values.max()\n",
    "        if(max_p_value >= significance_level):\n",
    "            excluded_feature = p_values.idxmax()\n",
    "            features.remove(excluded_feature)\n",
    "        else:\n",
    "            break \n",
    "    return features"
   ]
  },
  {
   "cell_type": "markdown",
   "metadata": {},
   "source": [
    "I'll use the above function to return a final list of significant features based on p-values through backward elimination."
   ]
  },
  {
   "cell_type": "code",
   "execution_count": 94,
   "metadata": {
    "ExecuteTime": {
     "end_time": "2020-07-09T01:09:16.477749Z",
     "start_time": "2020-07-09T01:09:16.395752Z"
    }
   },
   "outputs": [
    {
     "name": "stdout",
     "output_type": "stream",
     "text": [
      "Optimization terminated successfully.\n",
      "         Current function value: 0.541742\n",
      "         Iterations 7\n",
      "Optimization terminated successfully.\n",
      "         Current function value: 0.541804\n",
      "         Iterations 7\n"
     ]
    },
    {
     "data": {
      "text/plain": [
       "['dir',\n",
       " 'lvr',\n",
       " 'ccs',\n",
       " 'mcs',\n",
       " 'IsBadCredit',\n",
       " 'IsDeniedMI',\n",
       " 'uria',\n",
       " 'IsAfricanAmerican',\n",
       " 'IsCondo',\n",
       " 'IsSingle',\n",
       " 'IsSelf']"
      ]
     },
     "execution_count": 94,
     "metadata": {},
     "output_type": "execute_result"
    }
   ],
   "source": [
    "backward_elimination(scaled_X_train,os_data_y)"
   ]
  },
  {
   "cell_type": "markdown",
   "metadata": {},
   "source": [
    "#### Findings:\n",
    "1. From the feature selection method of coefficient values, I got the sorted features by coefficient values. The features with coefficients greater than 0.2 are selected for the model. They are 'dir, IsDeniedMI, ccs, lvr, IsBadCredit, mcs, IsAfricanAmerican'.\n",
    "2. From the feature selection method of backward elimination, 11 features are statistically significant to the model. They are 'dir', 'lvr', 'ccs', 'mcs', 'IsBadCredit', 'IsDeniedMI', 'uria', 'IsAfricanAmerican', 'IsCondo', 'IsSingle', 'IsSelf'. And 'hir' was removed. I'll use these 11 features in another model. \n",
    "\n"
   ]
  },
  {
   "cell_type": "markdown",
   "metadata": {},
   "source": [
    "***\n",
    "### Step 6. KNN + SVM Modeling\n",
    "\n",
    "First of all, I'll build a model with all features for model comparison. Then, 2 different models will be performed by using different features that are selected from the step of feature selection. I'll use the training dataset to build models.\n",
    "\n",
    ">* KNN01 = KNN model + full features: ('dir', 'hir', 'lvr', 'ccs', 'mcs', 'IsBadCredit', 'IsDeniedMI', 'uria', 'IsAfricanAmerican', 'IsCondo', 'IsSingle', 'IsSelf')\n",
    "\n",
    ">* KNN02 = KNN model + top 7 features from coefficient values: 'dir, IsDeniedMI, ccs, lvr, IsBadCredit, mcs, IsAfricanAmerican'.\n",
    "\n",
    ">* KNN03 = KNN model + 11 features with significant p value: 'dir', 'lvr', 'ccs', 'mcs', 'IsBadCredit', 'IsDeniedMI', 'uria', 'IsAfricanAmerican', 'IsCondo', 'IsSingle', 'IsSelf'. \n",
    "\n",
    ">* Pick the best model from knn medles and train the knn Classifier with Hyper-parameter Tuning\n",
    "\n",
    ">* SVM01 = SVM model + full features: ('dir', 'hir', 'lvr', 'ccs', 'mcs', 'IsBadCredit', 'IsDeniedMI', 'uria', 'IsAfricanAmerican', 'IsCondo', 'IsSingle', 'IsSelf')\n",
    "\n",
    ">* SVM02 = SVM model + top 7 features from coefficient values: 'dir, IsDeniedMI, ccs, lvr, IsBadCredit, mcs, IsAfricanAmerican'. \n",
    "\n",
    ">* SVM03 = SVM model + 11 features with significant p value: 'dir', 'lvr', 'ccs', 'mcs', 'IsBadCredit', 'IsDeniedMI', 'uria', 'IsAfricanAmerican', 'IsCondo', 'IsSingle', 'IsSelf'. \n",
    "\n",
    ">* Pick the best model from SVM models and train the Support Vector Classifier with Hyper-parameter Tuning\n",
    "\n"
   ]
  },
  {
   "cell_type": "markdown",
   "metadata": {},
   "source": [
    "#### Create a function for model evaluation:\n",
    "\n",
    "For the training dataset, I'll use **cross-validation** to evaluate models since the training dataset is balaned. I'll use 10-fold cross-validation to see if the accuracy holds up more rigorously.\n",
    "\n",
    "I'll also perform model evaluation on the test dataset, which has an uneven class distribution. Therefore, accuracy is not a good metric for classification. Based on Professor Topor's lecture notes and below webpages, I'll choose the following metrics for model evaluation. For this study, what I care about are those whose mortgage application were actually denied and can be predicted denied (true negatives).  \n",
    "\n",
    "https://medium.com/usf-msds/choosing-the-right-metric-for-evaluating-machine-learning-models-part-2-86d5649a5428\n",
    "\n",
    "https://neptune.ai/blog/f1-score-accuracy-roc-auc-pr-auc\n",
    "\n",
    "https://towardsdatascience.com/accuracy-recall-precision-f-score-specificity-which-to-optimize-on-867d3f11124\n",
    "\n",
    "\n",
    "1. Both **F1 score and ROC-AUC score** can be used for class imbalance. \n",
    "The F1 score can be interpreted as a weighted average of the precision and recall, where an F1 score reaches its best value at 1 and worst score at 0. \n",
    "A test with no better accuracy than chance has an AUC of 0.5, and a test with perfect accuracy has an AUC of 1. AUC score means the probability that a randomly selected case will have a higher test result than a randomly selected control.\n",
    "\n",
    "2. I'm trying to minimize the number of false positives (FP), I'll use **precision** as one of the primary model performance metrics. Precision attempts to answer what proportion of positive identifications was actually correct. The false positives in this study mean the approved mortgage applications from the model should be denied. Therepore, the number of false positives should be minimized in order to reduce the number of those can't pay their mortgage.\n",
    "\n",
    "3. Choose **Specificity** if I want to cover all true negatives, meaning I don’t want any false alarms, I don’t want any false positives. Specificity tells us what proportion of the negative class got correctly classified. For example, I'll use the selected model to decide whose mortgage application can be approved. False positives here are intolerable. Specifity answers the following question: Of all the people whose mortgage applications were denied, how many of those did the model correctly predict?\n"
   ]
  },
  {
   "cell_type": "code",
   "execution_count": 48,
   "metadata": {
    "ExecuteTime": {
     "end_time": "2020-07-12T11:06:02.404102Z",
     "start_time": "2020-07-12T11:06:02.385761Z"
    }
   },
   "outputs": [],
   "source": [
    "def generate_model_report(y_actual, y_predicted):\n",
    "    cm1 = confusion_matrix(y_actual, y_predicted)\n",
    "    specificity1 = cm1[1,1]/(cm1[1,0]+cm1[1,1])\n",
    "    print('Specificity: ', specificity1)    \n",
    "    print(\"Precision = \" ,precision_score(y_actual, y_predicted))\n",
    "    print(\"F1 Score = \" ,f1_score(y_actual, y_predicted))\n",
    "    pass"
   ]
  },
  {
   "cell_type": "code",
   "execution_count": 78,
   "metadata": {
    "ExecuteTime": {
     "end_time": "2020-07-12T12:51:29.916722Z",
     "start_time": "2020-07-12T12:51:29.902214Z"
    }
   },
   "outputs": [],
   "source": [
    "# Model Evaluation Using Cross-Validation\n",
    "def cv_scores (model, X_train, y_train):\n",
    "    cv_scores = cross_val_score(model, X_train, y_train, cv=5)\n",
    "    print('trainging dataset each cv score:',cv_scores)\n",
    "    print('Model Mean Accuracy (training datasert):{} '.format(np.mean(cv_scores)))\n",
    "    "
   ]
  },
  {
   "cell_type": "markdown",
   "metadata": {},
   "source": [
    "### 1. KNN model01\n",
    "\n",
    "The knn01 has all 12 features."
   ]
  },
  {
   "cell_type": "code",
   "execution_count": 41,
   "metadata": {
    "ExecuteTime": {
     "end_time": "2020-07-12T10:48:59.370863Z",
     "start_time": "2020-07-12T10:48:59.295247Z"
    }
   },
   "outputs": [],
   "source": [
    "#Create KNN Object.\n",
    "knn01 = KNeighborsClassifier()\n",
    "\n",
    "#Create x and y variables.\n",
    "X01 = scaled_X_train\n",
    "y01 = os_data_y\n",
    "\n",
    "#fit the model.\n",
    "knn01.fit(X01, y01.values.ravel())\n",
    "\n",
    "#Predict test data set.\n",
    "y_pred01 = knn01.predict(scaled_X_test)\n"
   ]
  },
  {
   "cell_type": "markdown",
   "metadata": {},
   "source": [
    "### 2. KNN model02\n",
    "The second model has 7 features."
   ]
  },
  {
   "cell_type": "code",
   "execution_count": 42,
   "metadata": {
    "ExecuteTime": {
     "end_time": "2020-07-12T10:49:01.843580Z",
     "start_time": "2020-07-12T10:49:01.774434Z"
    }
   },
   "outputs": [],
   "source": [
    "#Create KNN Object.\n",
    "knn02 = KNeighborsClassifier()\n",
    "\n",
    "#Create x and y variables.\n",
    "X02 = scaled_X_train[['dir', 'IsDeniedMI', 'ccs', 'lvr', 'IsBadCredit', 'mcs', 'IsAfricanAmerican']]\n",
    "y02 = os_data_y\n",
    "\n",
    "scaled_X_test02 = scaled_X_test[['dir', 'IsDeniedMI', 'ccs', 'lvr', 'IsBadCredit', 'mcs', 'IsAfricanAmerican']]\n",
    "\n",
    "#fit the model.\n",
    "knn02.fit(X02, y02.values.ravel())\n",
    "\n",
    "#Predict test data set.\n",
    "y_pred02 = knn02.predict(scaled_X_test02)\n"
   ]
  },
  {
   "cell_type": "markdown",
   "metadata": {},
   "source": [
    "### 3. KNN model03\n",
    "The third model has 11 features."
   ]
  },
  {
   "cell_type": "code",
   "execution_count": 43,
   "metadata": {
    "ExecuteTime": {
     "end_time": "2020-07-12T10:49:04.329521Z",
     "start_time": "2020-07-12T10:49:04.235569Z"
    }
   },
   "outputs": [],
   "source": [
    "#Create KNN Object.\n",
    "knn03 = KNeighborsClassifier()\n",
    "\n",
    "#Create x and y variables.\n",
    "X03 = scaled_X_train[['dir', 'lvr', 'ccs', 'mcs', 'IsBadCredit', 'IsDeniedMI', 'uria', 'IsAfricanAmerican', 'IsCondo', 'IsSingle', 'IsSelf']]\n",
    "y03 = os_data_y\n",
    "\n",
    "scaled_X_test03 = scaled_X_test[['dir', 'lvr', 'ccs', 'mcs', 'IsBadCredit', 'IsDeniedMI', 'uria', 'IsAfricanAmerican', 'IsCondo', 'IsSingle', 'IsSelf']]\n",
    "\n",
    "#fit the model.\n",
    "knn03.fit(X03, y03.values.ravel())\n",
    "\n",
    "#Predict test data set.\n",
    "y_pred03 = knn03.predict(scaled_X_test03)\n"
   ]
  },
  {
   "cell_type": "markdown",
   "metadata": {},
   "source": [
    "***knn Model evaluation:**"
   ]
  },
  {
   "cell_type": "code",
   "execution_count": 80,
   "metadata": {
    "ExecuteTime": {
     "end_time": "2020-07-12T12:56:20.097710Z",
     "start_time": "2020-07-12T12:56:19.075865Z"
    }
   },
   "outputs": [
    {
     "name": "stdout",
     "output_type": "stream",
     "text": [
      "knn_Model 01:\n",
      "trainging dataset each cv score: [0.8410104  0.79494799 0.83506686 0.82466568 0.81994048]\n",
      "Model Mean Accuracy (training datasert):0.8231262824594919 \n",
      "roc_auc_score= 0.7300242130750605\n",
      "Specificity:  0.7142857142857143\n",
      "Precision =  0.3\n",
      "F1 Score =  0.4225352112676056\n",
      "-------------------------------------------\n",
      "knn_Model 02:\n",
      "trainging dataset each cv score: [0.79643388 0.78008915 0.76077266 0.78454681 0.77083333]\n",
      "Model Mean Accuracy (training datasert):0.7785351659237245 \n",
      "roc_auc_score= 0.6879203658864675\n",
      "Specificity:  0.6349206349206349\n",
      "Precision =  0.272108843537415\n",
      "F1 Score =  0.38095238095238093\n",
      "-------------------------------------------\n",
      "knn_Model 03:\n",
      "trainging dataset each cv score: [0.82763744 0.82912333 0.81723626 0.80089153 0.8110119 ]\n",
      "Model Mean Accuracy (training datasert):0.8171800926908654 \n",
      "roc_auc_score= 0.7208770513855259\n",
      "Specificity:  0.6984126984126984\n",
      "Precision =  0.29333333333333333\n",
      "F1 Score =  0.4131455399061033\n",
      "-------------------------------------------\n"
     ]
    }
   ],
   "source": [
    "#Checking performance the model with ROC Score.\n",
    "#Checking performance the model\n",
    "\n",
    "print(\"knn_Model 01:\")\n",
    "cv_scores(knn01, X01, y01.values.ravel())\n",
    "print('roc_auc_score=', roc_auc_score(y_test, y_pred01))\n",
    "generate_model_report(y_test, y_pred01)\n",
    "print(\"-------------------------------------------\")\n",
    "\n",
    "print(\"knn_Model 02:\")\n",
    "cv_scores(knn02, X02, y02.values.ravel())\n",
    "print('roc_auc_score=', roc_auc_score(y_test, y_pred02))\n",
    "generate_model_report(y_test, y_pred02)\n",
    "print(\"-------------------------------------------\")\n",
    "\n",
    "print(\"knn_Model 03:\")\n",
    "cv_scores(knn03, X03, y03.values.ravel())\n",
    "print('roc_auc_score=', roc_auc_score(y_test, y_pred03))\n",
    "generate_model_report(y_test, y_pred03)\n",
    "print(\"-------------------------------------------\")\n"
   ]
  },
  {
   "cell_type": "markdown",
   "metadata": {},
   "source": [
    "#### Results:\n",
    "\n",
    "The knn model01 has the highest model mean accuracy (training dataset), roc_auc_score, Specificity, Precision and F1 score. However, I prefer the model03. The knn model01 is better than the model03, but the difference is very little. The knn model03 deleted the 'hir' feature, which has the least coefficient, has a high correlation coefficient r (0.78) with the feature of 'dir' and is not statistically significant to the model. Therefore, for the knn model, I'll choose model03. Next, I'll tune the hyperparameters of the model03 to see if I can a better model.\n",
    "\n",
    "\n",
    "### 4. Hypertuning knn model parameters using `GridSearchCV`\n",
    "\n",
    "Here are the default values for knn: `sklearn.neighbors.KNeighborsClassifier(n_neighbors=5, weights='uniform', algorithm='auto', leaf_size=30, p=2, metric='minkowski', metric_params=None, n_jobs=None)`\n",
    "\n",
    "GridSearchCV works by training the model multiple times on a range of parameters that I specify. That way, I can test the model with each parameter and figure out the optimal values to get the best accuracy results.\n",
    "\n",
    "The default values were just used for the above knn models. I'll tune the following hyperparameters in this step:\n",
    "\n",
    "**n_neighbors** int, default=5\n",
    "Number of neighbors to use by default for kneighbors queries.\n",
    "\n",
    "**p** int, default=2\n",
    "Power parameter for the Minkowski metric. When p = 1, this is equivalent to using manhattan_distance (l1), and euclidean_distance (l2) for p = 2. \n"
   ]
  },
  {
   "cell_type": "code",
   "execution_count": 45,
   "metadata": {
    "ExecuteTime": {
     "end_time": "2020-07-12T10:49:38.537902Z",
     "start_time": "2020-07-12T10:49:16.488793Z"
    }
   },
   "outputs": [
    {
     "name": "stdout",
     "output_type": "stream",
     "text": [
      "Best p: 1\n",
      "Best n_neighbors: 1\n"
     ]
    }
   ],
   "source": [
    "# https://medium.com/datadriveninvestor/k-nearest-neighbors-in-python-hyperparameters-tuning-716734bc557f\n",
    "\n",
    "#List Hyperparameters that we want to tune.\n",
    "grid_params = {\n",
    "    'n_neighbors':np.arange(1, 25),\n",
    "    'p': [1,2]\n",
    "}\n",
    "\n",
    "#Create new KNN object\n",
    "knn_2 = KNeighborsClassifier()\n",
    "\n",
    "#Use GridSearch\n",
    "clf = GridSearchCV(knn_2, grid_params, cv=10)\n",
    "\n",
    "#Fit the model\n",
    "best_model = clf.fit(X03, y03.values.ravel())\n",
    "\n",
    "#Print The value of best Hyperparameters\n",
    "print('Best p:', best_model.best_estimator_.get_params()['p'])\n",
    "print('Best n_neighbors:', best_model.best_estimator_.get_params()['n_neighbors'])"
   ]
  },
  {
   "cell_type": "code",
   "execution_count": 50,
   "metadata": {
    "ExecuteTime": {
     "end_time": "2020-07-12T11:07:48.465241Z",
     "start_time": "2020-07-12T11:07:48.455216Z"
    }
   },
   "outputs": [
    {
     "name": "stdout",
     "output_type": "stream",
     "text": [
      "KNeighborsClassifier(n_neighbors=1, p=1)\n"
     ]
    }
   ],
   "source": [
    "print(best_model.best_estimator_)"
   ]
  },
  {
   "cell_type": "code",
   "execution_count": 83,
   "metadata": {
    "ExecuteTime": {
     "end_time": "2020-07-12T12:58:43.621733Z",
     "start_time": "2020-07-12T12:58:43.613325Z"
    }
   },
   "outputs": [
    {
     "data": {
      "text/plain": [
       "0.8567189487070793"
      ]
     },
     "execution_count": 83,
     "metadata": {},
     "output_type": "execute_result"
    }
   ],
   "source": [
    "#check mean score for the top performing value of n_neighbors\n",
    "best_model.best_score_"
   ]
  },
  {
   "cell_type": "markdown",
   "metadata": {},
   "source": [
    "We can see that 1 is the optimal value for ‘n_neighbors’ and 1 (manhattan_distance) is the optimal value for 'p'. I used the `best_score_` function to check the accuracy of the adjusted model when ‘n_neighbors’ is 1 and 'p' is 1. The ‘best_score_’ outputs the mean accuracy of the scores obtained through cross-validation.\n",
    "\n",
    "***Compare the adjusted model with the original model:**"
   ]
  },
  {
   "cell_type": "code",
   "execution_count": 82,
   "metadata": {
    "ExecuteTime": {
     "end_time": "2020-07-12T12:58:19.957849Z",
     "start_time": "2020-07-12T12:58:19.045245Z"
    }
   },
   "outputs": [
    {
     "name": "stdout",
     "output_type": "stream",
     "text": [
      "01.adjusted knn_Model (n_neighbors=1, p=1 -manhattan_distance):\n",
      "top performing n_neighbors value:  0.8567189487070793\n",
      "roc_auc_score= 0.6358622545063224\n",
      "Specificity:  0.49206349206349204\n",
      "Precision =  0.2540983606557377\n",
      "F1 Score =  0.3351351351351351\n",
      "-------------------------------------------\n",
      "02.original knn_Model:\n",
      "trainging dataset each cv score: [0.82763744 0.82912333 0.81723626 0.80089153 0.8110119 ]\n",
      "Model Mean Accuracy (training datasert):0.8171800926908654 \n",
      "roc_auc_score= 0.7208770513855259\n",
      "Specificity:  0.6984126984126984\n",
      "Precision =  0.29333333333333333\n",
      "F1 Score =  0.4131455399061033\n",
      "trainging dataset each cv score: [0.82763744 0.82912333 0.81723626 0.80089153 0.8110119 ]\n",
      "Model Mean Accuracy (training datasert):0.8171800926908654 \n",
      "-------------------------------------------\n"
     ]
    }
   ],
   "source": [
    "#Predict test data set using the adjusted model.\n",
    "y_pred03_new = best_model.predict(scaled_X_test03)\n",
    "\n",
    "print(\"01.adjusted knn_Model (n_neighbors=1, p=1 -manhattan_distance):\")\n",
    "print('top performing n_neighbors value: ',best_model.best_score_)\n",
    "print('roc_auc_score=', roc_auc_score(y_test, y_pred03_new))\n",
    "generate_model_report(y_test, y_pred03_new)\n",
    "print(\"-------------------------------------------\")\n",
    "print(\"02.original knn_Model:\")\n",
    "cv_scores(knn03, X03, y03.values.ravel())\n",
    "print('roc_auc_score=', roc_auc_score(y_test, y_pred03))\n",
    "generate_model_report(y_test, y_pred03)\n",
    "cv_scores(knn03, X03, y03.values.ravel())\n",
    "print(\"-------------------------------------------\")"
   ]
  },
  {
   "cell_type": "markdown",
   "metadata": {},
   "source": [
    "#### Results:\n",
    "By using grid search to find the optimal parameter for the KNN model, I have improved the knn model accuracy by almost 4%. However, the performance of prediction on the imbalanced test dataset is worse than the original model. In order to get the best performance, if I use the adjusted knn model in an imbalanced dataset, I need to balance the data before building the knn model. Finally, the best knn model is the adjusted one with 11 features and parameters of manhattan_distance and n_neighbors=1. \n"
   ]
  },
  {
   "cell_type": "markdown",
   "metadata": {},
   "source": [
    "### 5. SVM model01\n",
    "\n",
    "The SVM model01 has 12 features."
   ]
  },
  {
   "cell_type": "code",
   "execution_count": 52,
   "metadata": {
    "ExecuteTime": {
     "end_time": "2020-07-12T11:08:46.662353Z",
     "start_time": "2020-07-12T11:08:46.069935Z"
    }
   },
   "outputs": [],
   "source": [
    "\n",
    "# train the model on train set \n",
    "SVM_model01 = SVC() \n",
    "\n",
    "#Create x and y variables.\n",
    "X01 = scaled_X_train\n",
    "y01 = os_data_y\n",
    "\n",
    "#fit the model\n",
    "SVM_model01.fit(X01, y01.values.ravel()) \n",
    "\n",
    "#Predict test data set.\n",
    "y_pred04 = SVM_model01.predict(scaled_X_test)"
   ]
  },
  {
   "cell_type": "markdown",
   "metadata": {},
   "source": [
    "### 6. SVM model02\n",
    "The second model has 7 features."
   ]
  },
  {
   "cell_type": "code",
   "execution_count": 53,
   "metadata": {
    "ExecuteTime": {
     "end_time": "2020-07-12T11:09:01.909305Z",
     "start_time": "2020-07-12T11:09:01.478357Z"
    }
   },
   "outputs": [],
   "source": [
    "# train the model on train set \n",
    "SVM_model02 = SVC() \n",
    "\n",
    "#Create x and y variables.\n",
    "X02 = scaled_X_train[['dir', 'IsDeniedMI', 'ccs', 'lvr', 'IsBadCredit', 'mcs', 'IsAfricanAmerican']]\n",
    "y02 = os_data_y\n",
    "\n",
    "scaled_X_test02 = scaled_X_test[['dir', 'IsDeniedMI', 'ccs', 'lvr', 'IsBadCredit', 'mcs', 'IsAfricanAmerican']]\n",
    "\n",
    "#fit the model\n",
    "SVM_model02.fit(X02, y02.values.ravel()) \n",
    "\n",
    "#Predict test data set.\n",
    "y_pred05 = SVM_model02.predict(scaled_X_test02)\n"
   ]
  },
  {
   "cell_type": "markdown",
   "metadata": {},
   "source": [
    "### 7. SVM model03\n",
    "The third model has 11 features."
   ]
  },
  {
   "cell_type": "code",
   "execution_count": 54,
   "metadata": {
    "ExecuteTime": {
     "end_time": "2020-07-12T11:09:05.379531Z",
     "start_time": "2020-07-12T11:09:04.897572Z"
    }
   },
   "outputs": [],
   "source": [
    "# train the model on train set \n",
    "SVM_model03 = SVC() \n",
    "\n",
    "#Create x and y variables.\n",
    "X03 = scaled_X_train[['dir', 'lvr', 'ccs', 'mcs', 'IsBadCredit', 'IsDeniedMI', 'uria', 'IsAfricanAmerican', 'IsCondo', 'IsSingle', 'IsSelf']]\n",
    "y03 = os_data_y\n",
    "\n",
    "scaled_X_test03 = scaled_X_test[['dir', 'lvr', 'ccs', 'mcs', 'IsBadCredit', 'IsDeniedMI', 'uria', 'IsAfricanAmerican', 'IsCondo', 'IsSingle', 'IsSelf']]\n",
    "\n",
    "#fit the model\n",
    "SVM_model03.fit(X03, y03.values.ravel()) \n",
    "\n",
    "#Predict test data set.\n",
    "y_pred06 = SVM_model03.predict(scaled_X_test03)\n"
   ]
  },
  {
   "cell_type": "markdown",
   "metadata": {},
   "source": [
    "***SVM Model evaluation:**"
   ]
  },
  {
   "cell_type": "code",
   "execution_count": 84,
   "metadata": {
    "ExecuteTime": {
     "end_time": "2020-07-12T13:14:45.485594Z",
     "start_time": "2020-07-12T13:14:40.457151Z"
    }
   },
   "outputs": [
    {
     "name": "stdout",
     "output_type": "stream",
     "text": [
      "SVM_Model 01:\n",
      "trainging dataset each cv score: [0.78008915 0.76374443 0.78454681 0.75334324 0.80357143]\n",
      "Model Mean Accuracy (training datasert):0.777059010825727 \n",
      "roc_auc_score= 0.7309658326607479\n",
      "Specificity:  0.6507936507936508\n",
      "Precision =  0.3445378151260504\n",
      "F1 Score =  0.45054945054945056\n",
      "-------------------------------------------\n",
      "SVM_Model 02:\n",
      "trainging dataset each cv score: [0.75037147 0.73699851 0.75185736 0.69985141 0.76488095]\n",
      "Model Mean Accuracy (training datasert):0.7407919408476615 \n",
      "roc_auc_score= 0.7480495022867905\n",
      "Specificity:  0.6825396825396826\n",
      "Precision =  0.35833333333333334\n",
      "F1 Score =  0.4699453551912568\n",
      "-------------------------------------------\n",
      "SVM_Model 03:\n",
      "trainging dataset each cv score: [0.77117385 0.76968796 0.78751857 0.73699851 0.79910714]\n",
      "Model Mean Accuracy (training datasert):0.7728972086605816 \n",
      "roc_auc_score= 0.7333871401668012\n",
      "Specificity:  0.6507936507936508\n",
      "Precision =  0.3504273504273504\n",
      "F1 Score =  0.45555555555555555\n",
      "-------------------------------------------\n"
     ]
    }
   ],
   "source": [
    "#Checking performance the model with ROC Score.\n",
    "#Checking performance the model\n",
    "\n",
    "print(\"SVM_Model 01:\")\n",
    "cv_scores(SVM_model01, X01, y01.values.ravel())\n",
    "print('roc_auc_score=', roc_auc_score(y_test, y_pred04))\n",
    "generate_model_report(y_test, y_pred04)\n",
    "print(\"-------------------------------------------\")\n",
    "\n",
    "print(\"SVM_Model 02:\")\n",
    "cv_scores(SVM_model02, X02, y02.values.ravel())\n",
    "print('roc_auc_score=', roc_auc_score(y_test, y_pred05))\n",
    "generate_model_report(y_test, y_pred05)\n",
    "print(\"-------------------------------------------\")\n",
    "\n",
    "print(\"SVM_Model 03:\")\n",
    "cv_scores(SVM_model03, X03, y03.values.ravel())\n",
    "print('roc_auc_score=', roc_auc_score(y_test, y_pred06))\n",
    "generate_model_report(y_test, y_pred06)\n",
    "print(\"-------------------------------------------\")"
   ]
  },
  {
   "cell_type": "markdown",
   "metadata": {},
   "source": [
    "#### Findings:\n",
    "For the mean accuracy in the training dataset, the SVM model01 and model03 are almost the same and the highest, but the differences between them and the model02 are very little (0.03). The model02 has the least mean accuracy. However, for the prediction on the imbalanced test dataset, the SVM model02 has the highest roc_auc_score, Specificity, Precision and F1 score, and all 7 features in the SVM model02 statistically significant to the model. Therefore, for the SVM model, I prefer model02. Next, I'll tune the hyperparameters of the model02 to see if I can get a better model.\n",
    "\n",
    "### 8. Hypertuning SVM model parameters using `GridSearchCV`\n",
    "\n",
    "Here are the default values for the SVM model:\n",
    "sklearn.svm.SVC(*, C=1.0, kernel='rbf', degree=3, gamma='scale', coef0=0.0, shrinking=True, probability=False, tol=0.001, cache_size=200, class_weight=None, verbose=False, max_iter=-1, decision_function_shape='ovr', break_ties=False, random_state=None)\n",
    "\n",
    "The SVM models built above used the default parameters. Next, I'll use `GridsearchCV` to find the best parameter combination.\n",
    "\n",
    "I'll tune the following hyperparameters:\n",
    "\n",
    "Kernels default=’rbf’: The main function of the kernel is to take low dimensional input space and transform it into a higher-dimensional space. \n",
    "\n",
    "Gamma default=’scale (1)’: It defines how far influences the calculation of plausible line of separation.\n",
    "\n",
    "C (Regularisation) default=1.0 : C is the penalty parameter, which represents misclassification or error term.\n",
    "\n",
    "https://www.geeksforgeeks.org/svm-hyperparameter-tuning-using-gridsearchcv-ml/"
   ]
  },
  {
   "cell_type": "code",
   "execution_count": 56,
   "metadata": {
    "ExecuteTime": {
     "end_time": "2020-07-12T11:22:25.663718Z",
     "start_time": "2020-07-12T11:09:47.111359Z"
    },
    "scrolled": true
   },
   "outputs": [
    {
     "name": "stdout",
     "output_type": "stream",
     "text": [
      "Fitting 5 folds for each of 36 candidates, totalling 180 fits\n",
      "[CV] C=0.1, gamma=1, kernel=poly .....................................\n"
     ]
    },
    {
     "name": "stderr",
     "output_type": "stream",
     "text": [
      "[Parallel(n_jobs=1)]: Using backend SequentialBackend with 1 concurrent workers.\n"
     ]
    },
    {
     "name": "stdout",
     "output_type": "stream",
     "text": [
      "[CV] ......... C=0.1, gamma=1, kernel=poly, score=0.741, total=   1.6s\n",
      "[CV] C=0.1, gamma=1, kernel=poly .....................................\n"
     ]
    },
    {
     "name": "stderr",
     "output_type": "stream",
     "text": [
      "[Parallel(n_jobs=1)]: Done   1 out of   1 | elapsed:    1.6s remaining:    0.0s\n"
     ]
    },
    {
     "name": "stdout",
     "output_type": "stream",
     "text": [
      "[CV] ......... C=0.1, gamma=1, kernel=poly, score=0.724, total=   1.8s\n",
      "[CV] C=0.1, gamma=1, kernel=poly .....................................\n"
     ]
    },
    {
     "name": "stderr",
     "output_type": "stream",
     "text": [
      "[Parallel(n_jobs=1)]: Done   2 out of   2 | elapsed:    3.4s remaining:    0.0s\n"
     ]
    },
    {
     "name": "stdout",
     "output_type": "stream",
     "text": [
      "[CV] ......... C=0.1, gamma=1, kernel=poly, score=0.728, total=   1.4s\n",
      "[CV] C=0.1, gamma=1, kernel=poly .....................................\n",
      "[CV] ......... C=0.1, gamma=1, kernel=poly, score=0.694, total=   1.8s\n",
      "[CV] C=0.1, gamma=1, kernel=poly .....................................\n",
      "[CV] ......... C=0.1, gamma=1, kernel=poly, score=0.751, total=   1.3s\n",
      "[CV] C=0.1, gamma=1, kernel=rbf ......................................\n",
      "[CV] .......... C=0.1, gamma=1, kernel=rbf, score=0.767, total=   0.3s\n",
      "[CV] C=0.1, gamma=1, kernel=rbf ......................................\n",
      "[CV] .......... C=0.1, gamma=1, kernel=rbf, score=0.744, total=   0.3s\n",
      "[CV] C=0.1, gamma=1, kernel=rbf ......................................\n",
      "[CV] .......... C=0.1, gamma=1, kernel=rbf, score=0.731, total=   0.3s\n",
      "[CV] C=0.1, gamma=1, kernel=rbf ......................................\n",
      "[CV] .......... C=0.1, gamma=1, kernel=rbf, score=0.718, total=   0.4s\n",
      "[CV] C=0.1, gamma=1, kernel=rbf ......................................\n",
      "[CV] .......... C=0.1, gamma=1, kernel=rbf, score=0.746, total=   0.3s\n",
      "[CV] C=0.1, gamma=1, kernel=sigmoid ..................................\n",
      "[CV] ...... C=0.1, gamma=1, kernel=sigmoid, score=0.621, total=   0.3s\n",
      "[CV] C=0.1, gamma=1, kernel=sigmoid ..................................\n",
      "[CV] ...... C=0.1, gamma=1, kernel=sigmoid, score=0.557, total=   0.4s\n",
      "[CV] C=0.1, gamma=1, kernel=sigmoid ..................................\n",
      "[CV] ...... C=0.1, gamma=1, kernel=sigmoid, score=0.615, total=   0.3s\n",
      "[CV] C=0.1, gamma=1, kernel=sigmoid ..................................\n",
      "[CV] ...... C=0.1, gamma=1, kernel=sigmoid, score=0.621, total=   0.4s\n",
      "[CV] C=0.1, gamma=1, kernel=sigmoid ..................................\n",
      "[CV] ...... C=0.1, gamma=1, kernel=sigmoid, score=0.624, total=   0.4s\n",
      "[CV] C=0.1, gamma=1, kernel=linear ...................................\n",
      "[CV] ....... C=0.1, gamma=1, kernel=linear, score=0.752, total=   0.3s\n",
      "[CV] C=0.1, gamma=1, kernel=linear ...................................\n",
      "[CV] ....... C=0.1, gamma=1, kernel=linear, score=0.728, total=   0.3s\n",
      "[CV] C=0.1, gamma=1, kernel=linear ...................................\n",
      "[CV] ....... C=0.1, gamma=1, kernel=linear, score=0.736, total=   0.2s\n",
      "[CV] C=0.1, gamma=1, kernel=linear ...................................\n",
      "[CV] ....... C=0.1, gamma=1, kernel=linear, score=0.704, total=   0.2s\n",
      "[CV] C=0.1, gamma=1, kernel=linear ...................................\n",
      "[CV] ....... C=0.1, gamma=1, kernel=linear, score=0.746, total=   0.2s\n",
      "[CV] C=0.1, gamma=0.1, kernel=poly ...................................\n",
      "[CV] ....... C=0.1, gamma=0.1, kernel=poly, score=0.719, total=   0.3s\n",
      "[CV] C=0.1, gamma=0.1, kernel=poly ...................................\n",
      "[CV] ....... C=0.1, gamma=0.1, kernel=poly, score=0.651, total=   0.2s\n",
      "[CV] C=0.1, gamma=0.1, kernel=poly ...................................\n",
      "[CV] ....... C=0.1, gamma=0.1, kernel=poly, score=0.663, total=   0.3s\n",
      "[CV] C=0.1, gamma=0.1, kernel=poly ...................................\n",
      "[CV] ....... C=0.1, gamma=0.1, kernel=poly, score=0.654, total=   0.3s\n",
      "[CV] C=0.1, gamma=0.1, kernel=poly ...................................\n",
      "[CV] ....... C=0.1, gamma=0.1, kernel=poly, score=0.698, total=   0.2s\n",
      "[CV] C=0.1, gamma=0.1, kernel=rbf ....................................\n",
      "[CV] ........ C=0.1, gamma=0.1, kernel=rbf, score=0.756, total=   0.3s\n",
      "[CV] C=0.1, gamma=0.1, kernel=rbf ....................................\n",
      "[CV] ........ C=0.1, gamma=0.1, kernel=rbf, score=0.727, total=   0.3s\n",
      "[CV] C=0.1, gamma=0.1, kernel=rbf ....................................\n",
      "[CV] ........ C=0.1, gamma=0.1, kernel=rbf, score=0.731, total=   0.3s\n",
      "[CV] C=0.1, gamma=0.1, kernel=rbf ....................................\n",
      "[CV] ........ C=0.1, gamma=0.1, kernel=rbf, score=0.688, total=   0.3s\n",
      "[CV] C=0.1, gamma=0.1, kernel=rbf ....................................\n",
      "[CV] ........ C=0.1, gamma=0.1, kernel=rbf, score=0.746, total=   0.3s\n",
      "[CV] C=0.1, gamma=0.1, kernel=sigmoid ................................\n",
      "[CV] .... C=0.1, gamma=0.1, kernel=sigmoid, score=0.733, total=   0.4s\n",
      "[CV] C=0.1, gamma=0.1, kernel=sigmoid ................................\n",
      "[CV] .... C=0.1, gamma=0.1, kernel=sigmoid, score=0.710, total=   0.3s\n",
      "[CV] C=0.1, gamma=0.1, kernel=sigmoid ................................\n",
      "[CV] .... C=0.1, gamma=0.1, kernel=sigmoid, score=0.713, total=   0.3s\n",
      "[CV] C=0.1, gamma=0.1, kernel=sigmoid ................................\n",
      "[CV] .... C=0.1, gamma=0.1, kernel=sigmoid, score=0.685, total=   0.3s\n",
      "[CV] C=0.1, gamma=0.1, kernel=sigmoid ................................\n",
      "[CV] .... C=0.1, gamma=0.1, kernel=sigmoid, score=0.728, total=   0.3s\n",
      "[CV] C=0.1, gamma=0.1, kernel=linear .................................\n",
      "[CV] ..... C=0.1, gamma=0.1, kernel=linear, score=0.752, total=   0.2s\n",
      "[CV] C=0.1, gamma=0.1, kernel=linear .................................\n",
      "[CV] ..... C=0.1, gamma=0.1, kernel=linear, score=0.728, total=   0.2s\n",
      "[CV] C=0.1, gamma=0.1, kernel=linear .................................\n",
      "[CV] ..... C=0.1, gamma=0.1, kernel=linear, score=0.736, total=   0.2s\n",
      "[CV] C=0.1, gamma=0.1, kernel=linear .................................\n",
      "[CV] ..... C=0.1, gamma=0.1, kernel=linear, score=0.704, total=   0.2s\n",
      "[CV] C=0.1, gamma=0.1, kernel=linear .................................\n",
      "[CV] ..... C=0.1, gamma=0.1, kernel=linear, score=0.746, total=   0.2s\n",
      "[CV] C=0.1, gamma=0.01, kernel=poly ..................................\n",
      "[CV] ...... C=0.1, gamma=0.01, kernel=poly, score=0.499, total=   0.2s\n",
      "[CV] C=0.1, gamma=0.01, kernel=poly ..................................\n",
      "[CV] ...... C=0.1, gamma=0.01, kernel=poly, score=0.508, total=   0.2s\n",
      "[CV] C=0.1, gamma=0.01, kernel=poly ..................................\n",
      "[CV] ...... C=0.1, gamma=0.01, kernel=poly, score=0.499, total=   0.3s\n",
      "[CV] C=0.1, gamma=0.01, kernel=poly ..................................\n",
      "[CV] ...... C=0.1, gamma=0.01, kernel=poly, score=0.499, total=   0.3s\n",
      "[CV] C=0.1, gamma=0.01, kernel=poly ..................................\n",
      "[CV] ...... C=0.1, gamma=0.01, kernel=poly, score=0.500, total=   0.2s\n",
      "[CV] C=0.1, gamma=0.01, kernel=rbf ...................................\n",
      "[CV] ....... C=0.1, gamma=0.01, kernel=rbf, score=0.750, total=   0.3s\n",
      "[CV] C=0.1, gamma=0.01, kernel=rbf ...................................\n",
      "[CV] ....... C=0.1, gamma=0.01, kernel=rbf, score=0.707, total=   0.3s\n",
      "[CV] C=0.1, gamma=0.01, kernel=rbf ...................................\n",
      "[CV] ....... C=0.1, gamma=0.01, kernel=rbf, score=0.713, total=   0.3s\n",
      "[CV] C=0.1, gamma=0.01, kernel=rbf ...................................\n",
      "[CV] ....... C=0.1, gamma=0.01, kernel=rbf, score=0.692, total=   0.3s\n",
      "[CV] C=0.1, gamma=0.01, kernel=rbf ...................................\n",
      "[CV] ....... C=0.1, gamma=0.01, kernel=rbf, score=0.738, total=   0.3s\n",
      "[CV] C=0.1, gamma=0.01, kernel=sigmoid ...............................\n",
      "[CV] ... C=0.1, gamma=0.01, kernel=sigmoid, score=0.747, total=   0.3s\n",
      "[CV] C=0.1, gamma=0.01, kernel=sigmoid ...............................\n",
      "[CV] ... C=0.1, gamma=0.01, kernel=sigmoid, score=0.703, total=   0.3s\n",
      "[CV] C=0.1, gamma=0.01, kernel=sigmoid ...............................\n",
      "[CV] ... C=0.1, gamma=0.01, kernel=sigmoid, score=0.710, total=   0.3s\n",
      "[CV] C=0.1, gamma=0.01, kernel=sigmoid ...............................\n",
      "[CV] ... C=0.1, gamma=0.01, kernel=sigmoid, score=0.689, total=   0.3s\n",
      "[CV] C=0.1, gamma=0.01, kernel=sigmoid ...............................\n",
      "[CV] ... C=0.1, gamma=0.01, kernel=sigmoid, score=0.743, total=   0.3s\n",
      "[CV] C=0.1, gamma=0.01, kernel=linear ................................\n",
      "[CV] .... C=0.1, gamma=0.01, kernel=linear, score=0.752, total=   0.3s\n",
      "[CV] C=0.1, gamma=0.01, kernel=linear ................................\n",
      "[CV] .... C=0.1, gamma=0.01, kernel=linear, score=0.728, total=   0.2s\n",
      "[CV] C=0.1, gamma=0.01, kernel=linear ................................\n",
      "[CV] .... C=0.1, gamma=0.01, kernel=linear, score=0.736, total=   0.2s\n",
      "[CV] C=0.1, gamma=0.01, kernel=linear ................................\n",
      "[CV] .... C=0.1, gamma=0.01, kernel=linear, score=0.704, total=   0.2s\n",
      "[CV] C=0.1, gamma=0.01, kernel=linear ................................\n",
      "[CV] .... C=0.1, gamma=0.01, kernel=linear, score=0.746, total=   0.2s\n",
      "[CV] C=1, gamma=1, kernel=poly .......................................\n"
     ]
    },
    {
     "name": "stdout",
     "output_type": "stream",
     "text": [
      "[CV] ........... C=1, gamma=1, kernel=poly, score=0.749, total=  16.4s\n",
      "[CV] C=1, gamma=1, kernel=poly .......................................\n",
      "[CV] ........... C=1, gamma=1, kernel=poly, score=0.738, total=  14.2s\n",
      "[CV] C=1, gamma=1, kernel=poly .......................................\n",
      "[CV] ........... C=1, gamma=1, kernel=poly, score=0.746, total=  10.4s\n",
      "[CV] C=1, gamma=1, kernel=poly .......................................\n",
      "[CV] ........... C=1, gamma=1, kernel=poly, score=0.694, total=  14.6s\n",
      "[CV] C=1, gamma=1, kernel=poly .......................................\n",
      "[CV] ........... C=1, gamma=1, kernel=poly, score=0.738, total=   6.4s\n",
      "[CV] C=1, gamma=1, kernel=rbf ........................................\n",
      "[CV] ............ C=1, gamma=1, kernel=rbf, score=0.786, total=   0.3s\n",
      "[CV] C=1, gamma=1, kernel=rbf ........................................\n",
      "[CV] ............ C=1, gamma=1, kernel=rbf, score=0.770, total=   0.3s\n",
      "[CV] C=1, gamma=1, kernel=rbf ........................................\n",
      "[CV] ............ C=1, gamma=1, kernel=rbf, score=0.785, total=   0.3s\n",
      "[CV] C=1, gamma=1, kernel=rbf ........................................\n",
      "[CV] ............ C=1, gamma=1, kernel=rbf, score=0.764, total=   0.3s\n",
      "[CV] C=1, gamma=1, kernel=rbf ........................................\n",
      "[CV] ............ C=1, gamma=1, kernel=rbf, score=0.792, total=   0.3s\n",
      "[CV] C=1, gamma=1, kernel=sigmoid ....................................\n",
      "[CV] ........ C=1, gamma=1, kernel=sigmoid, score=0.621, total=   0.2s\n",
      "[CV] C=1, gamma=1, kernel=sigmoid ....................................\n",
      "[CV] ........ C=1, gamma=1, kernel=sigmoid, score=0.569, total=   0.4s\n",
      "[CV] C=1, gamma=1, kernel=sigmoid ....................................\n",
      "[CV] ........ C=1, gamma=1, kernel=sigmoid, score=0.606, total=   0.2s\n",
      "[CV] C=1, gamma=1, kernel=sigmoid ....................................\n",
      "[CV] ........ C=1, gamma=1, kernel=sigmoid, score=0.620, total=   0.3s\n",
      "[CV] C=1, gamma=1, kernel=sigmoid ....................................\n",
      "[CV] ........ C=1, gamma=1, kernel=sigmoid, score=0.613, total=   0.3s\n",
      "[CV] C=1, gamma=1, kernel=linear .....................................\n",
      "[CV] ......... C=1, gamma=1, kernel=linear, score=0.750, total=   0.3s\n",
      "[CV] C=1, gamma=1, kernel=linear .....................................\n",
      "[CV] ......... C=1, gamma=1, kernel=linear, score=0.728, total=   0.3s\n",
      "[CV] C=1, gamma=1, kernel=linear .....................................\n",
      "[CV] ......... C=1, gamma=1, kernel=linear, score=0.733, total=   0.3s\n",
      "[CV] C=1, gamma=1, kernel=linear .....................................\n",
      "[CV] ......... C=1, gamma=1, kernel=linear, score=0.704, total=   0.2s\n",
      "[CV] C=1, gamma=1, kernel=linear .....................................\n",
      "[CV] ......... C=1, gamma=1, kernel=linear, score=0.746, total=   0.3s\n",
      "[CV] C=1, gamma=0.1, kernel=poly .....................................\n",
      "[CV] ......... C=1, gamma=0.1, kernel=poly, score=0.743, total=   0.3s\n",
      "[CV] C=1, gamma=0.1, kernel=poly .....................................\n",
      "[CV] ......... C=1, gamma=0.1, kernel=poly, score=0.685, total=   0.2s\n",
      "[CV] C=1, gamma=0.1, kernel=poly .....................................\n",
      "[CV] ......... C=1, gamma=0.1, kernel=poly, score=0.692, total=   0.3s\n",
      "[CV] C=1, gamma=0.1, kernel=poly .....................................\n",
      "[CV] ......... C=1, gamma=0.1, kernel=poly, score=0.676, total=   0.3s\n",
      "[CV] C=1, gamma=0.1, kernel=poly .....................................\n",
      "[CV] ......... C=1, gamma=0.1, kernel=poly, score=0.723, total=   0.3s\n",
      "[CV] C=1, gamma=0.1, kernel=rbf ......................................\n",
      "[CV] .......... C=1, gamma=0.1, kernel=rbf, score=0.743, total=   0.3s\n",
      "[CV] C=1, gamma=0.1, kernel=rbf ......................................\n",
      "[CV] .......... C=1, gamma=0.1, kernel=rbf, score=0.730, total=   0.3s\n",
      "[CV] C=1, gamma=0.1, kernel=rbf ......................................\n",
      "[CV] .......... C=1, gamma=0.1, kernel=rbf, score=0.740, total=   0.3s\n",
      "[CV] C=1, gamma=0.1, kernel=rbf ......................................\n",
      "[CV] .......... C=1, gamma=0.1, kernel=rbf, score=0.684, total=   0.3s\n",
      "[CV] C=1, gamma=0.1, kernel=rbf ......................................\n",
      "[CV] .......... C=1, gamma=0.1, kernel=rbf, score=0.746, total=   0.3s\n",
      "[CV] C=1, gamma=0.1, kernel=sigmoid ..................................\n",
      "[CV] ...... C=1, gamma=0.1, kernel=sigmoid, score=0.658, total=   0.3s\n",
      "[CV] C=1, gamma=0.1, kernel=sigmoid ..................................\n",
      "[CV] ...... C=1, gamma=0.1, kernel=sigmoid, score=0.649, total=   0.2s\n",
      "[CV] C=1, gamma=0.1, kernel=sigmoid ..................................\n",
      "[CV] ...... C=1, gamma=0.1, kernel=sigmoid, score=0.632, total=   0.3s\n",
      "[CV] C=1, gamma=0.1, kernel=sigmoid ..................................\n",
      "[CV] ...... C=1, gamma=0.1, kernel=sigmoid, score=0.602, total=   0.3s\n",
      "[CV] C=1, gamma=0.1, kernel=sigmoid ..................................\n",
      "[CV] ...... C=1, gamma=0.1, kernel=sigmoid, score=0.643, total=   0.3s\n",
      "[CV] C=1, gamma=0.1, kernel=linear ...................................\n",
      "[CV] ....... C=1, gamma=0.1, kernel=linear, score=0.750, total=   0.3s\n",
      "[CV] C=1, gamma=0.1, kernel=linear ...................................\n",
      "[CV] ....... C=1, gamma=0.1, kernel=linear, score=0.728, total=   0.3s\n",
      "[CV] C=1, gamma=0.1, kernel=linear ...................................\n",
      "[CV] ....... C=1, gamma=0.1, kernel=linear, score=0.733, total=   0.3s\n",
      "[CV] C=1, gamma=0.1, kernel=linear ...................................\n",
      "[CV] ....... C=1, gamma=0.1, kernel=linear, score=0.704, total=   0.3s\n",
      "[CV] C=1, gamma=0.1, kernel=linear ...................................\n",
      "[CV] ....... C=1, gamma=0.1, kernel=linear, score=0.746, total=   0.3s\n",
      "[CV] C=1, gamma=0.01, kernel=poly ....................................\n",
      "[CV] ........ C=1, gamma=0.01, kernel=poly, score=0.563, total=   0.3s\n",
      "[CV] C=1, gamma=0.01, kernel=poly ....................................\n",
      "[CV] ........ C=1, gamma=0.01, kernel=poly, score=0.533, total=   0.2s\n",
      "[CV] C=1, gamma=0.01, kernel=poly ....................................\n",
      "[CV] ........ C=1, gamma=0.01, kernel=poly, score=0.527, total=   0.3s\n",
      "[CV] C=1, gamma=0.01, kernel=poly ....................................\n",
      "[CV] ........ C=1, gamma=0.01, kernel=poly, score=0.519, total=   0.3s\n",
      "[CV] C=1, gamma=0.01, kernel=poly ....................................\n",
      "[CV] ........ C=1, gamma=0.01, kernel=poly, score=0.540, total=   0.2s\n",
      "[CV] C=1, gamma=0.01, kernel=rbf .....................................\n",
      "[CV] ......... C=1, gamma=0.01, kernel=rbf, score=0.756, total=   0.3s\n",
      "[CV] C=1, gamma=0.01, kernel=rbf .....................................\n",
      "[CV] ......... C=1, gamma=0.01, kernel=rbf, score=0.731, total=   0.3s\n",
      "[CV] C=1, gamma=0.01, kernel=rbf .....................................\n",
      "[CV] ......... C=1, gamma=0.01, kernel=rbf, score=0.725, total=   0.3s\n",
      "[CV] C=1, gamma=0.01, kernel=rbf .....................................\n",
      "[CV] ......... C=1, gamma=0.01, kernel=rbf, score=0.698, total=   0.3s\n",
      "[CV] C=1, gamma=0.01, kernel=rbf .....................................\n",
      "[CV] ......... C=1, gamma=0.01, kernel=rbf, score=0.754, total=   0.3s\n",
      "[CV] C=1, gamma=0.01, kernel=sigmoid .................................\n",
      "[CV] ..... C=1, gamma=0.01, kernel=sigmoid, score=0.749, total=   0.2s\n",
      "[CV] C=1, gamma=0.01, kernel=sigmoid .................................\n",
      "[CV] ..... C=1, gamma=0.01, kernel=sigmoid, score=0.728, total=   0.2s\n",
      "[CV] C=1, gamma=0.01, kernel=sigmoid .................................\n",
      "[CV] ..... C=1, gamma=0.01, kernel=sigmoid, score=0.721, total=   0.2s\n",
      "[CV] C=1, gamma=0.01, kernel=sigmoid .................................\n",
      "[CV] ..... C=1, gamma=0.01, kernel=sigmoid, score=0.704, total=   0.2s\n",
      "[CV] C=1, gamma=0.01, kernel=sigmoid .................................\n",
      "[CV] ..... C=1, gamma=0.01, kernel=sigmoid, score=0.750, total=   0.2s\n",
      "[CV] C=1, gamma=0.01, kernel=linear ..................................\n",
      "[CV] ...... C=1, gamma=0.01, kernel=linear, score=0.750, total=   0.3s\n",
      "[CV] C=1, gamma=0.01, kernel=linear ..................................\n",
      "[CV] ...... C=1, gamma=0.01, kernel=linear, score=0.728, total=   0.3s\n",
      "[CV] C=1, gamma=0.01, kernel=linear ..................................\n",
      "[CV] ...... C=1, gamma=0.01, kernel=linear, score=0.733, total=   0.3s\n",
      "[CV] C=1, gamma=0.01, kernel=linear ..................................\n"
     ]
    },
    {
     "name": "stdout",
     "output_type": "stream",
     "text": [
      "[CV] ...... C=1, gamma=0.01, kernel=linear, score=0.704, total=   0.3s\n",
      "[CV] C=1, gamma=0.01, kernel=linear ..................................\n",
      "[CV] ...... C=1, gamma=0.01, kernel=linear, score=0.746, total=   0.3s\n",
      "[CV] C=10, gamma=1, kernel=poly ......................................\n",
      "[CV] .......... C=10, gamma=1, kernel=poly, score=0.749, total= 4.1min\n",
      "[CV] C=10, gamma=1, kernel=poly ......................................\n",
      "[CV] .......... C=10, gamma=1, kernel=poly, score=0.750, total= 1.8min\n",
      "[CV] C=10, gamma=1, kernel=poly ......................................\n",
      "[CV] .......... C=10, gamma=1, kernel=poly, score=0.744, total= 1.7min\n",
      "[CV] C=10, gamma=1, kernel=poly ......................................\n",
      "[CV] .......... C=10, gamma=1, kernel=poly, score=0.692, total= 1.9min\n",
      "[CV] C=10, gamma=1, kernel=poly ......................................\n",
      "[CV] .......... C=10, gamma=1, kernel=poly, score=0.749, total= 1.2min\n",
      "[CV] C=10, gamma=1, kernel=rbf .......................................\n",
      "[CV] ........... C=10, gamma=1, kernel=rbf, score=0.779, total=   0.4s\n",
      "[CV] C=10, gamma=1, kernel=rbf .......................................\n",
      "[CV] ........... C=10, gamma=1, kernel=rbf, score=0.786, total=   0.4s\n",
      "[CV] C=10, gamma=1, kernel=rbf .......................................\n",
      "[CV] ........... C=10, gamma=1, kernel=rbf, score=0.793, total=   0.4s\n",
      "[CV] C=10, gamma=1, kernel=rbf .......................................\n",
      "[CV] ........... C=10, gamma=1, kernel=rbf, score=0.789, total=   0.4s\n",
      "[CV] C=10, gamma=1, kernel=rbf .......................................\n",
      "[CV] ........... C=10, gamma=1, kernel=rbf, score=0.798, total=   0.4s\n",
      "[CV] C=10, gamma=1, kernel=sigmoid ...................................\n",
      "[CV] ....... C=10, gamma=1, kernel=sigmoid, score=0.618, total=   0.3s\n",
      "[CV] C=10, gamma=1, kernel=sigmoid ...................................\n",
      "[CV] ....... C=10, gamma=1, kernel=sigmoid, score=0.588, total=   0.3s\n",
      "[CV] C=10, gamma=1, kernel=sigmoid ...................................\n",
      "[CV] ....... C=10, gamma=1, kernel=sigmoid, score=0.603, total=   0.3s\n",
      "[CV] C=10, gamma=1, kernel=sigmoid ...................................\n",
      "[CV] ....... C=10, gamma=1, kernel=sigmoid, score=0.623, total=   0.3s\n",
      "[CV] C=10, gamma=1, kernel=sigmoid ...................................\n",
      "[CV] ....... C=10, gamma=1, kernel=sigmoid, score=0.607, total=   0.3s\n",
      "[CV] C=10, gamma=1, kernel=linear ....................................\n",
      "[CV] ........ C=10, gamma=1, kernel=linear, score=0.750, total=   0.8s\n",
      "[CV] C=10, gamma=1, kernel=linear ....................................\n",
      "[CV] ........ C=10, gamma=1, kernel=linear, score=0.728, total=   0.9s\n",
      "[CV] C=10, gamma=1, kernel=linear ....................................\n",
      "[CV] ........ C=10, gamma=1, kernel=linear, score=0.733, total=   0.7s\n",
      "[CV] C=10, gamma=1, kernel=linear ....................................\n",
      "[CV] ........ C=10, gamma=1, kernel=linear, score=0.704, total=   0.7s\n",
      "[CV] C=10, gamma=1, kernel=linear ....................................\n",
      "[CV] ........ C=10, gamma=1, kernel=linear, score=0.747, total=   0.7s\n",
      "[CV] C=10, gamma=0.1, kernel=poly ....................................\n",
      "[CV] ........ C=10, gamma=0.1, kernel=poly, score=0.738, total=   0.4s\n",
      "[CV] C=10, gamma=0.1, kernel=poly ....................................\n",
      "[CV] ........ C=10, gamma=0.1, kernel=poly, score=0.706, total=   0.4s\n",
      "[CV] C=10, gamma=0.1, kernel=poly ....................................\n",
      "[CV] ........ C=10, gamma=0.1, kernel=poly, score=0.704, total=   0.4s\n",
      "[CV] C=10, gamma=0.1, kernel=poly ....................................\n",
      "[CV] ........ C=10, gamma=0.1, kernel=poly, score=0.686, total=   0.4s\n",
      "[CV] C=10, gamma=0.1, kernel=poly ....................................\n",
      "[CV] ........ C=10, gamma=0.1, kernel=poly, score=0.740, total=   0.3s\n",
      "[CV] C=10, gamma=0.1, kernel=rbf .....................................\n",
      "[CV] ......... C=10, gamma=0.1, kernel=rbf, score=0.743, total=   0.3s\n",
      "[CV] C=10, gamma=0.1, kernel=rbf .....................................\n",
      "[CV] ......... C=10, gamma=0.1, kernel=rbf, score=0.753, total=   0.3s\n",
      "[CV] C=10, gamma=0.1, kernel=rbf .....................................\n",
      "[CV] ......... C=10, gamma=0.1, kernel=rbf, score=0.782, total=   0.3s\n",
      "[CV] C=10, gamma=0.1, kernel=rbf .....................................\n",
      "[CV] ......... C=10, gamma=0.1, kernel=rbf, score=0.734, total=   0.3s\n",
      "[CV] C=10, gamma=0.1, kernel=rbf .....................................\n",
      "[CV] ......... C=10, gamma=0.1, kernel=rbf, score=0.784, total=   0.3s\n",
      "[CV] C=10, gamma=0.1, kernel=sigmoid .................................\n",
      "[CV] ..... C=10, gamma=0.1, kernel=sigmoid, score=0.645, total=   0.2s\n",
      "[CV] C=10, gamma=0.1, kernel=sigmoid .................................\n",
      "[CV] ..... C=10, gamma=0.1, kernel=sigmoid, score=0.623, total=   0.2s\n",
      "[CV] C=10, gamma=0.1, kernel=sigmoid .................................\n",
      "[CV] ..... C=10, gamma=0.1, kernel=sigmoid, score=0.606, total=   0.2s\n",
      "[CV] C=10, gamma=0.1, kernel=sigmoid .................................\n",
      "[CV] ..... C=10, gamma=0.1, kernel=sigmoid, score=0.600, total=   0.2s\n",
      "[CV] C=10, gamma=0.1, kernel=sigmoid .................................\n",
      "[CV] ..... C=10, gamma=0.1, kernel=sigmoid, score=0.624, total=   0.2s\n",
      "[CV] C=10, gamma=0.1, kernel=linear ..................................\n",
      "[CV] ...... C=10, gamma=0.1, kernel=linear, score=0.750, total=   0.8s\n",
      "[CV] C=10, gamma=0.1, kernel=linear ..................................\n",
      "[CV] ...... C=10, gamma=0.1, kernel=linear, score=0.728, total=   0.8s\n",
      "[CV] C=10, gamma=0.1, kernel=linear ..................................\n",
      "[CV] ...... C=10, gamma=0.1, kernel=linear, score=0.733, total=   0.8s\n",
      "[CV] C=10, gamma=0.1, kernel=linear ..................................\n",
      "[CV] ...... C=10, gamma=0.1, kernel=linear, score=0.704, total=   0.8s\n",
      "[CV] C=10, gamma=0.1, kernel=linear ..................................\n",
      "[CV] ...... C=10, gamma=0.1, kernel=linear, score=0.747, total=   0.8s\n",
      "[CV] C=10, gamma=0.01, kernel=poly ...................................\n",
      "[CV] ....... C=10, gamma=0.01, kernel=poly, score=0.651, total=   0.2s\n",
      "[CV] C=10, gamma=0.01, kernel=poly ...................................\n",
      "[CV] ....... C=10, gamma=0.01, kernel=poly, score=0.579, total=   0.2s\n",
      "[CV] C=10, gamma=0.01, kernel=poly ...................................\n",
      "[CV] ....... C=10, gamma=0.01, kernel=poly, score=0.611, total=   0.2s\n",
      "[CV] C=10, gamma=0.01, kernel=poly ...................................\n",
      "[CV] ....... C=10, gamma=0.01, kernel=poly, score=0.599, total=   0.2s\n",
      "[CV] C=10, gamma=0.01, kernel=poly ...................................\n",
      "[CV] ....... C=10, gamma=0.01, kernel=poly, score=0.616, total=   0.3s\n",
      "[CV] C=10, gamma=0.01, kernel=rbf ....................................\n",
      "[CV] ........ C=10, gamma=0.01, kernel=rbf, score=0.733, total=   0.3s\n",
      "[CV] C=10, gamma=0.01, kernel=rbf ....................................\n",
      "[CV] ........ C=10, gamma=0.01, kernel=rbf, score=0.728, total=   0.3s\n",
      "[CV] C=10, gamma=0.01, kernel=rbf ....................................\n",
      "[CV] ........ C=10, gamma=0.01, kernel=rbf, score=0.734, total=   0.3s\n",
      "[CV] C=10, gamma=0.01, kernel=rbf ....................................\n",
      "[CV] ........ C=10, gamma=0.01, kernel=rbf, score=0.684, total=   0.3s\n",
      "[CV] C=10, gamma=0.01, kernel=rbf ....................................\n",
      "[CV] ........ C=10, gamma=0.01, kernel=rbf, score=0.754, total=   0.3s\n",
      "[CV] C=10, gamma=0.01, kernel=sigmoid ................................\n",
      "[CV] .... C=10, gamma=0.01, kernel=sigmoid, score=0.749, total=   0.2s\n",
      "[CV] C=10, gamma=0.01, kernel=sigmoid ................................\n",
      "[CV] .... C=10, gamma=0.01, kernel=sigmoid, score=0.730, total=   0.2s\n",
      "[CV] C=10, gamma=0.01, kernel=sigmoid ................................\n",
      "[CV] .... C=10, gamma=0.01, kernel=sigmoid, score=0.718, total=   0.2s\n",
      "[CV] C=10, gamma=0.01, kernel=sigmoid ................................\n",
      "[CV] .... C=10, gamma=0.01, kernel=sigmoid, score=0.703, total=   0.2s\n",
      "[CV] C=10, gamma=0.01, kernel=sigmoid ................................\n",
      "[CV] .... C=10, gamma=0.01, kernel=sigmoid, score=0.725, total=   0.2s\n",
      "[CV] C=10, gamma=0.01, kernel=linear .................................\n",
      "[CV] ..... C=10, gamma=0.01, kernel=linear, score=0.750, total=   0.7s\n",
      "[CV] C=10, gamma=0.01, kernel=linear .................................\n"
     ]
    },
    {
     "name": "stdout",
     "output_type": "stream",
     "text": [
      "[CV] ..... C=10, gamma=0.01, kernel=linear, score=0.728, total=   0.7s\n",
      "[CV] C=10, gamma=0.01, kernel=linear .................................\n",
      "[CV] ..... C=10, gamma=0.01, kernel=linear, score=0.733, total=   0.7s\n",
      "[CV] C=10, gamma=0.01, kernel=linear .................................\n",
      "[CV] ..... C=10, gamma=0.01, kernel=linear, score=0.704, total=   0.7s\n",
      "[CV] C=10, gamma=0.01, kernel=linear .................................\n",
      "[CV] ..... C=10, gamma=0.01, kernel=linear, score=0.747, total=   0.7s\n"
     ]
    },
    {
     "name": "stderr",
     "output_type": "stream",
     "text": [
      "[Parallel(n_jobs=1)]: Done 180 out of 180 | elapsed: 12.6min finished\n"
     ]
    },
    {
     "data": {
      "text/plain": [
       "GridSearchCV(estimator=SVC(),\n",
       "             param_grid={'C': [0.1, 1, 10], 'gamma': [1, 0.1, 0.01],\n",
       "                         'kernel': ['poly', 'rbf', 'sigmoid', 'linear']},\n",
       "             verbose=3)"
      ]
     },
     "execution_count": 56,
     "metadata": {},
     "output_type": "execute_result"
    }
   ],
   "source": [
    "#Create a dictionary called param_grid and fill out some parameters for kernels, C and gamma\n",
    "# defining parameter range \n",
    "param_grid = {'C': [0.1, 1, 10],  \n",
    "              'gamma': [1, 0.1, 0.01], \n",
    "              'kernel': ['poly', 'rbf', 'sigmoid','linear']}  \n",
    "\n",
    "#Create a GridSearchCV object\n",
    "grid = GridSearchCV(SVC(), param_grid, refit = True, verbose = 3) \n",
    "  \n",
    "# fitting the model for grid search \n",
    "grid.fit(X02, y02.values.ravel()) \n"
   ]
  },
  {
   "cell_type": "code",
   "execution_count": 57,
   "metadata": {
    "ExecuteTime": {
     "end_time": "2020-07-12T11:26:50.151591Z",
     "start_time": "2020-07-12T11:26:50.146136Z"
    }
   },
   "outputs": [
    {
     "name": "stdout",
     "output_type": "stream",
     "text": [
      "{'C': 10, 'gamma': 1, 'kernel': 'rbf'}\n"
     ]
    }
   ],
   "source": [
    "# print best parameter after tuning \n",
    "print(grid.best_params_) "
   ]
  },
  {
   "cell_type": "code",
   "execution_count": 59,
   "metadata": {
    "ExecuteTime": {
     "end_time": "2020-07-12T11:30:02.182456Z",
     "start_time": "2020-07-12T11:30:02.177660Z"
    }
   },
   "outputs": [
    {
     "name": "stdout",
     "output_type": "stream",
     "text": [
      "SVC(C=10, gamma=1)\n"
     ]
    }
   ],
   "source": [
    "# print how our model looks after hyper-parameter tuning \n",
    "print(grid.best_estimator_) "
   ]
  },
  {
   "cell_type": "code",
   "execution_count": 90,
   "metadata": {
    "ExecuteTime": {
     "end_time": "2020-07-12T16:38:37.171464Z",
     "start_time": "2020-07-12T16:38:37.131777Z"
    }
   },
   "outputs": [],
   "source": [
    "#predict on the second model\n",
    "y_pred_grid = grid.predict(scaled_X_test02)"
   ]
  },
  {
   "cell_type": "markdown",
   "metadata": {},
   "source": [
    "We can see that 10 is the optimal value for ‘C’, 1 is the optimal value for 'gamma', and\n",
    "and 'rbf' is the optimal value for 'kernel'. I used the `best_score_` function to check the accuracy of the adjusted model when parameters are the optimal values. ‘best_score_’ outputs the mean accuracy of the scores obtained through cross-validation.\n",
    "\n",
    "***Compare the adjusted model with the original model:**"
   ]
  },
  {
   "cell_type": "code",
   "execution_count": 86,
   "metadata": {
    "ExecuteTime": {
     "end_time": "2020-07-12T13:21:36.954179Z",
     "start_time": "2020-07-12T13:21:35.236711Z"
    }
   },
   "outputs": [
    {
     "name": "stdout",
     "output_type": "stream",
     "text": [
      "01. adjusted SVM_Model02:\n",
      "top performing n_neighbors value:  0.788944314724404\n",
      "roc_auc_score= 0.6655905299973095\n",
      "Specificity:  0.5079365079365079\n",
      "Precision =  0.3047619047619048\n",
      "F1 Score =  0.38095238095238093\n",
      "-------------------------------------------\n",
      "02. original SVM_Model02:\n",
      "trainging dataset each cv score: [0.75037147 0.73699851 0.75185736 0.69985141 0.76488095]\n",
      "Model Mean Accuracy (training datasert):0.7407919408476615 \n",
      "roc_auc_score= 0.7480495022867905\n",
      "Specificity:  0.6825396825396826\n",
      "Precision =  0.35833333333333334\n",
      "F1 Score =  0.4699453551912568\n"
     ]
    }
   ],
   "source": [
    "#Checking performance the model with ROC Score.\n",
    "#Checking performance the model\n",
    "\n",
    "print(\"01. adjusted SVM_Model02:\")\n",
    "print('top performing n_neighbors value: ',grid.best_score_)\n",
    "print('roc_auc_score=', roc_auc_score(y_test, y_pred_grid))\n",
    "generate_model_report(y_test, y_pred_grid)\n",
    "print(\"-------------------------------------------\")\n",
    "\n",
    "print(\"02. original SVM_Model02:\")\n",
    "cv_scores(SVM_model02, X02, y02.values.ravel())\n",
    "print('roc_auc_score=', roc_auc_score(y_test, y_pred05))\n",
    "generate_model_report(y_test, y_pred05)"
   ]
  },
  {
   "cell_type": "markdown",
   "metadata": {},
   "source": [
    "#### Results:\n",
    "As we can see from the results above, the model accuracy of the adjusted SVM model has been improved by almost 5%. However, the performance of prediction on the imbalanced test dataset is worse than the original model, but not a lot. I'll need to balance the imbalanced dataset before using this adjusted SVM model. Finally, the best SVM model is the adjust one with 7 features and parameters of 'C'= 10, 'gamma'= 1 (default value), 'kernel'= 'rbf'(default value).\n",
    "\n",
    "***\n",
    "### Step 8. Compare the Logistic regression model, knn model, and SVM model\n",
    "\n",
    "I'll select the best knn model and the best SVM model to compare with the best logistic regression model generated last week on their model performance.\n",
    "\n",
    "I'll firstly set up the best modedl selected from last week assignment. The best logistic regression model consists of 11 features. I'll perform model evaluation among these 3 models. All these 3 models were generated based on the balanced training dataset. \n",
    "\n",
    "The logistic model has the same 11 features (no 'hir') as the knn model. The SVM model has 7 features.\n"
   ]
  },
  {
   "cell_type": "code",
   "execution_count": 92,
   "metadata": {
    "ExecuteTime": {
     "end_time": "2020-07-12T17:42:48.152041Z",
     "start_time": "2020-07-12T17:42:47.836792Z"
    }
   },
   "outputs": [],
   "source": [
    "# selected logistic regression model\n",
    "# create dataframes with an intercept column\n",
    "# merge the dataset\n",
    "\n",
    "from patsy import dmatrices\n",
    "\n",
    "data_train = pd.concat([os_data_X, os_data_y], axis=1)\n",
    "\n",
    "y_model04, X_model04 = dmatrices('IsDeny ~ dir + lvr + ccs + mcs + IsBadCredit + \\\n",
    "IsDeniedMI + uria + IsAfricanAmerican + IsCondo + IsSingle + IsSelf',\n",
    "                  data_train, return_type=\"dataframe\")\n",
    "\n",
    "# train data\n",
    "X_train04 = X_model04.drop(['Intercept'], axis=1)\n",
    "# test dataset \n",
    "X_test04 = X_test.drop(['hir'], axis=1)\n",
    "# model\n",
    "logreg = LogisticRegression()\n",
    "# fit the model\n",
    "logreg.fit(X_train04, y_model04.values.ravel())\n",
    "# prediction for test data\n",
    "y_pred_logit = logreg.predict(X_test04)"
   ]
  },
  {
   "cell_type": "markdown",
   "metadata": {},
   "source": [
    "#### 1. Model Evaluation - cross-validation, roc_auc_score, Specificity, Precision, F1 Score"
   ]
  },
  {
   "cell_type": "code",
   "execution_count": 97,
   "metadata": {
    "ExecuteTime": {
     "end_time": "2020-07-12T18:24:00.881871Z",
     "start_time": "2020-07-12T18:24:00.465428Z"
    }
   },
   "outputs": [
    {
     "name": "stdout",
     "output_type": "stream",
     "text": [
      "01.adjusted knn_Model (n_neighbors=1, p=1 -manhattan_distance):\n",
      "top performing n_neighbors value:  0.8567189487070793\n",
      "roc_auc_score= 0.6358622545063224\n",
      "Specificity:  0.49206349206349204\n",
      "Precision =  0.2540983606557377\n",
      "F1 Score =  0.3351351351351351\n",
      "-------------------------------------------\n",
      "02. adjusted SVM_Model02:\n",
      "top performing n_neighbors value:  0.788944314724404\n",
      "roc_auc_score= 0.6655905299973095\n",
      "Specificity:  0.5079365079365079\n",
      "Precision =  0.3047619047619048\n",
      "F1 Score =  0.38095238095238093\n",
      "-------------------------------------------\n",
      "03. logistic regression model (generated last week):\n",
      "trainging dataset each cv score: [0.75 0.71 0.74 0.7  0.74]\n",
      "Model Mean Accuracy (training datasert):0.7291958536757943 \n",
      "roc_auc_score= 0.7324455205811139\n",
      "Specificity:  0.7142857142857143\n",
      "Precision =  0.30405405405405406\n",
      "F1 Score =  0.4265402843601896\n",
      "-------------------------------------------\n"
     ]
    }
   ],
   "source": [
    "# knn model\n",
    "print(\"01.adjusted knn_Model (n_neighbors=1, p=1 -manhattan_distance):\")\n",
    "print('top performing n_neighbors value: ',best_model.best_score_)\n",
    "print('roc_auc_score=', roc_auc_score(y_test, y_pred03_new))\n",
    "generate_model_report(y_test, y_pred03_new)\n",
    "print(\"-------------------------------------------\")\n",
    "\n",
    "# SVM model\n",
    "print(\"02. adjusted SVM_Model02:\")\n",
    "print('top performing n_neighbors value: ',grid.best_score_)\n",
    "print('roc_auc_score=', roc_auc_score(y_test, y_pred_grid))\n",
    "generate_model_report(y_test, y_pred_grid)\n",
    "print(\"-------------------------------------------\")\n",
    "\n",
    "# logistic regression model\n",
    "print(\"03. logistic regression model (generated last week):\")\n",
    "cv_scores(logreg, X_train04, y_model04.values.ravel())\n",
    "print('roc_auc_score=', roc_auc_score(y_test, y_pred_logit))\n",
    "generate_model_report(y_test, y_pred_logit)\n",
    "print(\"-------------------------------------------\")"
   ]
  },
  {
   "cell_type": "markdown",
   "metadata": {},
   "source": [
    "#### 2. Model Evaluation - confusion matrix\n",
    "\n",
    "Precision is a measure of the accuracy provided that a class label has been predicted. It is defined by: precision = TP / (TP + FP)\n",
    "\n",
    "Recall is true positive rate. It is defined as: Recall =  TP / (TP + FN)\n",
    "\n",
    "The F1 score is the harmonic average of the precision and recall, where an F1 score reaches its best value at 1 (perfect precision and recall) and worst at 0. It is a good way to show that a classifer has a good value for both recall and precision."
   ]
  },
  {
   "cell_type": "code",
   "execution_count": 94,
   "metadata": {
    "ExecuteTime": {
     "end_time": "2020-07-12T18:15:33.397251Z",
     "start_time": "2020-07-12T18:15:33.372870Z"
    }
   },
   "outputs": [],
   "source": [
    "# Create a function for Confusion Matrix\n",
    "import itertools\n",
    "\n",
    "#https://dfrieds.com/machine-learning/visual-introduction-classification-logistic-regression-python.html\n",
    "\n",
    "def plot_confusion_matrix(cm, classes, title='Confusion matrix', cmap=plt.cm.Blues):\n",
    "    \"\"\"\n",
    "    This function prints and plots the confusion matrix.\n",
    "    Normalization can be applied by setting `normalize=True`.\n",
    "    \"\"\"        \n",
    "    plt.imshow(cm, interpolation='nearest', cmap=cmap)\n",
    "    plt.title(title)\n",
    "    tick_marks = np.arange(len(classes))\n",
    "    plt.xticks(tick_marks, classes, rotation=0)\n",
    "    plt.yticks(tick_marks, classes)\n",
    "    \n",
    "    name = None    \n",
    "    fmt = 'd'\n",
    "    thresh = cm.max() / 2\n",
    "    # i and j tell us the coordinates of boxes\n",
    "    for i, j in itertools.product(range(cm.shape[0]), range(cm.shape[1])):\n",
    "        if i == 0 and j == 0:\n",
    "            name = \"True Negatives\"\n",
    "        elif i == 0 and j == 1:\n",
    "            name = \"False Positives\"\n",
    "        elif i == 1 and j == 1:\n",
    "            name = \"True Positives\"\n",
    "        else:\n",
    "            name = \"False Negatives\"\n",
    "        plt.text(j, i, format(cm[i, j], fmt) + \"\\n\" + name, horizontalalignment=\"center\", \n",
    "                 fontsize=23, color=\"white\" if cm[i, j] > thresh else \"black\")\n",
    "\n",
    "    plt.ylabel('True label', labelpad=8)\n",
    "    plt.xlabel('Predicted label', labelpad=8)\n",
    "    plt.title(title, y=1.02)\n",
    "    plt.tight_layout()\n"
   ]
  },
  {
   "cell_type": "code",
   "execution_count": 96,
   "metadata": {
    "ExecuteTime": {
     "end_time": "2020-07-12T18:15:37.879640Z",
     "start_time": "2020-07-12T18:15:37.059194Z"
    }
   },
   "outputs": [
    {
     "data": {
      "image/png": "[encoded data removed]",
      "text/plain": [
       "<Figure size 1440x1440 with 3 Axes>"
      ]
     },
     "metadata": {},
     "output_type": "display_data"
    }
   ],
   "source": [
    "# Compute confusion matrix\n",
    "cnf_matrix01 = confusion_matrix(y_test, y_pred03_new);\n",
    "np.set_printoptions(precision=2);\n",
    "\n",
    "class_names = [\"denied\", \"approved\"]\n",
    "\n",
    "# Plot non-normalized confusion matrix\n",
    "plt.figure(figsize=(20, 20))\n",
    "\n",
    "plt.subplot(131)\n",
    "plt.grid(False)\n",
    "plot_confusion_matrix(cnf_matrix01, classes=class_names, title='knn Model - Confusion matrix')\n",
    "\n",
    "# Compute confusion matrix\n",
    "cnf_matrix02 = confusion_matrix(y_test, y_pred_grid);\n",
    "np.set_printoptions(precision=2);\n",
    "\n",
    "class_names = [\"denied\", \"approved\"]\n",
    "\n",
    "# Plot non-normalized confusion matrix\n",
    "plt.subplot(132)\n",
    "plt.grid(False)\n",
    "plot_confusion_matrix(cnf_matrix02, classes=class_names, title='SVM Model - Confusion matrix')\n",
    "\n",
    "# Compute confusion matrix\n",
    "cnf_matrix03 = confusion_matrix(y_test, y_pred_logit);\n",
    "np.set_printoptions(precision=2);\n",
    "\n",
    "class_names = [\"denied\", \"approved\"]\n",
    "\n",
    "# Plot non-normalized confusion matrix\n",
    "plt.subplot(133)\n",
    "plt.grid(False)\n",
    "plot_confusion_matrix(cnf_matrix03, classes=class_names, title='Logistic regression Model - Confusion matrix')\n"
   ]
  },
  {
   "cell_type": "markdown",
   "metadata": {},
   "source": [
    "#### Summary:\n",
    "1. For the results from the above confusion matrix, the models were used in the imbalanced dataset. The logistic regression model did better than the other two models, having the best roc_auc_score, Specificity, Precision, and F1 Score. The interpretation of logistic regression model confusion matrix is that out of of 63 no denied samples 45 were correctly predicted as approved by the model (true positives) and 18 were wrongly predicted as denied by the model (false negatives). And out of 413 denied samples, 310 were correctly predicted as denied by the model (true negatives) and 103 were wrongly predicted as approved by the model (false positives).\n",
    "\n",
    "2. For the balanced dataset, the adjusted knn Model has the highest mean accuracy (0.86). The logistic regression model has the least mean accuracy (0.73).\n",
    "\n",
    "3. Although the prediction is not as good as the SVM model and the logistic regression model, the knn model has the highest mean accuracy on the balanced dataset. **I'll choose the adjusted knn model as the best model to predict if the mortgage application will be denied in the balanced dataset.**\n",
    "\n",
    "4. The adjusted knn model has 11 features. They are 'dir', 'lvr', 'ccs', 'mcs', 'IsBadCredit', 'IsDeniedMI', 'uria', 'IsAfricanAmerican', 'IsCondo', 'IsSingle', and 'IsSelf'. All p-values are less than .05, meaning that all features in the momdel are significant in determining the denied mortgage.\n",
    "\n",
    "5. The adjusted knn model use the parameters of n_neighbors=1 and p=1 instead of the default parameters with n_neighbors=5 and p=2. \n",
    "\n",
    "***\n",
    "### Step 9. Conclusion\n",
    "\n",
    "#### Interpretation of the knn model using `SHAP`:\n",
    "\n",
    "From the above steps, I've already got a best model (the knn model).\n",
    "\n",
    "For the linear regression or logistic regression models, the coefficients can tell the influence of each feature on the final result. In contrast, the interpretation of the knn model is not clear. I'll use `SHAP` to calculate the feature importance in my final knn model. \n",
    "\n",
    "I'll call the explainer with `shap.KernelExplainer()`- a model agnostic method to estimate SHAP values for any model. This command produces an explanation model for the KNN classifier. It is very slow to use the whole training dataset, so (as recommended by the library) I'll use `shap.kmeans` to create 30 representative rows from the training set. Also, I'll use the explainer on first 50 samples of the training set. I should use the explainer on all samples of the training set, but it would be very slow and take hours to complete it. I can explain the predictions in either training or testing set but the explainer should be defined on the training set. In this case, I'll explain the training set.\n"
   ]
  },
  {
   "cell_type": "code",
   "execution_count": 122,
   "metadata": {
    "ExecuteTime": {
     "end_time": "2020-07-12T22:28:18.288032Z",
     "start_time": "2020-07-12T22:21:29.820621Z"
    },
    "scrolled": true
   },
   "outputs": [
    {
     "data": {
      "application/vnd.jupyter.widget-view+json": {
       "model_id": "2db06adcd25943408ed6ef11e4a7d9bd",
       "version_major": 2,
       "version_minor": 0
      },
      "text/plain": [
       "HBox(children=(FloatProgress(value=0.0, max=50.0), HTML(value='')))"
      ]
     },
     "metadata": {},
     "output_type": "display_data"
    },
    {
     "name": "stderr",
     "output_type": "stream",
     "text": [
      "l1_reg=\"auto\" is deprecated and in the next version (v0.29) the behavior will change from a conditional use of AIC to simply \"num_features(10)\"!\n",
      "l1_reg=\"auto\" is deprecated and in the next version (v0.29) the behavior will change from a conditional use of AIC to simply \"num_features(10)\"!\n",
      "l1_reg=\"auto\" is deprecated and in the next version (v0.29) the behavior will change from a conditional use of AIC to simply \"num_features(10)\"!\n",
      "l1_reg=\"auto\" is deprecated and in the next version (v0.29) the behavior will change from a conditional use of AIC to simply \"num_features(10)\"!\n",
      "l1_reg=\"auto\" is deprecated and in the next version (v0.29) the behavior will change from a conditional use of AIC to simply \"num_features(10)\"!\n",
      "l1_reg=\"auto\" is deprecated and in the next version (v0.29) the behavior will change from a conditional use of AIC to simply \"num_features(10)\"!\n",
      "l1_reg=\"auto\" is deprecated and in the next version (v0.29) the behavior will change from a conditional use of AIC to simply \"num_features(10)\"!\n",
      "l1_reg=\"auto\" is deprecated and in the next version (v0.29) the behavior will change from a conditional use of AIC to simply \"num_features(10)\"!\n",
      "l1_reg=\"auto\" is deprecated and in the next version (v0.29) the behavior will change from a conditional use of AIC to simply \"num_features(10)\"!\n",
      "l1_reg=\"auto\" is deprecated and in the next version (v0.29) the behavior will change from a conditional use of AIC to simply \"num_features(10)\"!\n",
      "l1_reg=\"auto\" is deprecated and in the next version (v0.29) the behavior will change from a conditional use of AIC to simply \"num_features(10)\"!\n",
      "l1_reg=\"auto\" is deprecated and in the next version (v0.29) the behavior will change from a conditional use of AIC to simply \"num_features(10)\"!\n",
      "l1_reg=\"auto\" is deprecated and in the next version (v0.29) the behavior will change from a conditional use of AIC to simply \"num_features(10)\"!\n",
      "l1_reg=\"auto\" is deprecated and in the next version (v0.29) the behavior will change from a conditional use of AIC to simply \"num_features(10)\"!\n",
      "l1_reg=\"auto\" is deprecated and in the next version (v0.29) the behavior will change from a conditional use of AIC to simply \"num_features(10)\"!\n",
      "l1_reg=\"auto\" is deprecated and in the next version (v0.29) the behavior will change from a conditional use of AIC to simply \"num_features(10)\"!\n",
      "l1_reg=\"auto\" is deprecated and in the next version (v0.29) the behavior will change from a conditional use of AIC to simply \"num_features(10)\"!\n",
      "l1_reg=\"auto\" is deprecated and in the next version (v0.29) the behavior will change from a conditional use of AIC to simply \"num_features(10)\"!\n",
      "l1_reg=\"auto\" is deprecated and in the next version (v0.29) the behavior will change from a conditional use of AIC to simply \"num_features(10)\"!\n",
      "l1_reg=\"auto\" is deprecated and in the next version (v0.29) the behavior will change from a conditional use of AIC to simply \"num_features(10)\"!\n",
      "l1_reg=\"auto\" is deprecated and in the next version (v0.29) the behavior will change from a conditional use of AIC to simply \"num_features(10)\"!\n",
      "l1_reg=\"auto\" is deprecated and in the next version (v0.29) the behavior will change from a conditional use of AIC to simply \"num_features(10)\"!\n",
      "l1_reg=\"auto\" is deprecated and in the next version (v0.29) the behavior will change from a conditional use of AIC to simply \"num_features(10)\"!\n",
      "l1_reg=\"auto\" is deprecated and in the next version (v0.29) the behavior will change from a conditional use of AIC to simply \"num_features(10)\"!\n",
      "l1_reg=\"auto\" is deprecated and in the next version (v0.29) the behavior will change from a conditional use of AIC to simply \"num_features(10)\"!\n",
      "l1_reg=\"auto\" is deprecated and in the next version (v0.29) the behavior will change from a conditional use of AIC to simply \"num_features(10)\"!\n",
      "l1_reg=\"auto\" is deprecated and in the next version (v0.29) the behavior will change from a conditional use of AIC to simply \"num_features(10)\"!\n",
      "l1_reg=\"auto\" is deprecated and in the next version (v0.29) the behavior will change from a conditional use of AIC to simply \"num_features(10)\"!\n",
      "l1_reg=\"auto\" is deprecated and in the next version (v0.29) the behavior will change from a conditional use of AIC to simply \"num_features(10)\"!\n",
      "l1_reg=\"auto\" is deprecated and in the next version (v0.29) the behavior will change from a conditional use of AIC to simply \"num_features(10)\"!\n",
      "l1_reg=\"auto\" is deprecated and in the next version (v0.29) the behavior will change from a conditional use of AIC to simply \"num_features(10)\"!\n",
      "l1_reg=\"auto\" is deprecated and in the next version (v0.29) the behavior will change from a conditional use of AIC to simply \"num_features(10)\"!\n",
      "l1_reg=\"auto\" is deprecated and in the next version (v0.29) the behavior will change from a conditional use of AIC to simply \"num_features(10)\"!\n",
      "l1_reg=\"auto\" is deprecated and in the next version (v0.29) the behavior will change from a conditional use of AIC to simply \"num_features(10)\"!\n",
      "l1_reg=\"auto\" is deprecated and in the next version (v0.29) the behavior will change from a conditional use of AIC to simply \"num_features(10)\"!\n",
      "l1_reg=\"auto\" is deprecated and in the next version (v0.29) the behavior will change from a conditional use of AIC to simply \"num_features(10)\"!\n",
      "l1_reg=\"auto\" is deprecated and in the next version (v0.29) the behavior will change from a conditional use of AIC to simply \"num_features(10)\"!\n",
      "l1_reg=\"auto\" is deprecated and in the next version (v0.29) the behavior will change from a conditional use of AIC to simply \"num_features(10)\"!\n",
      "l1_reg=\"auto\" is deprecated and in the next version (v0.29) the behavior will change from a conditional use of AIC to simply \"num_features(10)\"!\n",
      "l1_reg=\"auto\" is deprecated and in the next version (v0.29) the behavior will change from a conditional use of AIC to simply \"num_features(10)\"!\n",
      "l1_reg=\"auto\" is deprecated and in the next version (v0.29) the behavior will change from a conditional use of AIC to simply \"num_features(10)\"!\n",
      "l1_reg=\"auto\" is deprecated and in the next version (v0.29) the behavior will change from a conditional use of AIC to simply \"num_features(10)\"!\n",
      "l1_reg=\"auto\" is deprecated and in the next version (v0.29) the behavior will change from a conditional use of AIC to simply \"num_features(10)\"!\n",
      "l1_reg=\"auto\" is deprecated and in the next version (v0.29) the behavior will change from a conditional use of AIC to simply \"num_features(10)\"!\n",
      "l1_reg=\"auto\" is deprecated and in the next version (v0.29) the behavior will change from a conditional use of AIC to simply \"num_features(10)\"!\n",
      "l1_reg=\"auto\" is deprecated and in the next version (v0.29) the behavior will change from a conditional use of AIC to simply \"num_features(10)\"!\n",
      "l1_reg=\"auto\" is deprecated and in the next version (v0.29) the behavior will change from a conditional use of AIC to simply \"num_features(10)\"!\n",
      "l1_reg=\"auto\" is deprecated and in the next version (v0.29) the behavior will change from a conditional use of AIC to simply \"num_features(10)\"!\n",
      "l1_reg=\"auto\" is deprecated and in the next version (v0.29) the behavior will change from a conditional use of AIC to simply \"num_features(10)\"!\n"
     ]
    },
    {
     "name": "stdout",
     "output_type": "stream",
     "text": [
      "\n"
     ]
    },
    {
     "name": "stderr",
     "output_type": "stream",
     "text": [
      "l1_reg=\"auto\" is deprecated and in the next version (v0.29) the behavior will change from a conditional use of AIC to simply \"num_features(10)\"!\n"
     ]
    }
   ],
   "source": [
    "import shap\n",
    "# kernel explainer is slow so we use shap.kmeans(data,K) to accelerate its evaluation\n",
    "# we set K=30 for fast illustration, larger value should be considered in the real case\n",
    "# knn_explainer should be defined on the training set\n",
    "\n",
    "knn_explainer = shap.KernelExplainer(best_model.predict, shap.kmeans(X03, 30))\n",
    "\n",
    "n_explain = 50\n",
    "# explain on the training set (first 50 samples)\n",
    "shap_values = knn_explainer.shap_values(X03[:n_explain])\n"
   ]
  },
  {
   "cell_type": "code",
   "execution_count": 123,
   "metadata": {
    "ExecuteTime": {
     "end_time": "2020-07-12T22:42:11.120719Z",
     "start_time": "2020-07-12T22:42:10.352710Z"
    }
   },
   "outputs": [
    {
     "data": {
      "image/png": "[encoded data removed]",
      "text/plain": [
       "<Figure size 576x424.8 with 1 Axes>"
      ]
     },
     "metadata": {},
     "output_type": "display_data"
    }
   ],
   "source": [
    "# Variable importance\n",
    "shap.summary_plot(shap_values, X03, plot_type=\"bar\")\n"
   ]
  },
  {
   "cell_type": "markdown",
   "metadata": {},
   "source": [
    "**Conclusion:**\n",
    "\n",
    "Based on the plot above, for the final knn model, the top 2 reasons that the mortgage applicantions will be denied are 'ccs' and 'dir', they are consumer credit score and debt payments to total income ratio. Next reasons are mortgage credit score (mcs), ratio of size of loan to assessed value of property (lvr), is single, is condo, unemployment rate (uria), is African American, is self employed, having denied mortgage insurance, and having public bad credit record (the least important). \n",
    "\n",
    "In this model, only the 'housing expenses to income ratio' feature was deleted since it cannot significantly predict the dependent variable and did not improve the model. It looks reasonable because housing expenses to income ratio is not as important as other features, especially for a condo since condo don't have as much expenses as a house does. Also, the mortgage pre-approval is maily based on the applicant's credit score, job (stable or not), and salay. Usually, when the applicant has a stable job with a decent salary, good cash flow for 20% down payment, and good credit score, mortgage applicantion would have a higher chance to get approved. \n"
   ]
  }
 ],
 "metadata": {
  "kernelspec": {
   "display_name": "Python 3",
   "language": "python",
   "name": "python3"
  },
  "language_info": {
   "codemirror_mode": {
    "name": "ipython",
    "version": 3
   },
   "file_extension": ".py",
   "mimetype": "text/x-python",
   "name": "python",
   "nbconvert_exporter": "python",
   "pygments_lexer": "ipython3",
   "version": "3.7.4"
  },
  "varInspector": {
   "cols": {
    "lenName": 16,
    "lenType": 16,
    "lenVar": 40
   },
   "kernels_config": {
    "python": {
     "delete_cmd_postfix": "",
     "delete_cmd_prefix": "del ",
     "library": "var_list.py",
     "varRefreshCmd": "print(var_dic_list())"
    },
    "r": {
     "delete_cmd_postfix": ") ",
     "delete_cmd_prefix": "rm(",
     "library": "var_list.r",
     "varRefreshCmd": "cat(var_dic_list()) "
    }
   },
   "types_to_exclude": [
    "module",
    "function",
    "builtin_function_or_method",
    "instance",
    "_Feature"
   ],
   "window_display": false
  }
 },
 "nbformat": 4,
 "nbformat_minor": 2
}

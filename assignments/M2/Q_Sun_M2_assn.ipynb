{
 "cells": [
  {
   "cell_type": "markdown",
   "metadata": {
    "ExecuteTime": {
     "end_time": "2020-05-27T20:14:40.220953Z",
     "start_time": "2020-05-27T20:14:40.202933Z"
    }
   },
   "source": [
    "\n",
    "## DAV 6150 Module 2 Assignment\n",
    "\n",
    "\n",
    "-by Qi Sun\n",
    "\n",
    "***\n",
    "\n",
    "### Introduction:\n",
    "\n",
    "The purpose of this project is to examine  factors that can predict the net hourly electrical energy output of the plant. The dataset contains 9568 data points collected from a Combined Cycle Power Plant over 6 years (2006-2011), when the power plant was set to work with full load. \n",
    "\n",
    "**Research Question:**\n",
    "\n",
    "This study was guided by the research question - To what extent does independent variables predict the net hourly electrical energy output of the Plant?\n",
    "\n",
    "\n",
    "**Variables:**\n",
    "\n",
    "The following factors are used as independent variables:\n",
    "* Ambient Temperature (T)\n",
    "* Ambient Pressure (AP)\n",
    "* Relative Humidity (RH)  \n",
    "* Exhaust Vacuum (V)\n",
    "\n",
    "The dependent variable is net hourly electrical energy output of the Plant. \n",
    "\n",
    "\n",
    "**Procedures:**\n",
    "\n",
    "Here are main procedures of the analysis:\n",
    "- **Step 1**: Load data\n",
    "- **Step 2**: Perform Exploratory Data Analysis\n",
    "- **Step 3**: Conduct Linear Regression and model evaluation\n",
    "- **Step 4**: Conclusion\n",
    "\n",
    "> For Step 2, the main components of EDA include:\n",
    "- Understand variables\n",
    "- Clean dataset\n",
    "- Analyze relationships between variables\n",
    "\n",
    "> For Step 3, it consists of 3 stages:\n",
    "- (1) Construct linear regression models by using different features\n",
    "- (2) Model evaluation using 5-fold Cross Validation\n",
    "- (3) Choose the model with the highest average accuracy scores derived from the 5-fold process\n",
    "\n",
    "***"
   ]
  },
  {
   "cell_type": "code",
   "execution_count": 265,
   "metadata": {
    "ExecuteTime": {
     "end_time": "2020-05-30T18:57:58.671903Z",
     "start_time": "2020-05-30T18:57:58.128404Z"
    }
   },
   "outputs": [],
   "source": [
    "# Importing required libraries.\n",
    "\n",
    "import pandas as pd\n",
    "import numpy as np\n",
    "\n",
    "import seaborn as sns #visualisation\n",
    "import matplotlib.pyplot as plt #visualisation\n",
    "%matplotlib inline \n",
    "sns.set(color_codes=True)\n",
    "\n",
    "from sklearn import linear_model\n",
    "from sklearn.model_selection import cross_val_score\n",
    "from sklearn.model_selection import train_test_split\n",
    "from sklearn.linear_model import LinearRegression\n",
    "import statsmodels.api as sm\n"
   ]
  },
  {
   "cell_type": "markdown",
   "metadata": {},
   "source": [
    "***\n",
    "### Step 1: Load data into the data frame from GitHub\n",
    "\n",
    "`.head()` returns the first 5 rows of the dataset. \n",
    "\n",
    "`.tail()` returns the last 5 rows of the dataset. \n"
   ]
  },
  {
   "cell_type": "code",
   "execution_count": 81,
   "metadata": {
    "ExecuteTime": {
     "end_time": "2020-05-29T12:18:13.955045Z",
     "start_time": "2020-05-29T12:18:02.724668Z"
    }
   },
   "outputs": [
    {
     "data": {
      "text/html": [
       "<div>\n",
       "<style scoped>\n",
       "    .dataframe tbody tr th:only-of-type {\n",
       "        vertical-align: middle;\n",
       "    }\n",
       "\n",
       "    .dataframe tbody tr th {\n",
       "        vertical-align: top;\n",
       "    }\n",
       "\n",
       "    .dataframe thead th {\n",
       "        text-align: right;\n",
       "    }\n",
       "</style>\n",
       "<table border=\"1\" class=\"dataframe\">\n",
       "  <thead>\n",
       "    <tr style=\"text-align: right;\">\n",
       "      <th></th>\n",
       "      <th>T</th>\n",
       "      <th>V</th>\n",
       "      <th>AP</th>\n",
       "      <th>RH</th>\n",
       "      <th>EP</th>\n",
       "    </tr>\n",
       "  </thead>\n",
       "  <tbody>\n",
       "    <tr>\n",
       "      <th>0</th>\n",
       "      <td>14.96</td>\n",
       "      <td>41.76</td>\n",
       "      <td>1024.07</td>\n",
       "      <td>73.17</td>\n",
       "      <td>463.26</td>\n",
       "    </tr>\n",
       "    <tr>\n",
       "      <th>1</th>\n",
       "      <td>25.18</td>\n",
       "      <td>62.96</td>\n",
       "      <td>1020.04</td>\n",
       "      <td>59.08</td>\n",
       "      <td>444.37</td>\n",
       "    </tr>\n",
       "    <tr>\n",
       "      <th>2</th>\n",
       "      <td>5.11</td>\n",
       "      <td>39.40</td>\n",
       "      <td>1012.16</td>\n",
       "      <td>92.14</td>\n",
       "      <td>488.56</td>\n",
       "    </tr>\n",
       "    <tr>\n",
       "      <th>3</th>\n",
       "      <td>20.86</td>\n",
       "      <td>57.32</td>\n",
       "      <td>1010.24</td>\n",
       "      <td>76.64</td>\n",
       "      <td>446.48</td>\n",
       "    </tr>\n",
       "    <tr>\n",
       "      <th>4</th>\n",
       "      <td>10.82</td>\n",
       "      <td>37.50</td>\n",
       "      <td>1009.23</td>\n",
       "      <td>96.62</td>\n",
       "      <td>473.90</td>\n",
       "    </tr>\n",
       "  </tbody>\n",
       "</table>\n",
       "</div>"
      ],
      "text/plain": [
       "       T      V       AP     RH      EP\n",
       "0  14.96  41.76  1024.07  73.17  463.26\n",
       "1  25.18  62.96  1020.04  59.08  444.37\n",
       "2   5.11  39.40  1012.16  92.14  488.56\n",
       "3  20.86  57.32  1010.24  76.64  446.48\n",
       "4  10.82  37.50  1009.23  96.62  473.90"
      ]
     },
     "execution_count": 81,
     "metadata": {},
     "output_type": "execute_result"
    }
   ],
   "source": [
    "data = pd.read_csv(\"https://raw.githubusercontent.com/susanqisun/DAV-6150/master/assignments/M2/M2_Data.csv\")\n",
    "\n",
    "# To display the top 5 rows\n",
    "data.head()"
   ]
  },
  {
   "cell_type": "code",
   "execution_count": 180,
   "metadata": {
    "ExecuteTime": {
     "end_time": "2020-05-29T19:23:28.412244Z",
     "start_time": "2020-05-29T19:23:28.350891Z"
    }
   },
   "outputs": [
    {
     "data": {
      "text/html": [
       "<div>\n",
       "<style scoped>\n",
       "    .dataframe tbody tr th:only-of-type {\n",
       "        vertical-align: middle;\n",
       "    }\n",
       "\n",
       "    .dataframe tbody tr th {\n",
       "        vertical-align: top;\n",
       "    }\n",
       "\n",
       "    .dataframe thead th {\n",
       "        text-align: right;\n",
       "    }\n",
       "</style>\n",
       "<table border=\"1\" class=\"dataframe\">\n",
       "  <thead>\n",
       "    <tr style=\"text-align: right;\">\n",
       "      <th></th>\n",
       "      <th>T</th>\n",
       "      <th>V</th>\n",
       "      <th>AP</th>\n",
       "      <th>RH</th>\n",
       "      <th>EP</th>\n",
       "    </tr>\n",
       "  </thead>\n",
       "  <tbody>\n",
       "    <tr>\n",
       "      <th>9563</th>\n",
       "      <td>16.65</td>\n",
       "      <td>49.69</td>\n",
       "      <td>1014.01</td>\n",
       "      <td>91.00</td>\n",
       "      <td>460.03</td>\n",
       "    </tr>\n",
       "    <tr>\n",
       "      <th>9564</th>\n",
       "      <td>13.19</td>\n",
       "      <td>39.18</td>\n",
       "      <td>1023.67</td>\n",
       "      <td>66.78</td>\n",
       "      <td>469.62</td>\n",
       "    </tr>\n",
       "    <tr>\n",
       "      <th>9565</th>\n",
       "      <td>31.32</td>\n",
       "      <td>74.33</td>\n",
       "      <td>1012.92</td>\n",
       "      <td>36.48</td>\n",
       "      <td>429.57</td>\n",
       "    </tr>\n",
       "    <tr>\n",
       "      <th>9566</th>\n",
       "      <td>24.48</td>\n",
       "      <td>69.45</td>\n",
       "      <td>1013.86</td>\n",
       "      <td>62.39</td>\n",
       "      <td>435.74</td>\n",
       "    </tr>\n",
       "    <tr>\n",
       "      <th>9567</th>\n",
       "      <td>21.60</td>\n",
       "      <td>62.52</td>\n",
       "      <td>1017.23</td>\n",
       "      <td>67.87</td>\n",
       "      <td>453.28</td>\n",
       "    </tr>\n",
       "  </tbody>\n",
       "</table>\n",
       "</div>"
      ],
      "text/plain": [
       "          T      V       AP     RH      EP\n",
       "9563  16.65  49.69  1014.01  91.00  460.03\n",
       "9564  13.19  39.18  1023.67  66.78  469.62\n",
       "9565  31.32  74.33  1012.92  36.48  429.57\n",
       "9566  24.48  69.45  1013.86  62.39  435.74\n",
       "9567  21.60  62.52  1017.23  67.87  453.28"
      ]
     },
     "execution_count": 180,
     "metadata": {},
     "output_type": "execute_result"
    }
   ],
   "source": [
    "# To display the bottom 5 rows\n",
    "data.tail() "
   ]
  },
  {
   "cell_type": "markdown",
   "metadata": {},
   "source": [
    "***\n",
    "### Step 2: Exploratory Data Analysis\n",
    "\n",
    "In this case, the procedures of Exploratory Data Analysis consist of:\n",
    "1. Description of data\n",
    "2. Rename the columns\n",
    "3. Check the data types\n",
    "4. Check the missing or null values\n",
    "5. Detect and remove Outliers\n",
    "6. Check distribution\n",
    "7. Analyze relationships between variables\n",
    "\n",
    "\n",
    "#### 1. Description of data:\n",
    "`.shape` returns the number of rows by the number of columns for the dataset. My output was (9568, 5), meaning the dataset has 9568 rows and 5 columns.\n",
    "\n",
    "`.columns` returns the name of all of the columns in the dataset.\n",
    "\n",
    "`.nunique(axis=0)` returns the number of unique values for each variable.\n",
    "\n",
    "`.describe()` summarizes the count, mean, standard deviation, min, and max for numeric variables. \n"
   ]
  },
  {
   "cell_type": "code",
   "execution_count": 83,
   "metadata": {
    "ExecuteTime": {
     "end_time": "2020-05-29T12:18:23.295444Z",
     "start_time": "2020-05-29T12:18:23.283458Z"
    }
   },
   "outputs": [
    {
     "data": {
      "text/plain": [
       "(9568, 5)"
      ]
     },
     "execution_count": 83,
     "metadata": {},
     "output_type": "execute_result"
    }
   ],
   "source": [
    "# Size of the dataset:\n",
    "data.shape"
   ]
  },
  {
   "cell_type": "code",
   "execution_count": 84,
   "metadata": {
    "ExecuteTime": {
     "end_time": "2020-05-29T12:18:27.909560Z",
     "start_time": "2020-05-29T12:18:27.897093Z"
    }
   },
   "outputs": [
    {
     "data": {
      "text/plain": [
       "Index(['T', 'V', 'AP', 'RH', 'EP'], dtype='object')"
      ]
     },
     "execution_count": 84,
     "metadata": {},
     "output_type": "execute_result"
    }
   ],
   "source": [
    "# display column names\n",
    "data.columns"
   ]
  },
  {
   "cell_type": "code",
   "execution_count": 182,
   "metadata": {
    "ExecuteTime": {
     "end_time": "2020-05-29T19:26:51.033819Z",
     "start_time": "2020-05-29T19:26:51.009709Z"
    }
   },
   "outputs": [
    {
     "data": {
      "text/plain": [
       "T     2773\n",
       "V      634\n",
       "AP    2517\n",
       "RH    4546\n",
       "EP    4836\n",
       "dtype: int64"
      ]
     },
     "execution_count": 182,
     "metadata": {},
     "output_type": "execute_result"
    }
   ],
   "source": [
    "# unique value\n",
    "data.nunique(axis=0)"
   ]
  },
  {
   "cell_type": "code",
   "execution_count": 85,
   "metadata": {
    "ExecuteTime": {
     "end_time": "2020-05-29T12:18:32.386368Z",
     "start_time": "2020-05-29T12:18:32.289809Z"
    }
   },
   "outputs": [
    {
     "data": {
      "text/html": [
       "<div>\n",
       "<style scoped>\n",
       "    .dataframe tbody tr th:only-of-type {\n",
       "        vertical-align: middle;\n",
       "    }\n",
       "\n",
       "    .dataframe tbody tr th {\n",
       "        vertical-align: top;\n",
       "    }\n",
       "\n",
       "    .dataframe thead th {\n",
       "        text-align: right;\n",
       "    }\n",
       "</style>\n",
       "<table border=\"1\" class=\"dataframe\">\n",
       "  <thead>\n",
       "    <tr style=\"text-align: right;\">\n",
       "      <th></th>\n",
       "      <th>T</th>\n",
       "      <th>V</th>\n",
       "      <th>AP</th>\n",
       "      <th>RH</th>\n",
       "      <th>EP</th>\n",
       "    </tr>\n",
       "  </thead>\n",
       "  <tbody>\n",
       "    <tr>\n",
       "      <th>count</th>\n",
       "      <td>9568.000000</td>\n",
       "      <td>9568.000000</td>\n",
       "      <td>9568.000000</td>\n",
       "      <td>9568.000000</td>\n",
       "      <td>9568.000000</td>\n",
       "    </tr>\n",
       "    <tr>\n",
       "      <th>mean</th>\n",
       "      <td>19.651231</td>\n",
       "      <td>54.305804</td>\n",
       "      <td>1013.259078</td>\n",
       "      <td>73.308978</td>\n",
       "      <td>454.365009</td>\n",
       "    </tr>\n",
       "    <tr>\n",
       "      <th>std</th>\n",
       "      <td>7.452473</td>\n",
       "      <td>12.707893</td>\n",
       "      <td>5.938784</td>\n",
       "      <td>14.600269</td>\n",
       "      <td>17.066995</td>\n",
       "    </tr>\n",
       "    <tr>\n",
       "      <th>min</th>\n",
       "      <td>1.810000</td>\n",
       "      <td>25.360000</td>\n",
       "      <td>992.890000</td>\n",
       "      <td>25.560000</td>\n",
       "      <td>420.260000</td>\n",
       "    </tr>\n",
       "    <tr>\n",
       "      <th>25%</th>\n",
       "      <td>13.510000</td>\n",
       "      <td>41.740000</td>\n",
       "      <td>1009.100000</td>\n",
       "      <td>63.327500</td>\n",
       "      <td>439.750000</td>\n",
       "    </tr>\n",
       "    <tr>\n",
       "      <th>50%</th>\n",
       "      <td>20.345000</td>\n",
       "      <td>52.080000</td>\n",
       "      <td>1012.940000</td>\n",
       "      <td>74.975000</td>\n",
       "      <td>451.550000</td>\n",
       "    </tr>\n",
       "    <tr>\n",
       "      <th>75%</th>\n",
       "      <td>25.720000</td>\n",
       "      <td>66.540000</td>\n",
       "      <td>1017.260000</td>\n",
       "      <td>84.830000</td>\n",
       "      <td>468.430000</td>\n",
       "    </tr>\n",
       "    <tr>\n",
       "      <th>max</th>\n",
       "      <td>37.110000</td>\n",
       "      <td>81.560000</td>\n",
       "      <td>1033.300000</td>\n",
       "      <td>100.160000</td>\n",
       "      <td>495.760000</td>\n",
       "    </tr>\n",
       "  </tbody>\n",
       "</table>\n",
       "</div>"
      ],
      "text/plain": [
       "                 T            V           AP           RH           EP\n",
       "count  9568.000000  9568.000000  9568.000000  9568.000000  9568.000000\n",
       "mean     19.651231    54.305804  1013.259078    73.308978   454.365009\n",
       "std       7.452473    12.707893     5.938784    14.600269    17.066995\n",
       "min       1.810000    25.360000   992.890000    25.560000   420.260000\n",
       "25%      13.510000    41.740000  1009.100000    63.327500   439.750000\n",
       "50%      20.345000    52.080000  1012.940000    74.975000   451.550000\n",
       "75%      25.720000    66.540000  1017.260000    84.830000   468.430000\n",
       "max      37.110000    81.560000  1033.300000   100.160000   495.760000"
      ]
     },
     "execution_count": 85,
     "metadata": {},
     "output_type": "execute_result"
    }
   ],
   "source": [
    "# Statistical Summary of Numeric Variables:\n",
    "data.describe()"
   ]
  },
  {
   "cell_type": "markdown",
   "metadata": {},
   "source": [
    "#### 2. Renaming the columns\n",
    "\n",
    "The column names are confusing to read, so I just tweak their column names, which would improve the readability of the dataset."
   ]
  },
  {
   "cell_type": "code",
   "execution_count": 86,
   "metadata": {
    "ExecuteTime": {
     "end_time": "2020-05-29T12:18:43.500021Z",
     "start_time": "2020-05-29T12:18:43.466877Z"
    }
   },
   "outputs": [
    {
     "data": {
      "text/html": [
       "<div>\n",
       "<style scoped>\n",
       "    .dataframe tbody tr th:only-of-type {\n",
       "        vertical-align: middle;\n",
       "    }\n",
       "\n",
       "    .dataframe tbody tr th {\n",
       "        vertical-align: top;\n",
       "    }\n",
       "\n",
       "    .dataframe thead th {\n",
       "        text-align: right;\n",
       "    }\n",
       "</style>\n",
       "<table border=\"1\" class=\"dataframe\">\n",
       "  <thead>\n",
       "    <tr style=\"text-align: right;\">\n",
       "      <th></th>\n",
       "      <th>Temperature</th>\n",
       "      <th>ExhaustVacuum</th>\n",
       "      <th>AmbientPressure</th>\n",
       "      <th>RelativeHumidity</th>\n",
       "      <th>output</th>\n",
       "    </tr>\n",
       "  </thead>\n",
       "  <tbody>\n",
       "    <tr>\n",
       "      <th>0</th>\n",
       "      <td>14.96</td>\n",
       "      <td>41.76</td>\n",
       "      <td>1024.07</td>\n",
       "      <td>73.17</td>\n",
       "      <td>463.26</td>\n",
       "    </tr>\n",
       "    <tr>\n",
       "      <th>1</th>\n",
       "      <td>25.18</td>\n",
       "      <td>62.96</td>\n",
       "      <td>1020.04</td>\n",
       "      <td>59.08</td>\n",
       "      <td>444.37</td>\n",
       "    </tr>\n",
       "    <tr>\n",
       "      <th>2</th>\n",
       "      <td>5.11</td>\n",
       "      <td>39.40</td>\n",
       "      <td>1012.16</td>\n",
       "      <td>92.14</td>\n",
       "      <td>488.56</td>\n",
       "    </tr>\n",
       "    <tr>\n",
       "      <th>3</th>\n",
       "      <td>20.86</td>\n",
       "      <td>57.32</td>\n",
       "      <td>1010.24</td>\n",
       "      <td>76.64</td>\n",
       "      <td>446.48</td>\n",
       "    </tr>\n",
       "    <tr>\n",
       "      <th>4</th>\n",
       "      <td>10.82</td>\n",
       "      <td>37.50</td>\n",
       "      <td>1009.23</td>\n",
       "      <td>96.62</td>\n",
       "      <td>473.90</td>\n",
       "    </tr>\n",
       "  </tbody>\n",
       "</table>\n",
       "</div>"
      ],
      "text/plain": [
       "   Temperature  ExhaustVacuum  AmbientPressure  RelativeHumidity  output\n",
       "0        14.96          41.76          1024.07             73.17  463.26\n",
       "1        25.18          62.96          1020.04             59.08  444.37\n",
       "2         5.11          39.40          1012.16             92.14  488.56\n",
       "3        20.86          57.32          1010.24             76.64  446.48\n",
       "4        10.82          37.50          1009.23             96.62  473.90"
      ]
     },
     "execution_count": 86,
     "metadata": {},
     "output_type": "execute_result"
    }
   ],
   "source": [
    "# Renaming the column names\n",
    "df = data.rename(columns={'T': 'Temperature', \n",
    "                        'V': 'ExhaustVacuum', \n",
    "                        'AP': 'AmbientPressure', \n",
    "                        'RH': 'RelativeHumidity',\n",
    "                        'EP': 'output'})\n",
    "\n",
    "df.head(5)"
   ]
  },
  {
   "cell_type": "markdown",
   "metadata": {},
   "source": [
    "#### 3. Checking the types of data\n",
    "\n",
    "In this case, the types of data are already in integer format.\n"
   ]
  },
  {
   "cell_type": "code",
   "execution_count": 87,
   "metadata": {
    "ExecuteTime": {
     "end_time": "2020-05-29T12:18:47.515416Z",
     "start_time": "2020-05-29T12:18:47.506637Z"
    }
   },
   "outputs": [
    {
     "data": {
      "text/plain": [
       "Temperature         float64\n",
       "ExhaustVacuum       float64\n",
       "AmbientPressure     float64\n",
       "RelativeHumidity    float64\n",
       "output              float64\n",
       "dtype: object"
      ]
     },
     "execution_count": 87,
     "metadata": {},
     "output_type": "execute_result"
    }
   ],
   "source": [
    "# Checking the data type\n",
    "df.dtypes"
   ]
  },
  {
   "cell_type": "markdown",
   "metadata": {},
   "source": [
    "#### 4. Checking the missing or null values.\n",
    "\n",
    "There is no missing or null value, so I don't need to remove or replace any mssing/null values.\n"
   ]
  },
  {
   "cell_type": "code",
   "execution_count": 88,
   "metadata": {
    "ExecuteTime": {
     "end_time": "2020-05-29T12:18:50.158415Z",
     "start_time": "2020-05-29T12:18:50.149361Z"
    }
   },
   "outputs": [
    {
     "name": "stdout",
     "output_type": "stream",
     "text": [
      "Temperature         0\n",
      "ExhaustVacuum       0\n",
      "AmbientPressure     0\n",
      "RelativeHumidity    0\n",
      "output              0\n",
      "dtype: int64\n"
     ]
    }
   ],
   "source": [
    "# Finding the null values.\n",
    "print(df.isnull().sum())\n"
   ]
  },
  {
   "cell_type": "markdown",
   "metadata": {},
   "source": [
    "#### 5. Detecting and removing Outliers\n",
    "\n",
    "I use visualization tool - Box plot to discover outliers. If there is an outlier it will plotted as point in boxplot but other population will be grouped together and display as boxes.\n",
    "\n",
    "Shown below are the box plot of Temperature, Exhaust Vacuum, Ambient Pressure, Relative Humidity, and Net hourly electrical energy output of the Plant. You can see that there are a number of outliers for Ambient Pressure and for Relative Humidity.\n"
   ]
  },
  {
   "cell_type": "code",
   "execution_count": 27,
   "metadata": {
    "ExecuteTime": {
     "end_time": "2020-05-27T23:59:07.255055Z",
     "start_time": "2020-05-27T23:59:05.446339Z"
    }
   },
   "outputs": [
    {
     "data": {
      "text/plain": [
       "Text(0.5, 1.0, 'Box Plot of Net hourly electrical energy output')"
      ]
     },
     "execution_count": 27,
     "metadata": {},
     "output_type": "execute_result"
    },
    {
     "data": {
      "image/png": "[encoded data removed]",
      "text/plain": [
       "<Figure size 720x1296 with 5 Axes>"
      ]
     },
     "metadata": {
      "needs_background": "light"
     },
     "output_type": "display_data"
    }
   ],
   "source": [
    "plt.figure(figsize=(10,18))\n",
    "\n",
    "# Boxplot of Temperature\n",
    "plt.subplot(321)\n",
    "sns.boxplot(x=df['Temperature'])\n",
    "plt.title('Box Plot of Temperature')\n",
    "\n",
    "# Boxplot of Exhaust Vacuum \n",
    "plt.subplot(322)\n",
    "sns.boxplot(x=df['ExhaustVacuum'])\n",
    "plt.title('Box Plot of Exhaust Vacuum')\n",
    "\n",
    "# Boxplot of Ambient Pressure \n",
    "plt.subplot(323)\n",
    "sns.boxplot(x=df['AmbientPressure'])\n",
    "plt.title('Box Plot of Ambient Pressure')\n",
    "\n",
    "# Boxplot of Relative Humidity \n",
    "plt.subplot(324)\n",
    "sns.boxplot(x=df['RelativeHumidity'])\n",
    "plt.title('Box Plot of Relative Humidity')\n",
    "\n",
    "# Boxplot of Net hourly electrical energy output \n",
    "plt.subplot(325)\n",
    "sns.boxplot(x=df['output'])\n",
    "plt.title('Box Plot of Net hourly electrical energy output')\n"
   ]
  },
  {
   "cell_type": "markdown",
   "metadata": {},
   "source": [
    "The outlier removing that I am going to perform is called **IQR** (interquartile range) score technique. \n",
    "\n",
    "Reference: https://towardsdatascience.com/ways-to-detect-and-remove-the-outliers-404d16608dba\n",
    "\n",
    "Here we will get IQR for each column:"
   ]
  },
  {
   "cell_type": "code",
   "execution_count": 89,
   "metadata": {
    "ExecuteTime": {
     "end_time": "2020-05-29T12:19:01.885851Z",
     "start_time": "2020-05-29T12:19:01.862967Z"
    }
   },
   "outputs": [
    {
     "name": "stdout",
     "output_type": "stream",
     "text": [
      "Temperature         12.2100\n",
      "ExhaustVacuum       24.8000\n",
      "AmbientPressure      8.1600\n",
      "RelativeHumidity    21.5025\n",
      "output              28.6800\n",
      "dtype: float64\n"
     ]
    }
   ],
   "source": [
    "Q1 = df.quantile(0.25)\n",
    "Q3 = df.quantile(0.75)\n",
    "IQR = Q3 - Q1\n",
    "print(IQR)"
   ]
  },
  {
   "cell_type": "code",
   "execution_count": 90,
   "metadata": {
    "ExecuteTime": {
     "end_time": "2020-05-29T12:19:07.946821Z",
     "start_time": "2020-05-29T12:19:07.910197Z"
    }
   },
   "outputs": [
    {
     "data": {
      "text/plain": [
       "(9468, 5)"
      ]
     },
     "execution_count": 90,
     "metadata": {},
     "output_type": "execute_result"
    }
   ],
   "source": [
    "df02 = df[~((df < (Q1 - 1.5 * IQR)) |(df > (Q3 + 1.5 * IQR))).any(axis=1)]\n",
    "df02.shape"
   ]
  },
  {
   "cell_type": "code",
   "execution_count": 92,
   "metadata": {
    "ExecuteTime": {
     "end_time": "2020-05-29T12:19:12.334140Z",
     "start_time": "2020-05-29T12:19:12.287855Z"
    }
   },
   "outputs": [
    {
     "data": {
      "text/html": [
       "<div>\n",
       "<style scoped>\n",
       "    .dataframe tbody tr th:only-of-type {\n",
       "        vertical-align: middle;\n",
       "    }\n",
       "\n",
       "    .dataframe tbody tr th {\n",
       "        vertical-align: top;\n",
       "    }\n",
       "\n",
       "    .dataframe thead th {\n",
       "        text-align: right;\n",
       "    }\n",
       "</style>\n",
       "<table border=\"1\" class=\"dataframe\">\n",
       "  <thead>\n",
       "    <tr style=\"text-align: right;\">\n",
       "      <th></th>\n",
       "      <th>Temperature</th>\n",
       "      <th>ExhaustVacuum</th>\n",
       "      <th>AmbientPressure</th>\n",
       "      <th>RelativeHumidity</th>\n",
       "      <th>output</th>\n",
       "    </tr>\n",
       "  </thead>\n",
       "  <tbody>\n",
       "    <tr>\n",
       "      <th>count</th>\n",
       "      <td>9468.000000</td>\n",
       "      <td>9468.00000</td>\n",
       "      <td>9468.000000</td>\n",
       "      <td>9468.000000</td>\n",
       "      <td>9468.000000</td>\n",
       "    </tr>\n",
       "    <tr>\n",
       "      <th>mean</th>\n",
       "      <td>19.719883</td>\n",
       "      <td>54.41369</td>\n",
       "      <td>1013.148802</td>\n",
       "      <td>73.322083</td>\n",
       "      <td>454.209298</td>\n",
       "    </tr>\n",
       "    <tr>\n",
       "      <th>std</th>\n",
       "      <td>7.427311</td>\n",
       "      <td>12.70141</td>\n",
       "      <td>5.704623</td>\n",
       "      <td>14.551203</td>\n",
       "      <td>17.029285</td>\n",
       "    </tr>\n",
       "    <tr>\n",
       "      <th>min</th>\n",
       "      <td>1.810000</td>\n",
       "      <td>25.36000</td>\n",
       "      <td>996.870000</td>\n",
       "      <td>31.150000</td>\n",
       "      <td>420.260000</td>\n",
       "    </tr>\n",
       "    <tr>\n",
       "      <th>25%</th>\n",
       "      <td>13.577500</td>\n",
       "      <td>41.74000</td>\n",
       "      <td>1009.090000</td>\n",
       "      <td>63.285000</td>\n",
       "      <td>439.697500</td>\n",
       "    </tr>\n",
       "    <tr>\n",
       "      <th>50%</th>\n",
       "      <td>20.500000</td>\n",
       "      <td>52.72000</td>\n",
       "      <td>1012.900000</td>\n",
       "      <td>74.980000</td>\n",
       "      <td>451.210000</td>\n",
       "    </tr>\n",
       "    <tr>\n",
       "      <th>75%</th>\n",
       "      <td>25.760000</td>\n",
       "      <td>66.54000</td>\n",
       "      <td>1017.170000</td>\n",
       "      <td>84.840000</td>\n",
       "      <td>468.190000</td>\n",
       "    </tr>\n",
       "    <tr>\n",
       "      <th>max</th>\n",
       "      <td>37.110000</td>\n",
       "      <td>81.56000</td>\n",
       "      <td>1029.410000</td>\n",
       "      <td>100.160000</td>\n",
       "      <td>495.760000</td>\n",
       "    </tr>\n",
       "  </tbody>\n",
       "</table>\n",
       "</div>"
      ],
      "text/plain": [
       "       Temperature  ExhaustVacuum  AmbientPressure  RelativeHumidity  \\\n",
       "count  9468.000000     9468.00000      9468.000000       9468.000000   \n",
       "mean     19.719883       54.41369      1013.148802         73.322083   \n",
       "std       7.427311       12.70141         5.704623         14.551203   \n",
       "min       1.810000       25.36000       996.870000         31.150000   \n",
       "25%      13.577500       41.74000      1009.090000         63.285000   \n",
       "50%      20.500000       52.72000      1012.900000         74.980000   \n",
       "75%      25.760000       66.54000      1017.170000         84.840000   \n",
       "max      37.110000       81.56000      1029.410000        100.160000   \n",
       "\n",
       "            output  \n",
       "count  9468.000000  \n",
       "mean    454.209298  \n",
       "std      17.029285  \n",
       "min     420.260000  \n",
       "25%     439.697500  \n",
       "50%     451.210000  \n",
       "75%     468.190000  \n",
       "max     495.760000  "
      ]
     },
     "execution_count": 92,
     "metadata": {},
     "output_type": "execute_result"
    }
   ],
   "source": [
    "df02.describe()"
   ]
  },
  {
   "cell_type": "markdown",
   "metadata": {},
   "source": [
    "As seen above there were 100 rows were outliers and removed. \n",
    "\n",
    "Before removing outliers, the range of AmbientPressure is 992.89 - 1033.3.\n",
    "After outliers were removed, the range of AmbientPressure is 996.87 - 1029.42.\n",
    "\n",
    "For RelativeHumidity, the max is unchanged but the min was changed from 25.56 to 31.15.\n"
   ]
  },
  {
   "cell_type": "markdown",
   "metadata": {},
   "source": [
    "#### 6. Checking distribution - Histogram\n",
    "\n",
    "Next, I'll check the distribution of the data — Whether the data is normally distributed or if it’s skewed (to the left or right).\n",
    "\n",
    "Below are histograms of Temperature, Exhaust Vacuum, Ambient Pressure, Relative Humidity, and Net hourly electrical energy output of the Plant (output). \n",
    "\n",
    "- The Ambient Pressure is normal distribution.\n",
    "- The distribution of Relative Humidity has a negative skew (left-skewed distribution). The median is larger than the mean.\n",
    "- The distribution of electrical energy output of the Plant has a positive skew (right-skewed distribution). The mean is larger than the median.\n",
    "- The Temperature and Exhaust Vacuum are kind of normal distribution.\n",
    "\n",
    "\n"
   ]
  },
  {
   "cell_type": "code",
   "execution_count": 185,
   "metadata": {
    "ExecuteTime": {
     "end_time": "2020-05-29T22:29:09.665239Z",
     "start_time": "2020-05-29T22:29:06.270987Z"
    }
   },
   "outputs": [
    {
     "data": {
      "text/plain": [
       "array([[<matplotlib.axes._subplots.AxesSubplot object at 0x13bf36b90>,\n",
       "        <matplotlib.axes._subplots.AxesSubplot object at 0x13b17fb50>],\n",
       "       [<matplotlib.axes._subplots.AxesSubplot object at 0x13b0c3710>,\n",
       "        <matplotlib.axes._subplots.AxesSubplot object at 0x13ae57410>],\n",
       "       [<matplotlib.axes._subplots.AxesSubplot object at 0x13ad87a50>,\n",
       "        <matplotlib.axes._subplots.AxesSubplot object at 0x13aa183d0>]],\n",
       "      dtype=object)"
      ]
     },
     "execution_count": 185,
     "metadata": {},
     "output_type": "execute_result"
    },
    {
     "data": {
      "image/png": "[encoded data removed]",
      "text/plain": [
       "<Figure size 864x720 with 6 Axes>"
      ]
     },
     "metadata": {
      "needs_background": "light"
     },
     "output_type": "display_data"
    }
   ],
   "source": [
    "df02.hist(bins=50, color='lightsteelblue', figsize=(12,10))"
   ]
  },
  {
   "cell_type": "markdown",
   "metadata": {},
   "source": [
    "#### 7. Analyzing relationships between variables with two methods - `sns.heatmap()` and `sns.regplot`\n",
    "\n",
    "##### a. Correlation Matrix - Heat Map\n",
    "\n",
    "Correlation is a measurement that describes the relationship between two variables.\n",
    "\n",
    "Correlation matrix is a table that shows the Pearson correlation coefficients (Pearson's r) between many variables. I'll use `sns.heatmap()` to plot a correlation matrix of all of the variables in the dataset.\n"
   ]
  },
  {
   "cell_type": "code",
   "execution_count": 61,
   "metadata": {
    "ExecuteTime": {
     "end_time": "2020-05-28T02:13:03.049171Z",
     "start_time": "2020-05-28T02:13:02.371289Z"
    }
   },
   "outputs": [
    {
     "data": {
      "text/plain": [
       "Text(0.5, 1.0, 'Figure 6a: Correlations')"
      ]
     },
     "execution_count": 61,
     "metadata": {},
     "output_type": "execute_result"
    },
    {
     "data": {
      "image/png": "[encoded data removed]",
      "text/plain": [
       "<Figure size 432x288 with 2 Axes>"
      ]
     },
     "metadata": {
      "needs_background": "light"
     },
     "output_type": "display_data"
    }
   ],
   "source": [
    "# calculate correlation matrix\n",
    "corr = df02.corr()# plot the heatmap\n",
    "sns.heatmap(corr, xticklabels=corr.columns, yticklabels=corr.columns, \n",
    "            annot=True, cmap=sns.diverging_palette(220, 20, as_cmap=True))\n",
    "plt.title('Figure 6a: Correlations')\n"
   ]
  },
  {
   "cell_type": "markdown",
   "metadata": {},
   "source": [
    "##### b. Plots of Electric Energy Output of the Plant vs. Other Variables in the Dataset\n",
    "I'll use `sns.regplot` to display the relationships between independent variables and dependent variable.\n",
    "\n",
    "Seaborn calculates and plots a linear regression model fit, along with a translucent 95% confidence interval band. "
   ]
  },
  {
   "cell_type": "code",
   "execution_count": 197,
   "metadata": {
    "ExecuteTime": {
     "end_time": "2020-05-29T23:15:45.785095Z",
     "start_time": "2020-05-29T23:15:40.032311Z"
    }
   },
   "outputs": [
    {
     "data": {
      "text/plain": [
       "Text(0.5, 1.0, 'Figure 7.4: Relative Humidity vs. output')"
      ]
     },
     "execution_count": 197,
     "metadata": {},
     "output_type": "execute_result"
    },
    {
     "data": {
      "image/png": "[encoded data removed]",
      "text/plain": [
       "<Figure size 576x792 with 4 Axes>"
      ]
     },
     "metadata": {
      "needs_background": "light"
     },
     "output_type": "display_data"
    }
   ],
   "source": [
    "plt.figure(figsize=(8,11))\n",
    "\n",
    "# Plot a relationship between two variables\n",
    "plt.subplot(221)\n",
    "sns.regplot(x=\"Temperature\", y=\"output\",data=df02, scatter_kws = {'color': 'mediumorchid', 'alpha': 0.3}, line_kws = {'color': 'red','alpha': 0.3})\n",
    "plt.title('Figure 7.1: Temperature vs. output')\n",
    "\n",
    "plt.subplot(222)\n",
    "sns.regplot(x=\"ExhaustVacuum\", y=\"output\",data=df02, scatter_kws = {'color': 'mediumorchid', 'alpha': 0.3}, line_kws = {'color': 'red','alpha': 0.3})\n",
    "plt.title('Figure 7.2: Exhaust Vacuum vs. output')\n",
    "\n",
    "plt.subplot(223)\n",
    "sns.regplot(x=\"AmbientPressure\", y=\"output\",data=df02, scatter_kws = {'color': 'mediumseagreen', 'alpha': 0.3}, line_kws = {'color': '#CCCC00','alpha': 0.3})\n",
    "plt.title('Figure 7.3: AmbientPressure vs. output')\n",
    "\n",
    "plt.subplot(224)\n",
    "sns.regplot(x=\"RelativeHumidity\", y=\"output\",data=df02, scatter_kws = {'color': 'mediumseagreen', 'alpha': 0.3}, line_kws = {'color': '#CCCC00','alpha': 0.3})\n",
    "plt.title('Figure 7.4: Relative Humidity vs. output')\n"
   ]
  },
  {
   "cell_type": "markdown",
   "metadata": {},
   "source": [
    "##### Results: \n",
    "We can see that there is a positive correlation between electrical energy output of the Plant and Ambient Pressure (r=0.52), and a positive correlation between electrical energy output of the Plant and Relative Humidity (r=0.39) . \n",
    "More Ambient Pressure and more Relative Humidity will have more Net hourly electrical energy output of the Plant.\n",
    "\n",
    "We can also see that there is a negative correlation between electrical energy output of the Plant and Temperature (r= -0.95) — the higher the Temperature the less number of Net hourly electrical energy output of the Plant. Also, the electrical energy output of the Plant is negatively correlated with Exhaust Vacuum (r= -0.87) - the more Exhaust Vacuum the less number of Net hourly electrical energy output of the Plant.\n",
    "\n",
    "***"
   ]
  },
  {
   "cell_type": "markdown",
   "metadata": {},
   "source": [
    "### Step 3: Linear Regression - Multiple Linear Regression\n",
    "\n",
    "\n",
    "One of the requirement of this study is that models must include at least 2 explanatory variables. Therefore, I'll conduct multiple linear regression to predict the electrical energy output of the Plant :\n",
    "\n",
    "> $y = \\beta_0 + \\beta_1x_1 + ... + \\beta_nx_n$\n",
    "\n",
    "* $y$ is the response\n",
    "* $x_1 ... x_n$ is the features\n",
    "* $\\beta_0$ is the intercept\n",
    "* $\\beta_1 ... \\beta_n$ is the coefficients for x\n",
    "\n",
    "#### The procedures of this step include:\n",
    "- 1. Check for Multicollinearity\n",
    "- 2. Split data into training and testing subsets\n",
    "- 3. Model selection - Choose the Best Model using k-fold cross-validation\n",
    "- 4. Test the model to predict using the test dataset\n",
    "- 5. Use Statsmodels to get the best model's P-value, $R^2$, intercept, and coefficients.\n",
    "- 6. Use the final Model for Prediction\n"
   ]
  },
  {
   "cell_type": "markdown",
   "metadata": {},
   "source": [
    "#### 1. Check for Multicollinearity\n",
    "\n",
    "Multicollinearity refers to when your predictor variables are strongly correlated with each other. A key goal of regression analysis is to isolate the relationship between each independent variable and the dependent variable. Either one of strongly correlated variables should be removed from the regression model.\n",
    "\n",
    "**Correlation Matrix** is a good indicator of multicollinearity and indicate the need for further investigation. \n",
    "\n",
    "From the Correlation Matrix that I did above, Temperature and ExhaustVacuum are highly correlated with each other (r=0.84). Therefore, I need to delete either 'Temperature' or 'ExhaustVacuum' for the further regression analysis.\n",
    "\n"
   ]
  },
  {
   "cell_type": "markdown",
   "metadata": {},
   "source": [
    "#### 2. Split data into training and testing subsets\n",
    "\n",
    "Now I use the `train_test_split` function in order to make the split. The test_size=0.3 inside the function indicates the percentage of the data that should be held over for testing. It’s 70/30, 30% of the data for testing."
   ]
  },
  {
   "cell_type": "code",
   "execution_count": 193,
   "metadata": {
    "ExecuteTime": {
     "end_time": "2020-05-29T23:11:27.402066Z",
     "start_time": "2020-05-29T23:11:27.357169Z"
    }
   },
   "outputs": [],
   "source": [
    "# Create a copy of the dataset\n",
    "df03 = df02.copy()"
   ]
  },
  {
   "cell_type": "code",
   "execution_count": 194,
   "metadata": {
    "ExecuteTime": {
     "end_time": "2020-05-29T23:11:27.431874Z",
     "start_time": "2020-05-29T23:11:27.407321Z"
    }
   },
   "outputs": [],
   "source": [
    "# Create X and y\n",
    "feature_cols = ['Temperature','AmbientPressure','RelativeHumidity','ExhaustVacuum']\n",
    "\n",
    "X = df03[feature_cols]\n",
    "y = df03[['output']]\n"
   ]
  },
  {
   "cell_type": "code",
   "execution_count": 110,
   "metadata": {
    "ExecuteTime": {
     "end_time": "2020-05-29T14:53:15.289717Z",
     "start_time": "2020-05-29T14:53:15.276475Z"
    }
   },
   "outputs": [],
   "source": [
    "# Now split the data into training and testing subsets. \n",
    "X_train, X_test, y_train, y_test = train_test_split(X, y, test_size=0.3, random_state=12)\n"
   ]
  },
  {
   "cell_type": "code",
   "execution_count": 225,
   "metadata": {
    "ExecuteTime": {
     "end_time": "2020-05-30T02:50:01.632931Z",
     "start_time": "2020-05-30T02:50:01.608294Z"
    }
   },
   "outputs": [
    {
     "name": "stdout",
     "output_type": "stream",
     "text": [
      "Training dataset shape: (6627, 4) (6627, 1)\n",
      "Testing dataset shape: (2841, 4) (2841, 1)\n"
     ]
    }
   ],
   "source": [
    "# check the results\n",
    "print('Training dataset shape:', X_train.shape, y_train.shape)\n",
    "print('Testing dataset shape:', X_test.shape, y_test.shape)\n"
   ]
  },
  {
   "cell_type": "markdown",
   "metadata": {},
   "source": [
    "#### 3. Model selection - Choose the Best Model using k-fold cross-validation\n",
    "\n",
    "##### Requirements of constructing a regression model:\n",
    "1) include at least two explanatory variables; \n",
    "\n",
    "2) Temperature and ExhaustVacuum cannot exist in the same model since they are strongly correlated with each other (r=0.84);\n",
    "\n",
    "3) AmbientPressure and RelativeHumidity have the least correlations with the dependent variable, so I'll give up the model of AmbientPressure + RelativeHumidity.\n",
    "\n",
    "##### Models:\n",
    "\n",
    ">- model01 = Temperature + AmbientPressure + RelativeHumidity + ExhaustVacuum (Build full model on ALL features for comparison)\n",
    "\n",
    ">- model02 = Temperature + AmbientPressure + RelativeHumidity\n",
    ">- model03 = AmbientPressure + RelativeHumidity + ExhaustVacuum\n",
    ">- model04 = Temperature + AmbientPressure\n",
    ">- model05 = Temperature + RelativeHumidity\n",
    ">- model06 = AmbientPressure + ExhaustVacuum\n",
    "\n",
    "**k-fold cross-validation**. \n",
    "\n",
    "The `cross_val_score` is the function of the model selection and evaluate a score by cross-validation. I use **5-fold cross-validation model** that divides the training set into 5-folds and the model is trained a four-fold and tested on the last remaining fold. I'll use the average accuracy scores derived from the 5-fold process to compare the models and select the best model.\n",
    "\n",
    "There are some parameters in `cross_val_score` function. In this case:\n",
    "- The first parameter the estimator is equal to the LinearRegression. \n",
    "- The second and third parameter datasets are X_train and y_train, respectively because I apply the k-fold cross-validation method to the training dataset. \n",
    "- The fourth parameter is cv and it is equal to 5 and this means it gets 5 accuracies and actually enough to get a relevant idea of the model performance."
   ]
  },
  {
   "cell_type": "code",
   "execution_count": 258,
   "metadata": {
    "ExecuteTime": {
     "end_time": "2020-05-30T12:33:20.810401Z",
     "start_time": "2020-05-30T12:33:20.757353Z"
    }
   },
   "outputs": [
    {
     "name": "stdout",
     "output_type": "stream",
     "text": [
      "[0.9306996  0.92831826 0.92902656 0.92969396 0.92964883]\n",
      "Mean Accuracy: 0.929477443057206\n"
     ]
    }
   ],
   "source": [
    "# Build full model on ALL features, for comparison\n",
    "# model01 = Temperature + AmbientPressure + RelativeHumidity + ExhaustVacuum\n",
    "# Instantiate model\n",
    "model01 = LinearRegression()\n",
    "\n",
    "# fit the model using 5-fold cross validation\n",
    "scores01 = cross_val_score(model01, X_train, y_train, cv=5)\n",
    "\n",
    "# print out the accuracy metrics derived from the K-fold cross validation process\n",
    "print (scores01)\n",
    "\n",
    "# calculate the average accuracy across all 5 folds\n",
    "print('Mean Accuracy:', np.mean(scores01))\n"
   ]
  },
  {
   "cell_type": "code",
   "execution_count": 259,
   "metadata": {
    "ExecuteTime": {
     "end_time": "2020-05-30T12:33:32.499914Z",
     "start_time": "2020-05-30T12:33:32.445674Z"
    }
   },
   "outputs": [
    {
     "name": "stdout",
     "output_type": "stream",
     "text": [
      "[0.92642767 0.92115381 0.92085761 0.92360049 0.91956143]\n",
      "Mean Accuracy: 0.9223202049207881\n"
     ]
    }
   ],
   "source": [
    "# model02 = Temperature + AmbientPressure + RelativeHumidity\n",
    "X_train02 = X_train[['Temperature','AmbientPressure','RelativeHumidity']].copy()\n",
    "\n",
    "# Instantiate model\n",
    "model02 = LinearRegression()\n",
    "\n",
    "# fit the model using 5-fold cross validation\n",
    "scores02 = cross_val_score(model02, X_train02, y_train, cv=5)\n",
    "\n",
    "# print out the accuracy metrics derived from the K-fold cross validation process\n",
    "print (scores02)\n",
    "\n",
    "# calculate the average accuracy across all 5 folds\n",
    "print('Mean Accuracy:', np.mean(scores02))\n"
   ]
  },
  {
   "cell_type": "code",
   "execution_count": 260,
   "metadata": {
    "ExecuteTime": {
     "end_time": "2020-05-30T12:33:37.935012Z",
     "start_time": "2020-05-30T12:33:37.863852Z"
    }
   },
   "outputs": [
    {
     "name": "stdout",
     "output_type": "stream",
     "text": [
      "[0.79516175 0.80565264 0.80762323 0.79166379 0.8101526 ]\n",
      "Mean Accuracy: 0.8020508010227282\n"
     ]
    }
   ],
   "source": [
    "# model03 = AmbientPressure + RelativeHumidity + ExhaustVacuum\n",
    "X_train03 = X_train[['ExhaustVacuum','AmbientPressure','RelativeHumidity']].copy()\n",
    "\n",
    "# Instantiate model\n",
    "model03 = LinearRegression()\n",
    "\n",
    "# fit the model using 5-fold cross validation\n",
    "scores03 = cross_val_score(model03, X_train03, y_train, cv=5)\n",
    "\n",
    "# print out the accuracy metrics derived from the K-fold cross validation process\n",
    "print (scores03)\n",
    "\n",
    "# calculate the average accuracy across all 5 folds\n",
    "print('Mean Accuracy:', np.mean(scores03))"
   ]
  },
  {
   "cell_type": "code",
   "execution_count": 266,
   "metadata": {
    "ExecuteTime": {
     "end_time": "2020-05-30T19:22:19.749902Z",
     "start_time": "2020-05-30T19:22:19.428875Z"
    }
   },
   "outputs": [
    {
     "name": "stdout",
     "output_type": "stream",
     "text": [
      "[0.90582696 0.9044129  0.90113923 0.90292985 0.89536914]\n",
      "Mean Accuracy: 0.901935616244512\n"
     ]
    }
   ],
   "source": [
    "# model04 = Temperature + AmbientPressure\n",
    "X_train04 = X_train[['Temperature','AmbientPressure']].copy()\n",
    "\n",
    "# Instantiate model\n",
    "model04 = LinearRegression()\n",
    "\n",
    "# fit the model using 5-fold cross validation\n",
    "scores04 = cross_val_score(model04, X_train04, y_train, cv=5)\n",
    "\n",
    "# print out the accuracy metrics derived from the K-fold cross validation process\n",
    "print (scores04)\n",
    "\n",
    "# calculate the average accuracy across all 5 folds\n",
    "print('Mean Accuracy:', np.mean(scores04))\n"
   ]
  },
  {
   "cell_type": "code",
   "execution_count": 267,
   "metadata": {
    "ExecuteTime": {
     "end_time": "2020-05-30T19:22:55.669814Z",
     "start_time": "2020-05-30T19:22:55.538358Z"
    }
   },
   "outputs": [
    {
     "name": "stdout",
     "output_type": "stream",
     "text": [
      "[0.9262657  0.92087367 0.92113822 0.92331259 0.91966645]\n",
      "Mean Accuracy: 0.9222513255160536\n"
     ]
    }
   ],
   "source": [
    "# model05 = Temperature + RelativeHumidity\n",
    "X_train05 = X_train[['Temperature','RelativeHumidity']].copy()\n",
    "\n",
    "# Instantiate model\n",
    "model05 = LinearRegression()\n",
    "\n",
    "# fit the model using 5-fold cross validation\n",
    "scores05 = cross_val_score(model05, X_train05, y_train, cv=5)\n",
    "\n",
    "# print out the accuracy metrics derived from the K-fold cross validation process\n",
    "print (scores05)\n",
    "\n",
    "# calculate the average accuracy across all 5 folds\n",
    "print('Mean Accuracy:', np.mean(scores05))"
   ]
  },
  {
   "cell_type": "code",
   "execution_count": 268,
   "metadata": {
    "ExecuteTime": {
     "end_time": "2020-05-30T19:23:30.673669Z",
     "start_time": "2020-05-30T19:23:30.451050Z"
    }
   },
   "outputs": [
    {
     "name": "stdout",
     "output_type": "stream",
     "text": [
      "[0.77444408 0.78819441 0.78654572 0.78394335 0.79053702]\n",
      "Mean Accuracy: 0.7847329155738849\n"
     ]
    }
   ],
   "source": [
    "# model07 = AmbientPressure + ExhaustVacuum\n",
    "X_train06 = X_train[['AmbientPressure','ExhaustVacuum']].copy()\n",
    "\n",
    "# Instantiate model\n",
    "model06 = LinearRegression()\n",
    "\n",
    "# fit the model using 5-fold cross validation\n",
    "scores06 = cross_val_score(model06, X_train06, y_train, cv=5)\n",
    "\n",
    "# print out the accuracy metrics derived from the K-fold cross validation process\n",
    "print (scores06)\n",
    "\n",
    "# calculate the average accuracy across all 5 folds\n",
    "print('Mean Accuracy:', np.mean(scores06))"
   ]
  },
  {
   "cell_type": "code",
   "execution_count": 271,
   "metadata": {
    "ExecuteTime": {
     "end_time": "2020-05-30T19:26:06.634984Z",
     "start_time": "2020-05-30T19:26:06.605743Z"
    }
   },
   "outputs": [
    {
     "name": "stdout",
     "output_type": "stream",
     "text": [
      "model01-cross validated accuracy: 92.9477443057206 %\n",
      "model02-cross validated accuracy: 92.23202049207882 %\n",
      "model03-cross validated accuracy: 80.20508010227282 %\n",
      "model04-cross validated accuracy: 90.1935616244512 %\n",
      "model05-cross validated accuracy: 92.22513255160536 %\n",
      "model06-cross validated accuracy: 78.47329155738849 %\n"
     ]
    }
   ],
   "source": [
    "print('model01-cross validated accuracy:',np.mean(scores01)*100, '%')\n",
    "print('model02-cross validated accuracy:',np.mean(scores02)*100, '%')\n",
    "print('model03-cross validated accuracy:',np.mean(scores03)*100, '%')\n",
    "print('model04-cross validated accuracy:',np.mean(scores04)*100, '%')\n",
    "print('model05-cross validated accuracy:',np.mean(scores05)*100, '%')\n",
    "print('model06-cross validated accuracy:',np.mean(scores06)*100, '%')\n"
   ]
  },
  {
   "cell_type": "markdown",
   "metadata": {},
   "source": [
    "##### Results:\n",
    "1. Give up model01 - it has collinearity issue after checking the Correlation Matrix.\n",
    "2. Finally, I select model02 (Temperature + AmbientPressure + RelativeHumidity). The 5-fold cross validation shows that the model02 has a cross validated accuracy of 92.232%\n",
    "3. The model with predictor variables Temperature, Ambient Pressure & Relative Humidity produces the better energy output.\n",
    "\n"
   ]
  },
  {
   "cell_type": "markdown",
   "metadata": {},
   "source": [
    "#### 4. Test the model to predict using the test dataset"
   ]
  },
  {
   "cell_type": "code",
   "execution_count": 273,
   "metadata": {
    "ExecuteTime": {
     "end_time": "2020-05-30T19:34:27.836479Z",
     "start_time": "2020-05-30T19:34:25.290302Z"
    }
   },
   "outputs": [
    {
     "data": {
      "text/plain": [
       "Text(0, 0.5, 'Predictions')"
      ]
     },
     "execution_count": 273,
     "metadata": {},
     "output_type": "execute_result"
    },
    {
     "data": {
      "image/png": "[encoded data removed]",
      "text/plain": [
       "<Figure size 432x288 with 1 Axes>"
      ]
     },
     "metadata": {},
     "output_type": "display_data"
    }
   ],
   "source": [
    "X_test02 = X_test[['Temperature','AmbientPressure','RelativeHumidity']].copy()\n",
    "\n",
    "# Fit model\n",
    "model02.fit(X_train02, y_train) \n",
    "\n",
    "# Predict using test dataset\n",
    "y_pred = model02.predict(X_test02)\n",
    "\n",
    "#visualize the prediction\n",
    "plt.scatter(y_test,y_pred)\n",
    "\n",
    "plt.xlabel('True Values')\n",
    "plt.ylabel('Predictions')"
   ]
  },
  {
   "cell_type": "markdown",
   "metadata": {},
   "source": [
    "##### Result:\n",
    "The above figure shows a scatterplot for Predicted values vs. Actual values in the test dataset.\n",
    "To have a good fit, the plot should resemble a straight line at 45 degrees. As you see from the above plot, all the points are close to the line.\n"
   ]
  },
  {
   "cell_type": "markdown",
   "metadata": {},
   "source": [
    "\n",
    "#### 5. Use Statsmodels to rebuild model02 for P-value,  $R^2$, intercept, and coefficients."
   ]
  },
  {
   "cell_type": "code",
   "execution_count": 274,
   "metadata": {
    "ExecuteTime": {
     "end_time": "2020-05-30T19:37:34.582843Z",
     "start_time": "2020-05-30T19:37:34.338638Z"
    }
   },
   "outputs": [
    {
     "name": "stdout",
     "output_type": "stream",
     "text": [
      "                            OLS Regression Results                            \n",
      "==============================================================================\n",
      "Dep. Variable:                 output   R-squared:                       0.923\n",
      "Model:                            OLS   Adj. R-squared:                  0.923\n",
      "Method:                 Least Squares   F-statistic:                 2.630e+04\n",
      "Date:                Sat, 30 May 2020   Prob (F-statistic):               0.00\n",
      "Time:                        15:37:34   Log-Likelihood:                -19711.\n",
      "No. Observations:                6627   AIC:                         3.943e+04\n",
      "Df Residuals:                    6623   BIC:                         3.946e+04\n",
      "Df Model:                           3                                         \n",
      "Covariance Type:            nonrobust                                         \n",
      "====================================================================================\n",
      "                       coef    std err          t      P>|t|      [0.025      0.975]\n",
      "------------------------------------------------------------------------------------\n",
      "const              475.9409     12.458     38.203      0.000     451.519     500.363\n",
      "Temperature         -2.3718      0.011   -214.149      0.000      -2.393      -2.350\n",
      "AmbientPressure      0.0396      0.012      3.278      0.001       0.016       0.063\n",
      "RelativeHumidity    -0.2059      0.005    -41.703      0.000      -0.216      -0.196\n",
      "==============================================================================\n",
      "Omnibus:                      338.386   Durbin-Watson:                   2.029\n",
      "Prob(Omnibus):                  0.000   Jarque-Bera (JB):             1044.243\n",
      "Skew:                          -0.206   Prob(JB):                    1.76e-227\n",
      "Kurtosis:                       4.900   Cond. No.                     2.17e+05\n",
      "==============================================================================\n",
      "\n",
      "Warnings:\n",
      "[1] Standard Errors assume that the covariance matrix of the errors is correctly specified.\n",
      "[2] The condition number is large, 2.17e+05. This might indicate that there are\n",
      "strong multicollinearity or other numerical problems.\n"
     ]
    }
   ],
   "source": [
    "X_train04 = X_train[['Temperature','AmbientPressure','RelativeHumidity']].copy()\n",
    "\n",
    "X2 = sm.add_constant(X_train02)\n",
    "# create a fitted model\n",
    "est = sm.OLS(y_train, X2)\n",
    "est2 = est.fit()\n",
    "# displays a comprehensive table with statistical info generated by statsmodels\n",
    "print(est2.summary())"
   ]
  },
  {
   "cell_type": "markdown",
   "metadata": {},
   "source": [
    "##### Results:\n",
    "\n",
    "1. P < .05 - these independent variables statistically significantly predicted electrical energy output, p < .05\n",
    "2.  $R^2$ = .923 - all three variables explain 92.3% of the variability of the dependent variable\n",
    "3. $\\beta_0 $ (intercept) = 475.9409\n",
    "4. $\\beta_1 $ (coefficient of Temperature) = -2.3718\n",
    "5. $\\beta_2 $ (coefficient of AmbientPressure) = 0.0396\n",
    "6. $\\beta_3 $ (coefficient of RelativeHumidity) = -0.2059"
   ]
  },
  {
   "cell_type": "markdown",
   "metadata": {},
   "source": [
    "#### 6.Using the final Model for Prediction\n",
    "\n",
    "##### 1) Manually calculate the prediction\n",
    "\n",
    "$y = \\beta_0 + \\beta_1x_1 + ... + \\beta_nx_n$\n",
    "\n",
    "In this case:\n",
    "\n",
    "$y = \\beta_0 + \\beta_1 \\times Temperature + \\beta_2 \\times AmbientPressure + \\beta_3 \\times RelativeHumidity$\n",
    "\n",
    "> ## **Final Model:**\n",
    "\n",
    ">$Energy Output = 475.94 - 2.3718 \\times Temperature + 0.0396 \\times AmbientPressure - 0.2059 \\times RelativeHumidity$\n"
   ]
  },
  {
   "cell_type": "markdown",
   "metadata": {},
   "source": [
    "##### 2) Scikit-learn Prediction example"
   ]
  },
  {
   "cell_type": "code",
   "execution_count": null,
   "metadata": {},
   "outputs": [],
   "source": [
    "# define one new instance\n",
    "Xnew = [[Temperature_new, AmbientPressure_new, RelativeHumidity_new]]\n",
    "\n",
    "# predict for a new observation\n",
    "ynew = model_total.predict(X_new)\n"
   ]
  },
  {
   "cell_type": "markdown",
   "metadata": {},
   "source": [
    "***\n",
    "### Conclusion:\n",
    "\n",
    "#### Research Question: To what extent does independent variables predict the net hourly electrical energy output of the Plant ?\n",
    "\n",
    "A multiple linear regression was run to predict electrical energy output of the Plant from Temperature, Ambient Pressure, and Relative Humidity. These variables statistically significantly predicted electrical energy output, p < .05, $R^2$ = .923. All three variables explain 92.3% of the variability of the dependent variable - electrical energy output.\n",
    "\n",
    "Ambient Temperature and Relative Humidity are negatively correlated with the electrical energy output.\n",
    "Electrical energy output is reduced when the temperature is getting higher, because the air flow speed is reduced on a hot day. When the relative humidity increases, the air flow rate will decrease which would reduce the net energy output.\n",
    "\n",
    "Ambient pressure is positively correlated with the electrical energy output. More the ambient pressure more the air flow rate, which will positively affect the energy output effciency.\n",
    "\n",
    "\n",
    "Overall, Ambient Temperature is the most important variable for this linear model."
   ]
  },
  {
   "cell_type": "markdown",
   "metadata": {},
   "source": [
    "\n"
   ]
  }
 ],
 "metadata": {
  "kernelspec": {
   "display_name": "Python 3",
   "language": "python",
   "name": "python3"
  },
  "language_info": {
   "codemirror_mode": {
    "name": "ipython",
    "version": 3
   },
   "file_extension": ".py",
   "mimetype": "text/x-python",
   "name": "python",
   "nbconvert_exporter": "python",
   "pygments_lexer": "ipython3",
   "version": "3.7.4"
  },
  "varInspector": {
   "cols": {
    "lenName": 16,
    "lenType": 16,
    "lenVar": 40
   },
   "kernels_config": {
    "python": {
     "delete_cmd_postfix": "",
     "delete_cmd_prefix": "del ",
     "library": "var_list.py",
     "varRefreshCmd": "print(var_dic_list())"
    },
    "r": {
     "delete_cmd_postfix": ") ",
     "delete_cmd_prefix": "rm(",
     "library": "var_list.r",
     "varRefreshCmd": "cat(var_dic_list()) "
    }
   },
   "types_to_exclude": [
    "module",
    "function",
    "builtin_function_or_method",
    "instance",
    "_Feature"
   ],
   "window_display": false
  }
 },
 "nbformat": 4,
 "nbformat_minor": 2
}
